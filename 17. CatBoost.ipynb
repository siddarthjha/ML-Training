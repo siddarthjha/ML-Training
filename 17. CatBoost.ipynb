{
 "cells": [
  {
   "cell_type": "markdown",
   "id": "077526ea",
   "metadata": {},
   "source": [
    "# CatBoost"
   ]
  },
  {
   "cell_type": "code",
   "execution_count": null,
   "id": "64ca4394",
   "metadata": {},
   "outputs": [],
   "source": [
    "import pandas as pd \n",
    "from catboost import CatBoostClassifier\n",
    "from mypipes_linear import *\n",
    "from sklearn.model_selection import train_test_split\n",
    "import warnings \n",
    "warnings.filterwarnings('ignore')\n",
    "%matplotlib inline"
   ]
  },
  {
   "cell_type": "code",
   "execution_count": null,
   "id": "5109cb1b",
   "metadata": {},
   "outputs": [],
   "source": [
    "file=r'/Users/lalitsachan/Dropbox/0.0 Data/rg_train.csv'\n",
    "data=pd.read_csv(file)"
   ]
  },
  {
   "cell_type": "code",
   "execution_count": null,
   "id": "a2069725",
   "metadata": {},
   "outputs": [],
   "source": [
    "data.info()"
   ]
  },
  {
   "cell_type": "code",
   "execution_count": null,
   "id": "9aab20de",
   "metadata": {},
   "outputs": [],
   "source": [
    "num_vars=list(data.select_dtypes(exclude=['object']).columns)\n",
    "\n",
    "num_vars=[_ for _ in num_vars if _ not in ['REF_NO','Revenue.Grid']]"
   ]
  },
  {
   "cell_type": "code",
   "execution_count": null,
   "id": "6bf33386",
   "metadata": {},
   "outputs": [],
   "source": [
    "cat_vars=list(data.select_dtypes(include=['object']).columns)"
   ]
  },
  {
   "cell_type": "code",
   "execution_count": null,
   "id": "7e5d60c5",
   "metadata": {},
   "outputs": [],
   "source": [
    "cat_vars=[_ for _ in cat_vars if _ not in \n",
    "          ['children','age_band', 'post_code','post_area','family_income']]"
   ]
  },
  {
   "cell_type": "code",
   "execution_count": null,
   "id": "a7139a5d",
   "metadata": {},
   "outputs": [],
   "source": [
    "data_train,data_val=train_test_split(data,test_size=0.2,random_state=42)"
   ]
  },
  {
   "cell_type": "code",
   "execution_count": null,
   "id": "5e78f9ac",
   "metadata": {},
   "outputs": [],
   "source": [
    "p1=pdPipeline([\n",
    "    ('var_select',VarSelector(num_vars)),\n",
    "    ('missing_trt',DataFrameImputer())\n",
    "])\n",
    "\n",
    "p2=pdPipeline([\n",
    "    ('var_select',VarSelector(cat_vars)),\n",
    "    ('missing_trt',DataFrameImputer())\n",
    "])\n",
    "\n",
    "p3=pdPipeline([\n",
    "    ('var_select',VarSelector(['age_band'])),\n",
    "    ('custom_fico',custom_age_band()),\n",
    "    ('missing_trt',DataFrameImputer())\n",
    "])\n",
    "\n",
    "p4=pdPipeline([\n",
    "    ('var_select',VarSelector(['family_income'])),\n",
    "    ('custom_fico',custom_family_income()),\n",
    "    ('missing_trt',DataFrameImputer())\n",
    "])\n",
    "\n",
    "p5=pdPipeline([\n",
    "    ('var_select',VarSelector(['children'])),\n",
    "    ('string_clean1',string_clean(replace_it='Zero',replace_with='0')),\n",
    "    ('string_clean2',string_clean(replace_it='4+',replace_with='4')),\n",
    "    ('convert_to_numeric',convert_to_numeric()),\n",
    "    ('missing_trt',DataFrameImputer())\n",
    "])\n",
    "\n",
    "data_pipe=FeatureUnion([\n",
    "    ('num',p1),\n",
    "    ('cat_vars',p2),\n",
    "    ('age_band',p3),\n",
    "    ('family_income',p4),\n",
    "    ('children',p5)\n",
    "])"
   ]
  },
  {
   "cell_type": "code",
   "execution_count": null,
   "id": "23e318f1",
   "metadata": {},
   "outputs": [],
   "source": [
    "data_pipe.fit(data_train)"
   ]
  },
  {
   "cell_type": "code",
   "execution_count": null,
   "id": "9c2b06c1",
   "metadata": {},
   "outputs": [],
   "source": [
    "x_train=pd.DataFrame(data=data_pipe.transform(data_train),\n",
    "                     columns=data_pipe.get_feature_names())\n",
    "x_val=pd.DataFrame(data=data_pipe.transform(data_val),\n",
    "                     columns=data_pipe.get_feature_names())\n",
    "\n",
    "y_train=(data_train['Revenue.Grid']==1).astype(int)\n",
    "y_val=(data_val['Revenue.Grid']==1).astype(int)"
   ]
  },
  {
   "cell_type": "code",
   "execution_count": null,
   "id": "14fd6e49",
   "metadata": {},
   "outputs": [],
   "source": [
    "x_train.head()"
   ]
  },
  {
   "cell_type": "code",
   "execution_count": null,
   "id": "d4714b72",
   "metadata": {},
   "outputs": [],
   "source": [
    "cat_vars_cb=['cat_vars__'+_ for _ in cat_vars]"
   ]
  },
  {
   "cell_type": "code",
   "execution_count": null,
   "id": "8809aae8",
   "metadata": {},
   "outputs": [],
   "source": [
    "clf = CatBoostClassifier(\n",
    "    iterations=200,\n",
    "    random_seed=42,\n",
    "    learning_rate=0.5\n",
    ")\n",
    "\n",
    "clf.fit(\n",
    "    x_train, y_train,\n",
    "    cat_features=cat_vars_cb,\n",
    "    eval_set=(x_val, y_val),\n",
    "    plot=True\n",
    ")"
   ]
  },
  {
   "cell_type": "code",
   "execution_count": null,
   "id": "7c3f0f78",
   "metadata": {},
   "outputs": [],
   "source": [
    "clf.shrink(80)"
   ]
  },
  {
   "cell_type": "code",
   "execution_count": null,
   "id": "4b7f00a6",
   "metadata": {},
   "outputs": [],
   "source": [
    "from sklearn.metrics import roc_auc_score"
   ]
  },
  {
   "cell_type": "code",
   "execution_count": null,
   "id": "15c67ddb",
   "metadata": {},
   "outputs": [],
   "source": [
    "roc_auc_score(y_val,clf.predict_proba(x_val)[:,1])"
   ]
  },
  {
   "cell_type": "code",
   "execution_count": null,
   "id": "c75c1203",
   "metadata": {},
   "outputs": [],
   "source": []
  }
 ],
 "metadata": {
  "kernelspec": {
   "display_name": "Python 3",
   "language": "python",
   "name": "python3"
  },
  "language_info": {
   "codemirror_mode": {
    "name": "ipython",
    "version": 3
   },
   "file_extension": ".py",
   "mimetype": "text/x-python",
   "name": "python",
   "nbconvert_exporter": "python",
   "pygments_lexer": "ipython3",
   "version": "3.8.8"
  }
 },
 "nbformat": 4,
 "nbformat_minor": 5
}
