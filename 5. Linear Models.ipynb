{
 "cells": [
  {
   "cell_type": "markdown",
   "metadata": {},
   "source": [
    "# Linear Regression "
   ]
  },
  {
   "cell_type": "code",
   "execution_count": 1,
   "metadata": {},
   "outputs": [],
   "source": [
    "import warnings\n",
    "\n",
    "warnings.filterwarnings('ignore')\n",
    "\n",
    "import pandas as pd \n",
    "import numpy as np\n",
    "\n",
    "from sklearn.pipeline import Pipeline,FeatureUnion\n",
    "from sklearn.base import BaseEstimator, TransformerMixin\n",
    "\n",
    "\n",
    "from mypipes_linear import *"
   ]
  },
  {
   "cell_type": "code",
   "execution_count": 2,
   "metadata": {},
   "outputs": [],
   "source": [
    "train_file=r'/home/siddarth.jha@npci.org.in/Documents/Training/Data/loan_data_train.csv'\n",
    "test_file=r'/home/siddarth.jha@npci.org.in/Documents/Training/Data/loan_data_test.csv'\n",
    "\n",
    "ld_train=pd.read_csv(train_file)\n",
    "ld_test=pd.read_csv(test_file)               \n"
   ]
  },
  {
   "cell_type": "code",
   "execution_count": 3,
   "metadata": {},
   "outputs": [
    {
     "data": {
      "text/html": [
       "<div>\n",
       "<style scoped>\n",
       "    .dataframe tbody tr th:only-of-type {\n",
       "        vertical-align: middle;\n",
       "    }\n",
       "\n",
       "    .dataframe tbody tr th {\n",
       "        vertical-align: top;\n",
       "    }\n",
       "\n",
       "    .dataframe thead th {\n",
       "        text-align: right;\n",
       "    }\n",
       "</style>\n",
       "<table border=\"1\" class=\"dataframe\">\n",
       "  <thead>\n",
       "    <tr style=\"text-align: right;\">\n",
       "      <th></th>\n",
       "      <th>ID</th>\n",
       "      <th>Amount.Requested</th>\n",
       "      <th>Amount.Funded.By.Investors</th>\n",
       "      <th>Interest.Rate</th>\n",
       "      <th>Loan.Length</th>\n",
       "      <th>Loan.Purpose</th>\n",
       "      <th>Debt.To.Income.Ratio</th>\n",
       "      <th>State</th>\n",
       "      <th>Home.Ownership</th>\n",
       "      <th>Monthly.Income</th>\n",
       "      <th>FICO.Range</th>\n",
       "      <th>Open.CREDIT.Lines</th>\n",
       "      <th>Revolving.CREDIT.Balance</th>\n",
       "      <th>Inquiries.in.the.Last.6.Months</th>\n",
       "      <th>Employment.Length</th>\n",
       "    </tr>\n",
       "  </thead>\n",
       "  <tbody>\n",
       "    <tr>\n",
       "      <th>0</th>\n",
       "      <td>79542.0</td>\n",
       "      <td>25000</td>\n",
       "      <td>25000</td>\n",
       "      <td>18.49%</td>\n",
       "      <td>60 months</td>\n",
       "      <td>debt_consolidation</td>\n",
       "      <td>27.56%</td>\n",
       "      <td>VA</td>\n",
       "      <td>MORTGAGE</td>\n",
       "      <td>8606.56</td>\n",
       "      <td>720-724</td>\n",
       "      <td>11</td>\n",
       "      <td>15210</td>\n",
       "      <td>3.0</td>\n",
       "      <td>5 years</td>\n",
       "    </tr>\n",
       "    <tr>\n",
       "      <th>1</th>\n",
       "      <td>75473.0</td>\n",
       "      <td>19750</td>\n",
       "      <td>19750</td>\n",
       "      <td>17.27%</td>\n",
       "      <td>60 months</td>\n",
       "      <td>debt_consolidation</td>\n",
       "      <td>13.39%</td>\n",
       "      <td>NY</td>\n",
       "      <td>MORTGAGE</td>\n",
       "      <td>6737.50</td>\n",
       "      <td>710-714</td>\n",
       "      <td>14</td>\n",
       "      <td>19070</td>\n",
       "      <td>3.0</td>\n",
       "      <td>4 years</td>\n",
       "    </tr>\n",
       "    <tr>\n",
       "      <th>2</th>\n",
       "      <td>67265.0</td>\n",
       "      <td>2100</td>\n",
       "      <td>2100</td>\n",
       "      <td>14.33%</td>\n",
       "      <td>36 months</td>\n",
       "      <td>major_purchase</td>\n",
       "      <td>3.50%</td>\n",
       "      <td>LA</td>\n",
       "      <td>OWN</td>\n",
       "      <td>1000.00</td>\n",
       "      <td>690-694</td>\n",
       "      <td>13</td>\n",
       "      <td>893</td>\n",
       "      <td>1.0</td>\n",
       "      <td>&lt; 1 year</td>\n",
       "    </tr>\n",
       "    <tr>\n",
       "      <th>3</th>\n",
       "      <td>80167.0</td>\n",
       "      <td>28000</td>\n",
       "      <td>28000</td>\n",
       "      <td>16.29%</td>\n",
       "      <td>36 months</td>\n",
       "      <td>credit_card</td>\n",
       "      <td>19.62%</td>\n",
       "      <td>NV</td>\n",
       "      <td>MORTGAGE</td>\n",
       "      <td>7083.33</td>\n",
       "      <td>710-714</td>\n",
       "      <td>12</td>\n",
       "      <td>38194</td>\n",
       "      <td>1.0</td>\n",
       "      <td>10+ years</td>\n",
       "    </tr>\n",
       "    <tr>\n",
       "      <th>4</th>\n",
       "      <td>17240.0</td>\n",
       "      <td>24250</td>\n",
       "      <td>17431.82</td>\n",
       "      <td>12.23%</td>\n",
       "      <td>60 months</td>\n",
       "      <td>credit_card</td>\n",
       "      <td>23.79%</td>\n",
       "      <td>OH</td>\n",
       "      <td>MORTGAGE</td>\n",
       "      <td>5833.33</td>\n",
       "      <td>730-734</td>\n",
       "      <td>6</td>\n",
       "      <td>31061</td>\n",
       "      <td>2.0</td>\n",
       "      <td>10+ years</td>\n",
       "    </tr>\n",
       "  </tbody>\n",
       "</table>\n",
       "</div>"
      ],
      "text/plain": [
       "        ID Amount.Requested Amount.Funded.By.Investors Interest.Rate  \\\n",
       "0  79542.0            25000                      25000        18.49%   \n",
       "1  75473.0            19750                      19750        17.27%   \n",
       "2  67265.0             2100                       2100        14.33%   \n",
       "3  80167.0            28000                      28000        16.29%   \n",
       "4  17240.0            24250                   17431.82        12.23%   \n",
       "\n",
       "  Loan.Length        Loan.Purpose Debt.To.Income.Ratio State Home.Ownership  \\\n",
       "0   60 months  debt_consolidation               27.56%    VA       MORTGAGE   \n",
       "1   60 months  debt_consolidation               13.39%    NY       MORTGAGE   \n",
       "2   36 months      major_purchase                3.50%    LA            OWN   \n",
       "3   36 months         credit_card               19.62%    NV       MORTGAGE   \n",
       "4   60 months         credit_card               23.79%    OH       MORTGAGE   \n",
       "\n",
       "   Monthly.Income FICO.Range Open.CREDIT.Lines Revolving.CREDIT.Balance  \\\n",
       "0         8606.56    720-724                11                    15210   \n",
       "1         6737.50    710-714                14                    19070   \n",
       "2         1000.00    690-694                13                      893   \n",
       "3         7083.33    710-714                12                    38194   \n",
       "4         5833.33    730-734                 6                    31061   \n",
       "\n",
       "   Inquiries.in.the.Last.6.Months Employment.Length  \n",
       "0                             3.0           5 years  \n",
       "1                             3.0           4 years  \n",
       "2                             1.0          < 1 year  \n",
       "3                             1.0         10+ years  \n",
       "4                             2.0         10+ years  "
      ]
     },
     "execution_count": 3,
     "metadata": {},
     "output_type": "execute_result"
    }
   ],
   "source": [
    "ld_train.head()"
   ]
  },
  {
   "cell_type": "code",
   "execution_count": 4,
   "metadata": {},
   "outputs": [
    {
     "data": {
      "text/html": [
       "<div>\n",
       "<style scoped>\n",
       "    .dataframe tbody tr th:only-of-type {\n",
       "        vertical-align: middle;\n",
       "    }\n",
       "\n",
       "    .dataframe tbody tr th {\n",
       "        vertical-align: top;\n",
       "    }\n",
       "\n",
       "    .dataframe thead th {\n",
       "        text-align: right;\n",
       "    }\n",
       "</style>\n",
       "<table border=\"1\" class=\"dataframe\">\n",
       "  <thead>\n",
       "    <tr style=\"text-align: right;\">\n",
       "      <th></th>\n",
       "      <th>ID</th>\n",
       "      <th>Amount.Requested</th>\n",
       "      <th>Amount.Funded.By.Investors</th>\n",
       "      <th>Loan.Length</th>\n",
       "      <th>Loan.Purpose</th>\n",
       "      <th>Debt.To.Income.Ratio</th>\n",
       "      <th>State</th>\n",
       "      <th>Home.Ownership</th>\n",
       "      <th>Monthly.Income</th>\n",
       "      <th>FICO.Range</th>\n",
       "      <th>Open.CREDIT.Lines</th>\n",
       "      <th>Revolving.CREDIT.Balance</th>\n",
       "      <th>Inquiries.in.the.Last.6.Months</th>\n",
       "      <th>Employment.Length</th>\n",
       "    </tr>\n",
       "  </thead>\n",
       "  <tbody>\n",
       "    <tr>\n",
       "      <th>0</th>\n",
       "      <td>20093</td>\n",
       "      <td>5000</td>\n",
       "      <td>5000</td>\n",
       "      <td>60 months</td>\n",
       "      <td>moving</td>\n",
       "      <td>12.59%</td>\n",
       "      <td>NY</td>\n",
       "      <td>RENT</td>\n",
       "      <td>4416.67</td>\n",
       "      <td>690-694</td>\n",
       "      <td>13</td>\n",
       "      <td>7686</td>\n",
       "      <td>0</td>\n",
       "      <td>&lt; 1 year</td>\n",
       "    </tr>\n",
       "    <tr>\n",
       "      <th>1</th>\n",
       "      <td>62445</td>\n",
       "      <td>18000</td>\n",
       "      <td>18000</td>\n",
       "      <td>60 months</td>\n",
       "      <td>debt_consolidation</td>\n",
       "      <td>4.93%</td>\n",
       "      <td>CA</td>\n",
       "      <td>RENT</td>\n",
       "      <td>5258.50</td>\n",
       "      <td>710-714</td>\n",
       "      <td>6</td>\n",
       "      <td>11596</td>\n",
       "      <td>0</td>\n",
       "      <td>10+ years</td>\n",
       "    </tr>\n",
       "    <tr>\n",
       "      <th>2</th>\n",
       "      <td>65248</td>\n",
       "      <td>7200</td>\n",
       "      <td>7200</td>\n",
       "      <td>60 months</td>\n",
       "      <td>debt_consolidation</td>\n",
       "      <td>25.16%</td>\n",
       "      <td>LA</td>\n",
       "      <td>MORTGAGE</td>\n",
       "      <td>3750.00</td>\n",
       "      <td>750-754</td>\n",
       "      <td>13</td>\n",
       "      <td>7283</td>\n",
       "      <td>0</td>\n",
       "      <td>6 years</td>\n",
       "    </tr>\n",
       "    <tr>\n",
       "      <th>3</th>\n",
       "      <td>81822</td>\n",
       "      <td>7200</td>\n",
       "      <td>7200</td>\n",
       "      <td>36 months</td>\n",
       "      <td>debt_consolidation</td>\n",
       "      <td>17.27%</td>\n",
       "      <td>NY</td>\n",
       "      <td>MORTGAGE</td>\n",
       "      <td>3416.67</td>\n",
       "      <td>790-794</td>\n",
       "      <td>14</td>\n",
       "      <td>4838</td>\n",
       "      <td>0</td>\n",
       "      <td>10+ years</td>\n",
       "    </tr>\n",
       "    <tr>\n",
       "      <th>4</th>\n",
       "      <td>57923</td>\n",
       "      <td>22000</td>\n",
       "      <td>22000</td>\n",
       "      <td>60 months</td>\n",
       "      <td>debt_consolidation</td>\n",
       "      <td>18.28%</td>\n",
       "      <td>MI</td>\n",
       "      <td>MORTGAGE</td>\n",
       "      <td>6083.33</td>\n",
       "      <td>720-724</td>\n",
       "      <td>9</td>\n",
       "      <td>20181</td>\n",
       "      <td>0</td>\n",
       "      <td>8 years</td>\n",
       "    </tr>\n",
       "  </tbody>\n",
       "</table>\n",
       "</div>"
      ],
      "text/plain": [
       "      ID  Amount.Requested Amount.Funded.By.Investors Loan.Length  \\\n",
       "0  20093              5000                       5000   60 months   \n",
       "1  62445             18000                      18000   60 months   \n",
       "2  65248              7200                       7200   60 months   \n",
       "3  81822              7200                       7200   36 months   \n",
       "4  57923             22000                      22000   60 months   \n",
       "\n",
       "         Loan.Purpose Debt.To.Income.Ratio State Home.Ownership  \\\n",
       "0              moving               12.59%    NY           RENT   \n",
       "1  debt_consolidation                4.93%    CA           RENT   \n",
       "2  debt_consolidation               25.16%    LA       MORTGAGE   \n",
       "3  debt_consolidation               17.27%    NY       MORTGAGE   \n",
       "4  debt_consolidation               18.28%    MI       MORTGAGE   \n",
       "\n",
       "   Monthly.Income FICO.Range Open.CREDIT.Lines  Revolving.CREDIT.Balance  \\\n",
       "0         4416.67    690-694                13                      7686   \n",
       "1         5258.50    710-714                 6                     11596   \n",
       "2         3750.00    750-754                13                      7283   \n",
       "3         3416.67    790-794                14                      4838   \n",
       "4         6083.33    720-724                 9                     20181   \n",
       "\n",
       "   Inquiries.in.the.Last.6.Months Employment.Length  \n",
       "0                               0          < 1 year  \n",
       "1                               0         10+ years  \n",
       "2                               0           6 years  \n",
       "3                               0         10+ years  \n",
       "4                               0           8 years  "
      ]
     },
     "execution_count": 4,
     "metadata": {},
     "output_type": "execute_result"
    }
   ],
   "source": [
    "ld_test.head()"
   ]
  },
  {
   "cell_type": "code",
   "execution_count": 5,
   "metadata": {},
   "outputs": [
    {
     "name": "stdout",
     "output_type": "stream",
     "text": [
      "<class 'pandas.core.frame.DataFrame'>\n",
      "RangeIndex: 2200 entries, 0 to 2199\n",
      "Data columns (total 15 columns):\n",
      " #   Column                          Non-Null Count  Dtype  \n",
      "---  ------                          --------------  -----  \n",
      " 0   ID                              2199 non-null   float64\n",
      " 1   Amount.Requested                2199 non-null   object \n",
      " 2   Amount.Funded.By.Investors      2199 non-null   object \n",
      " 3   Interest.Rate                   2200 non-null   object \n",
      " 4   Loan.Length                     2199 non-null   object \n",
      " 5   Loan.Purpose                    2199 non-null   object \n",
      " 6   Debt.To.Income.Ratio            2199 non-null   object \n",
      " 7   State                           2199 non-null   object \n",
      " 8   Home.Ownership                  2199 non-null   object \n",
      " 9   Monthly.Income                  2197 non-null   float64\n",
      " 10  FICO.Range                      2200 non-null   object \n",
      " 11  Open.CREDIT.Lines               2196 non-null   object \n",
      " 12  Revolving.CREDIT.Balance        2197 non-null   object \n",
      " 13  Inquiries.in.the.Last.6.Months  2197 non-null   float64\n",
      " 14  Employment.Length               2131 non-null   object \n",
      "dtypes: float64(3), object(12)\n",
      "memory usage: 257.9+ KB\n"
     ]
    }
   ],
   "source": [
    "ld_train.info()"
   ]
  },
  {
   "cell_type": "code",
   "execution_count": 6,
   "metadata": {},
   "outputs": [
    {
     "data": {
      "text/html": [
       "<div>\n",
       "<style scoped>\n",
       "    .dataframe tbody tr th:only-of-type {\n",
       "        vertical-align: middle;\n",
       "    }\n",
       "\n",
       "    .dataframe tbody tr th {\n",
       "        vertical-align: top;\n",
       "    }\n",
       "\n",
       "    .dataframe thead th {\n",
       "        text-align: right;\n",
       "    }\n",
       "</style>\n",
       "<table border=\"1\" class=\"dataframe\">\n",
       "  <thead>\n",
       "    <tr style=\"text-align: right;\">\n",
       "      <th></th>\n",
       "      <th>ID</th>\n",
       "      <th>Amount.Requested</th>\n",
       "      <th>Amount.Funded.By.Investors</th>\n",
       "      <th>Interest.Rate</th>\n",
       "      <th>Loan.Length</th>\n",
       "      <th>Loan.Purpose</th>\n",
       "      <th>Debt.To.Income.Ratio</th>\n",
       "      <th>State</th>\n",
       "      <th>Home.Ownership</th>\n",
       "      <th>Monthly.Income</th>\n",
       "      <th>FICO.Range</th>\n",
       "      <th>Open.CREDIT.Lines</th>\n",
       "      <th>Revolving.CREDIT.Balance</th>\n",
       "      <th>Inquiries.in.the.Last.6.Months</th>\n",
       "      <th>Employment.Length</th>\n",
       "    </tr>\n",
       "  </thead>\n",
       "  <tbody>\n",
       "    <tr>\n",
       "      <th>515</th>\n",
       "      <td>53780.0</td>\n",
       "      <td>12500</td>\n",
       "      <td>12475</td>\n",
       "      <td>6.03%</td>\n",
       "      <td>36 months</td>\n",
       "      <td>car</td>\n",
       "      <td>14.82%</td>\n",
       "      <td>FL</td>\n",
       "      <td>RENT</td>\n",
       "      <td>4944.92</td>\n",
       "      <td>755-759</td>\n",
       "      <td>11</td>\n",
       "      <td>6014</td>\n",
       "      <td>0.0</td>\n",
       "      <td>2 years</td>\n",
       "    </tr>\n",
       "    <tr>\n",
       "      <th>597</th>\n",
       "      <td>46870.0</td>\n",
       "      <td>14600</td>\n",
       "      <td>14600</td>\n",
       "      <td>9.76%</td>\n",
       "      <td>36 months</td>\n",
       "      <td>credit_card</td>\n",
       "      <td>29.51%</td>\n",
       "      <td>FL</td>\n",
       "      <td>OWN</td>\n",
       "      <td>2500.00</td>\n",
       "      <td>730-734</td>\n",
       "      <td>14</td>\n",
       "      <td>23616</td>\n",
       "      <td>1.0</td>\n",
       "      <td>2 years</td>\n",
       "    </tr>\n",
       "    <tr>\n",
       "      <th>1398</th>\n",
       "      <td>76797.0</td>\n",
       "      <td>32550</td>\n",
       "      <td>32550</td>\n",
       "      <td>6.62%</td>\n",
       "      <td>36 months</td>\n",
       "      <td>debt_consolidation</td>\n",
       "      <td>8.52%</td>\n",
       "      <td>IL</td>\n",
       "      <td>MORTGAGE</td>\n",
       "      <td>9166.67</td>\n",
       "      <td>805-809</td>\n",
       "      <td>9</td>\n",
       "      <td>2670</td>\n",
       "      <td>0.0</td>\n",
       "      <td>10+ years</td>\n",
       "    </tr>\n",
       "    <tr>\n",
       "      <th>13</th>\n",
       "      <td>47011.0</td>\n",
       "      <td>3600</td>\n",
       "      <td>3600</td>\n",
       "      <td>13.67%</td>\n",
       "      <td>36 months</td>\n",
       "      <td>other</td>\n",
       "      <td>16.41%</td>\n",
       "      <td>CA</td>\n",
       "      <td>MORTGAGE</td>\n",
       "      <td>5113.00</td>\n",
       "      <td>690-694</td>\n",
       "      <td>10</td>\n",
       "      <td>715</td>\n",
       "      <td>1.0</td>\n",
       "      <td>NaN</td>\n",
       "    </tr>\n",
       "    <tr>\n",
       "      <th>206</th>\n",
       "      <td>33155.0</td>\n",
       "      <td>14000</td>\n",
       "      <td>14000</td>\n",
       "      <td>16.77%</td>\n",
       "      <td>36 months</td>\n",
       "      <td>credit_card</td>\n",
       "      <td>9.67%</td>\n",
       "      <td>FL</td>\n",
       "      <td>MORTGAGE</td>\n",
       "      <td>12083.33</td>\n",
       "      <td>670-674</td>\n",
       "      <td>13</td>\n",
       "      <td>28318</td>\n",
       "      <td>0.0</td>\n",
       "      <td>&lt; 1 year</td>\n",
       "    </tr>\n",
       "    <tr>\n",
       "      <th>754</th>\n",
       "      <td>23644.0</td>\n",
       "      <td>2700</td>\n",
       "      <td>2700</td>\n",
       "      <td>5.79%</td>\n",
       "      <td>36 months</td>\n",
       "      <td>debt_consolidation</td>\n",
       "      <td>19.81%</td>\n",
       "      <td>OH</td>\n",
       "      <td>MORTGAGE</td>\n",
       "      <td>3958.33</td>\n",
       "      <td>750-754</td>\n",
       "      <td>14</td>\n",
       "      <td>13159</td>\n",
       "      <td>1.0</td>\n",
       "      <td>8 years</td>\n",
       "    </tr>\n",
       "    <tr>\n",
       "      <th>348</th>\n",
       "      <td>46097.0</td>\n",
       "      <td>6400</td>\n",
       "      <td>6400</td>\n",
       "      <td>10.74%</td>\n",
       "      <td>36 months</td>\n",
       "      <td>debt_consolidation</td>\n",
       "      <td>19.23%</td>\n",
       "      <td>DC</td>\n",
       "      <td>RENT</td>\n",
       "      <td>3833.33</td>\n",
       "      <td>690-694</td>\n",
       "      <td>13</td>\n",
       "      <td>10451</td>\n",
       "      <td>0.0</td>\n",
       "      <td>&lt; 1 year</td>\n",
       "    </tr>\n",
       "    <tr>\n",
       "      <th>720</th>\n",
       "      <td>82160.0</td>\n",
       "      <td>9500</td>\n",
       "      <td>9500</td>\n",
       "      <td>12.12%</td>\n",
       "      <td>36 months</td>\n",
       "      <td>debt_consolidation</td>\n",
       "      <td>24.06%</td>\n",
       "      <td>MO</td>\n",
       "      <td>MORTGAGE</td>\n",
       "      <td>2519.17</td>\n",
       "      <td>705-709</td>\n",
       "      <td>7</td>\n",
       "      <td>8673</td>\n",
       "      <td>1.0</td>\n",
       "      <td>10+ years</td>\n",
       "    </tr>\n",
       "    <tr>\n",
       "      <th>110</th>\n",
       "      <td>16667.0</td>\n",
       "      <td>3000</td>\n",
       "      <td>.</td>\n",
       "      <td>17.44%</td>\n",
       "      <td>36 months</td>\n",
       "      <td>other</td>\n",
       "      <td>15.79%</td>\n",
       "      <td>MD</td>\n",
       "      <td>RENT</td>\n",
       "      <td>7952.00</td>\n",
       "      <td>660-664</td>\n",
       "      <td>4</td>\n",
       "      <td>12578</td>\n",
       "      <td>0.0</td>\n",
       "      <td>8 years</td>\n",
       "    </tr>\n",
       "    <tr>\n",
       "      <th>1336</th>\n",
       "      <td>18161.0</td>\n",
       "      <td>8000</td>\n",
       "      <td>8000</td>\n",
       "      <td>14.09%</td>\n",
       "      <td>36 months</td>\n",
       "      <td>home_improvement</td>\n",
       "      <td>7.68%</td>\n",
       "      <td>IL</td>\n",
       "      <td>RENT</td>\n",
       "      <td>25000.00</td>\n",
       "      <td>675-679</td>\n",
       "      <td>6</td>\n",
       "      <td>28579</td>\n",
       "      <td>1.0</td>\n",
       "      <td>8 years</td>\n",
       "    </tr>\n",
       "  </tbody>\n",
       "</table>\n",
       "</div>"
      ],
      "text/plain": [
       "           ID Amount.Requested Amount.Funded.By.Investors Interest.Rate  \\\n",
       "515   53780.0            12500                      12475         6.03%   \n",
       "597   46870.0            14600                      14600         9.76%   \n",
       "1398  76797.0            32550                      32550         6.62%   \n",
       "13    47011.0             3600                       3600        13.67%   \n",
       "206   33155.0            14000                      14000        16.77%   \n",
       "754   23644.0             2700                       2700         5.79%   \n",
       "348   46097.0             6400                       6400        10.74%   \n",
       "720   82160.0             9500                       9500        12.12%   \n",
       "110   16667.0             3000                          .        17.44%   \n",
       "1336  18161.0             8000                       8000        14.09%   \n",
       "\n",
       "     Loan.Length        Loan.Purpose Debt.To.Income.Ratio State  \\\n",
       "515    36 months                 car               14.82%    FL   \n",
       "597    36 months         credit_card               29.51%    FL   \n",
       "1398   36 months  debt_consolidation                8.52%    IL   \n",
       "13     36 months               other               16.41%    CA   \n",
       "206    36 months         credit_card                9.67%    FL   \n",
       "754    36 months  debt_consolidation               19.81%    OH   \n",
       "348    36 months  debt_consolidation               19.23%    DC   \n",
       "720    36 months  debt_consolidation               24.06%    MO   \n",
       "110    36 months               other               15.79%    MD   \n",
       "1336   36 months    home_improvement                7.68%    IL   \n",
       "\n",
       "     Home.Ownership  Monthly.Income FICO.Range Open.CREDIT.Lines  \\\n",
       "515            RENT         4944.92    755-759                11   \n",
       "597             OWN         2500.00    730-734                14   \n",
       "1398       MORTGAGE         9166.67    805-809                 9   \n",
       "13         MORTGAGE         5113.00    690-694                10   \n",
       "206        MORTGAGE        12083.33    670-674                13   \n",
       "754        MORTGAGE         3958.33    750-754                14   \n",
       "348            RENT         3833.33    690-694                13   \n",
       "720        MORTGAGE         2519.17    705-709                 7   \n",
       "110            RENT         7952.00    660-664                 4   \n",
       "1336           RENT        25000.00    675-679                 6   \n",
       "\n",
       "     Revolving.CREDIT.Balance  Inquiries.in.the.Last.6.Months  \\\n",
       "515                      6014                             0.0   \n",
       "597                     23616                             1.0   \n",
       "1398                     2670                             0.0   \n",
       "13                        715                             1.0   \n",
       "206                     28318                             0.0   \n",
       "754                     13159                             1.0   \n",
       "348                     10451                             0.0   \n",
       "720                      8673                             1.0   \n",
       "110                     12578                             0.0   \n",
       "1336                    28579                             1.0   \n",
       "\n",
       "     Employment.Length  \n",
       "515            2 years  \n",
       "597            2 years  \n",
       "1398         10+ years  \n",
       "13                 NaN  \n",
       "206           < 1 year  \n",
       "754            8 years  \n",
       "348           < 1 year  \n",
       "720          10+ years  \n",
       "110            8 years  \n",
       "1336           8 years  "
      ]
     },
     "execution_count": 6,
     "metadata": {},
     "output_type": "execute_result"
    }
   ],
   "source": [
    "ld_train.sample(10)\n",
    "\n",
    "# drop columns : Amount.Funded.By.Investors , ID, Interest.Rate\n",
    "\n",
    "#1 Amount requested : convert it to numeric\n",
    "\n",
    "#2 Loan Length : create dummies with frequency cutoff 20\n",
    "\n",
    "#3 Loan.Purpose : dummies with freq cutoff\n",
    "\n",
    "#4  Debt.To.Income.Ratio : remove % and then convert to numeric\n",
    "\n",
    "#5  State: dummies with frequency cutoff\n",
    "\n",
    "#6 Home.Ownership : dummies with frequency cutoff\n",
    "\n",
    "#7 Monthly Income : as is\n",
    "\n",
    "#8 FICO.Range : break a-b , in to a ,b , convert them to numeric \n",
    "# then create new column fico=0.5*(a+b) and then drop the original FICO.Range\n",
    "\n",
    "#9 Open Credit Lines : convert to numeric\n",
    "\n",
    "#10 Revolving Credit balance : convert it to numeric \n",
    "\n",
    "#11 inquiries in the last 6 months : as is\n",
    "\n",
    "#12 Employment.Length : create dummies with frequency cutoff"
   ]
  },
  {
   "cell_type": "code",
   "execution_count": 7,
   "metadata": {},
   "outputs": [],
   "source": [
    "p1=pdPipeline([\n",
    "    ('var_select',VarSelector(['Amount.Requested','Open.CREDIT.Lines','Revolving.CREDIT.Balance'])),\n",
    "    ('convert_to_numeric',convert_to_numeric()),\n",
    "    ('missing_trt',DataFrameImputer())\n",
    "])\n",
    "\n",
    "p2=pdPipeline([\n",
    "    ('var_select',VarSelector(['Debt.To.Income.Ratio'])),\n",
    "    ('string_clean',string_clean(replace_it='%',replace_with='')),\n",
    "    ('convert_to_numeric',convert_to_numeric()),\n",
    "    ('missing_trt',DataFrameImputer())\n",
    "])\n",
    "\n",
    "p3=pdPipeline([\n",
    "    ('var_select',VarSelector(['Loan.Length', 'Loan.Purpose','State','Home.Ownership'])),\n",
    "    ('missing_trt',DataFrameImputer()),\n",
    "    ('create_dummies',get_dummies_Pipe(20))\n",
    "])\n",
    "\n",
    "p4=pdPipeline([\n",
    "    ('var_select',VarSelector(['Monthly.Income','Inquiries.in.the.Last.6.Months'])),\n",
    "    ('missing_trt',DataFrameImputer())\n",
    "])\n",
    "\n",
    "p5=pdPipeline([\n",
    "    ('var_select',VarSelector(['FICO.Range'])),\n",
    "    ('custom_fico',custom_fico()),\n",
    "    ('missing_trt',DataFrameImputer())\n",
    "])\n",
    "\n",
    "p6 = pdPipeline([\n",
    "    ('var_select', VarSelector(['Employment.Length'])),\n",
    "    ('custom_El', custom_El()),\n",
    "    ('convert_to_numeric',convert_to_numeric()),\n",
    "    ('missing_trt', DataFrameImputer())\n",
    "])\n",
    "\n",
    "data_pipe=FeatureUnion([\n",
    "    ('obj_to_num',p1),\n",
    "    ('dtir',p2),\n",
    "    ('obj_to_dum',p3),\n",
    "    ('num',p4),\n",
    "    ('fico',p5),\n",
    "    ('el', p6)\n",
    "])"
   ]
  },
  {
   "cell_type": "code",
   "execution_count": 8,
   "metadata": {},
   "outputs": [],
   "source": [
    "x_train=pd.DataFrame(data=data_pipe.fit_transform(ld_train),\n",
    "                     columns=data_pipe.get_feature_names())"
   ]
  },
  {
   "cell_type": "code",
   "execution_count": 9,
   "metadata": {},
   "outputs": [
    {
     "data": {
      "text/plain": [
       "(2200, 49)"
      ]
     },
     "execution_count": 9,
     "metadata": {},
     "output_type": "execute_result"
    }
   ],
   "source": [
    "x_train.shape"
   ]
  },
  {
   "cell_type": "code",
   "execution_count": 10,
   "metadata": {},
   "outputs": [
    {
     "data": {
      "text/html": [
       "<div>\n",
       "<style scoped>\n",
       "    .dataframe tbody tr th:only-of-type {\n",
       "        vertical-align: middle;\n",
       "    }\n",
       "\n",
       "    .dataframe tbody tr th {\n",
       "        vertical-align: top;\n",
       "    }\n",
       "\n",
       "    .dataframe thead th {\n",
       "        text-align: right;\n",
       "    }\n",
       "</style>\n",
       "<table border=\"1\" class=\"dataframe\">\n",
       "  <thead>\n",
       "    <tr style=\"text-align: right;\">\n",
       "      <th></th>\n",
       "      <th>obj_to_num__Amount.Requested</th>\n",
       "      <th>obj_to_num__Open.CREDIT.Lines</th>\n",
       "      <th>obj_to_num__Revolving.CREDIT.Balance</th>\n",
       "      <th>dtir__Debt.To.Income.Ratio</th>\n",
       "      <th>obj_to_dum__Loan.Length_36 months</th>\n",
       "      <th>obj_to_dum__Loan.Length_60 months</th>\n",
       "      <th>obj_to_dum__Loan.Purpose_debt_consolidation</th>\n",
       "      <th>obj_to_dum__Loan.Purpose_credit_card</th>\n",
       "      <th>obj_to_dum__Loan.Purpose_other</th>\n",
       "      <th>obj_to_dum__Loan.Purpose_home_improvement</th>\n",
       "      <th>...</th>\n",
       "      <th>obj_to_dum__State_WI</th>\n",
       "      <th>obj_to_dum__State_OR</th>\n",
       "      <th>obj_to_dum__State_KS</th>\n",
       "      <th>obj_to_dum__Home.Ownership_MORTGAGE</th>\n",
       "      <th>obj_to_dum__Home.Ownership_RENT</th>\n",
       "      <th>obj_to_dum__Home.Ownership_OWN</th>\n",
       "      <th>num__Monthly.Income</th>\n",
       "      <th>num__Inquiries.in.the.Last.6.Months</th>\n",
       "      <th>fico__fico</th>\n",
       "      <th>el__El</th>\n",
       "    </tr>\n",
       "  </thead>\n",
       "  <tbody>\n",
       "    <tr>\n",
       "      <th>0</th>\n",
       "      <td>25000.0</td>\n",
       "      <td>11.0</td>\n",
       "      <td>15210.0</td>\n",
       "      <td>27.56</td>\n",
       "      <td>0.0</td>\n",
       "      <td>1.0</td>\n",
       "      <td>1.0</td>\n",
       "      <td>0.0</td>\n",
       "      <td>0.0</td>\n",
       "      <td>0.0</td>\n",
       "      <td>...</td>\n",
       "      <td>0.0</td>\n",
       "      <td>0.0</td>\n",
       "      <td>0.0</td>\n",
       "      <td>1.0</td>\n",
       "      <td>0.0</td>\n",
       "      <td>0.0</td>\n",
       "      <td>8606.56</td>\n",
       "      <td>3.0</td>\n",
       "      <td>722.0</td>\n",
       "      <td>5.0</td>\n",
       "    </tr>\n",
       "    <tr>\n",
       "      <th>1</th>\n",
       "      <td>19750.0</td>\n",
       "      <td>14.0</td>\n",
       "      <td>19070.0</td>\n",
       "      <td>13.39</td>\n",
       "      <td>0.0</td>\n",
       "      <td>1.0</td>\n",
       "      <td>1.0</td>\n",
       "      <td>0.0</td>\n",
       "      <td>0.0</td>\n",
       "      <td>0.0</td>\n",
       "      <td>...</td>\n",
       "      <td>0.0</td>\n",
       "      <td>0.0</td>\n",
       "      <td>0.0</td>\n",
       "      <td>1.0</td>\n",
       "      <td>0.0</td>\n",
       "      <td>0.0</td>\n",
       "      <td>6737.50</td>\n",
       "      <td>3.0</td>\n",
       "      <td>712.0</td>\n",
       "      <td>4.0</td>\n",
       "    </tr>\n",
       "    <tr>\n",
       "      <th>2</th>\n",
       "      <td>2100.0</td>\n",
       "      <td>13.0</td>\n",
       "      <td>893.0</td>\n",
       "      <td>3.50</td>\n",
       "      <td>1.0</td>\n",
       "      <td>0.0</td>\n",
       "      <td>0.0</td>\n",
       "      <td>0.0</td>\n",
       "      <td>0.0</td>\n",
       "      <td>0.0</td>\n",
       "      <td>...</td>\n",
       "      <td>0.0</td>\n",
       "      <td>0.0</td>\n",
       "      <td>0.0</td>\n",
       "      <td>0.0</td>\n",
       "      <td>0.0</td>\n",
       "      <td>1.0</td>\n",
       "      <td>1000.00</td>\n",
       "      <td>1.0</td>\n",
       "      <td>692.0</td>\n",
       "      <td>0.0</td>\n",
       "    </tr>\n",
       "    <tr>\n",
       "      <th>3</th>\n",
       "      <td>28000.0</td>\n",
       "      <td>12.0</td>\n",
       "      <td>38194.0</td>\n",
       "      <td>19.62</td>\n",
       "      <td>1.0</td>\n",
       "      <td>0.0</td>\n",
       "      <td>0.0</td>\n",
       "      <td>1.0</td>\n",
       "      <td>0.0</td>\n",
       "      <td>0.0</td>\n",
       "      <td>...</td>\n",
       "      <td>0.0</td>\n",
       "      <td>0.0</td>\n",
       "      <td>0.0</td>\n",
       "      <td>1.0</td>\n",
       "      <td>0.0</td>\n",
       "      <td>0.0</td>\n",
       "      <td>7083.33</td>\n",
       "      <td>1.0</td>\n",
       "      <td>712.0</td>\n",
       "      <td>10.0</td>\n",
       "    </tr>\n",
       "    <tr>\n",
       "      <th>4</th>\n",
       "      <td>24250.0</td>\n",
       "      <td>6.0</td>\n",
       "      <td>31061.0</td>\n",
       "      <td>23.79</td>\n",
       "      <td>0.0</td>\n",
       "      <td>1.0</td>\n",
       "      <td>0.0</td>\n",
       "      <td>1.0</td>\n",
       "      <td>0.0</td>\n",
       "      <td>0.0</td>\n",
       "      <td>...</td>\n",
       "      <td>0.0</td>\n",
       "      <td>0.0</td>\n",
       "      <td>0.0</td>\n",
       "      <td>1.0</td>\n",
       "      <td>0.0</td>\n",
       "      <td>0.0</td>\n",
       "      <td>5833.33</td>\n",
       "      <td>2.0</td>\n",
       "      <td>732.0</td>\n",
       "      <td>10.0</td>\n",
       "    </tr>\n",
       "    <tr>\n",
       "      <th>...</th>\n",
       "      <td>...</td>\n",
       "      <td>...</td>\n",
       "      <td>...</td>\n",
       "      <td>...</td>\n",
       "      <td>...</td>\n",
       "      <td>...</td>\n",
       "      <td>...</td>\n",
       "      <td>...</td>\n",
       "      <td>...</td>\n",
       "      <td>...</td>\n",
       "      <td>...</td>\n",
       "      <td>...</td>\n",
       "      <td>...</td>\n",
       "      <td>...</td>\n",
       "      <td>...</td>\n",
       "      <td>...</td>\n",
       "      <td>...</td>\n",
       "      <td>...</td>\n",
       "      <td>...</td>\n",
       "      <td>...</td>\n",
       "      <td>...</td>\n",
       "    </tr>\n",
       "    <tr>\n",
       "      <th>2195</th>\n",
       "      <td>30000.0</td>\n",
       "      <td>16.0</td>\n",
       "      <td>17969.0</td>\n",
       "      <td>12.10</td>\n",
       "      <td>0.0</td>\n",
       "      <td>1.0</td>\n",
       "      <td>0.0</td>\n",
       "      <td>0.0</td>\n",
       "      <td>1.0</td>\n",
       "      <td>0.0</td>\n",
       "      <td>...</td>\n",
       "      <td>0.0</td>\n",
       "      <td>0.0</td>\n",
       "      <td>0.0</td>\n",
       "      <td>1.0</td>\n",
       "      <td>0.0</td>\n",
       "      <td>0.0</td>\n",
       "      <td>7083.33</td>\n",
       "      <td>1.0</td>\n",
       "      <td>677.0</td>\n",
       "      <td>10.0</td>\n",
       "    </tr>\n",
       "    <tr>\n",
       "      <th>2196</th>\n",
       "      <td>4200.0</td>\n",
       "      <td>4.0</td>\n",
       "      <td>5718.0</td>\n",
       "      <td>14.16</td>\n",
       "      <td>0.0</td>\n",
       "      <td>1.0</td>\n",
       "      <td>0.0</td>\n",
       "      <td>0.0</td>\n",
       "      <td>0.0</td>\n",
       "      <td>0.0</td>\n",
       "      <td>...</td>\n",
       "      <td>0.0</td>\n",
       "      <td>0.0</td>\n",
       "      <td>0.0</td>\n",
       "      <td>0.0</td>\n",
       "      <td>1.0</td>\n",
       "      <td>0.0</td>\n",
       "      <td>3850.00</td>\n",
       "      <td>0.0</td>\n",
       "      <td>702.0</td>\n",
       "      <td>2.0</td>\n",
       "    </tr>\n",
       "    <tr>\n",
       "      <th>2197</th>\n",
       "      <td>19800.0</td>\n",
       "      <td>10.0</td>\n",
       "      <td>46879.0</td>\n",
       "      <td>15.03</td>\n",
       "      <td>0.0</td>\n",
       "      <td>1.0</td>\n",
       "      <td>1.0</td>\n",
       "      <td>0.0</td>\n",
       "      <td>0.0</td>\n",
       "      <td>0.0</td>\n",
       "      <td>...</td>\n",
       "      <td>0.0</td>\n",
       "      <td>0.0</td>\n",
       "      <td>0.0</td>\n",
       "      <td>1.0</td>\n",
       "      <td>0.0</td>\n",
       "      <td>0.0</td>\n",
       "      <td>6666.67</td>\n",
       "      <td>3.0</td>\n",
       "      <td>677.0</td>\n",
       "      <td>6.0</td>\n",
       "    </tr>\n",
       "    <tr>\n",
       "      <th>2198</th>\n",
       "      <td>18000.0</td>\n",
       "      <td>5.0</td>\n",
       "      <td>32394.0</td>\n",
       "      <td>11.63</td>\n",
       "      <td>0.0</td>\n",
       "      <td>1.0</td>\n",
       "      <td>0.0</td>\n",
       "      <td>1.0</td>\n",
       "      <td>0.0</td>\n",
       "      <td>0.0</td>\n",
       "      <td>...</td>\n",
       "      <td>0.0</td>\n",
       "      <td>0.0</td>\n",
       "      <td>0.0</td>\n",
       "      <td>0.0</td>\n",
       "      <td>1.0</td>\n",
       "      <td>0.0</td>\n",
       "      <td>9051.83</td>\n",
       "      <td>2.0</td>\n",
       "      <td>672.0</td>\n",
       "      <td>4.0</td>\n",
       "    </tr>\n",
       "    <tr>\n",
       "      <th>2199</th>\n",
       "      <td>7550.0</td>\n",
       "      <td>10.0</td>\n",
       "      <td>10204.0</td>\n",
       "      <td>3.83</td>\n",
       "      <td>1.0</td>\n",
       "      <td>0.0</td>\n",
       "      <td>1.0</td>\n",
       "      <td>0.0</td>\n",
       "      <td>0.0</td>\n",
       "      <td>0.0</td>\n",
       "      <td>...</td>\n",
       "      <td>0.0</td>\n",
       "      <td>0.0</td>\n",
       "      <td>0.0</td>\n",
       "      <td>1.0</td>\n",
       "      <td>0.0</td>\n",
       "      <td>0.0</td>\n",
       "      <td>8333.33</td>\n",
       "      <td>0.0</td>\n",
       "      <td>712.0</td>\n",
       "      <td>2.0</td>\n",
       "    </tr>\n",
       "  </tbody>\n",
       "</table>\n",
       "<p>2200 rows × 49 columns</p>\n",
       "</div>"
      ],
      "text/plain": [
       "      obj_to_num__Amount.Requested  obj_to_num__Open.CREDIT.Lines  \\\n",
       "0                          25000.0                           11.0   \n",
       "1                          19750.0                           14.0   \n",
       "2                           2100.0                           13.0   \n",
       "3                          28000.0                           12.0   \n",
       "4                          24250.0                            6.0   \n",
       "...                            ...                            ...   \n",
       "2195                       30000.0                           16.0   \n",
       "2196                        4200.0                            4.0   \n",
       "2197                       19800.0                           10.0   \n",
       "2198                       18000.0                            5.0   \n",
       "2199                        7550.0                           10.0   \n",
       "\n",
       "      obj_to_num__Revolving.CREDIT.Balance  dtir__Debt.To.Income.Ratio  \\\n",
       "0                                  15210.0                       27.56   \n",
       "1                                  19070.0                       13.39   \n",
       "2                                    893.0                        3.50   \n",
       "3                                  38194.0                       19.62   \n",
       "4                                  31061.0                       23.79   \n",
       "...                                    ...                         ...   \n",
       "2195                               17969.0                       12.10   \n",
       "2196                                5718.0                       14.16   \n",
       "2197                               46879.0                       15.03   \n",
       "2198                               32394.0                       11.63   \n",
       "2199                               10204.0                        3.83   \n",
       "\n",
       "      obj_to_dum__Loan.Length_36 months  obj_to_dum__Loan.Length_60 months  \\\n",
       "0                                   0.0                                1.0   \n",
       "1                                   0.0                                1.0   \n",
       "2                                   1.0                                0.0   \n",
       "3                                   1.0                                0.0   \n",
       "4                                   0.0                                1.0   \n",
       "...                                 ...                                ...   \n",
       "2195                                0.0                                1.0   \n",
       "2196                                0.0                                1.0   \n",
       "2197                                0.0                                1.0   \n",
       "2198                                0.0                                1.0   \n",
       "2199                                1.0                                0.0   \n",
       "\n",
       "      obj_to_dum__Loan.Purpose_debt_consolidation  \\\n",
       "0                                             1.0   \n",
       "1                                             1.0   \n",
       "2                                             0.0   \n",
       "3                                             0.0   \n",
       "4                                             0.0   \n",
       "...                                           ...   \n",
       "2195                                          0.0   \n",
       "2196                                          0.0   \n",
       "2197                                          1.0   \n",
       "2198                                          0.0   \n",
       "2199                                          1.0   \n",
       "\n",
       "      obj_to_dum__Loan.Purpose_credit_card  obj_to_dum__Loan.Purpose_other  \\\n",
       "0                                      0.0                             0.0   \n",
       "1                                      0.0                             0.0   \n",
       "2                                      0.0                             0.0   \n",
       "3                                      1.0                             0.0   \n",
       "4                                      1.0                             0.0   \n",
       "...                                    ...                             ...   \n",
       "2195                                   0.0                             1.0   \n",
       "2196                                   0.0                             0.0   \n",
       "2197                                   0.0                             0.0   \n",
       "2198                                   1.0                             0.0   \n",
       "2199                                   0.0                             0.0   \n",
       "\n",
       "      obj_to_dum__Loan.Purpose_home_improvement  ...  obj_to_dum__State_WI  \\\n",
       "0                                           0.0  ...                   0.0   \n",
       "1                                           0.0  ...                   0.0   \n",
       "2                                           0.0  ...                   0.0   \n",
       "3                                           0.0  ...                   0.0   \n",
       "4                                           0.0  ...                   0.0   \n",
       "...                                         ...  ...                   ...   \n",
       "2195                                        0.0  ...                   0.0   \n",
       "2196                                        0.0  ...                   0.0   \n",
       "2197                                        0.0  ...                   0.0   \n",
       "2198                                        0.0  ...                   0.0   \n",
       "2199                                        0.0  ...                   0.0   \n",
       "\n",
       "      obj_to_dum__State_OR  obj_to_dum__State_KS  \\\n",
       "0                      0.0                   0.0   \n",
       "1                      0.0                   0.0   \n",
       "2                      0.0                   0.0   \n",
       "3                      0.0                   0.0   \n",
       "4                      0.0                   0.0   \n",
       "...                    ...                   ...   \n",
       "2195                   0.0                   0.0   \n",
       "2196                   0.0                   0.0   \n",
       "2197                   0.0                   0.0   \n",
       "2198                   0.0                   0.0   \n",
       "2199                   0.0                   0.0   \n",
       "\n",
       "      obj_to_dum__Home.Ownership_MORTGAGE  obj_to_dum__Home.Ownership_RENT  \\\n",
       "0                                     1.0                              0.0   \n",
       "1                                     1.0                              0.0   \n",
       "2                                     0.0                              0.0   \n",
       "3                                     1.0                              0.0   \n",
       "4                                     1.0                              0.0   \n",
       "...                                   ...                              ...   \n",
       "2195                                  1.0                              0.0   \n",
       "2196                                  0.0                              1.0   \n",
       "2197                                  1.0                              0.0   \n",
       "2198                                  0.0                              1.0   \n",
       "2199                                  1.0                              0.0   \n",
       "\n",
       "      obj_to_dum__Home.Ownership_OWN  num__Monthly.Income  \\\n",
       "0                                0.0              8606.56   \n",
       "1                                0.0              6737.50   \n",
       "2                                1.0              1000.00   \n",
       "3                                0.0              7083.33   \n",
       "4                                0.0              5833.33   \n",
       "...                              ...                  ...   \n",
       "2195                             0.0              7083.33   \n",
       "2196                             0.0              3850.00   \n",
       "2197                             0.0              6666.67   \n",
       "2198                             0.0              9051.83   \n",
       "2199                             0.0              8333.33   \n",
       "\n",
       "      num__Inquiries.in.the.Last.6.Months  fico__fico  el__El  \n",
       "0                                     3.0       722.0     5.0  \n",
       "1                                     3.0       712.0     4.0  \n",
       "2                                     1.0       692.0     0.0  \n",
       "3                                     1.0       712.0    10.0  \n",
       "4                                     2.0       732.0    10.0  \n",
       "...                                   ...         ...     ...  \n",
       "2195                                  1.0       677.0    10.0  \n",
       "2196                                  0.0       702.0     2.0  \n",
       "2197                                  3.0       677.0     6.0  \n",
       "2198                                  2.0       672.0     4.0  \n",
       "2199                                  0.0       712.0     2.0  \n",
       "\n",
       "[2200 rows x 49 columns]"
      ]
     },
     "execution_count": 10,
     "metadata": {},
     "output_type": "execute_result"
    }
   ],
   "source": [
    "x_train"
   ]
  },
  {
   "cell_type": "code",
   "execution_count": 11,
   "metadata": {},
   "outputs": [],
   "source": [
    "x_test=pd.DataFrame(data=data_pipe.transform(ld_test),\n",
    "                     columns=data_pipe.get_feature_names())"
   ]
  },
  {
   "cell_type": "code",
   "execution_count": 12,
   "metadata": {},
   "outputs": [
    {
     "data": {
      "text/plain": [
       "(300, 49)"
      ]
     },
     "execution_count": 12,
     "metadata": {},
     "output_type": "execute_result"
    }
   ],
   "source": [
    "x_test.shape"
   ]
  },
  {
   "cell_type": "code",
   "execution_count": 13,
   "metadata": {},
   "outputs": [
    {
     "data": {
      "text/html": [
       "<div>\n",
       "<style scoped>\n",
       "    .dataframe tbody tr th:only-of-type {\n",
       "        vertical-align: middle;\n",
       "    }\n",
       "\n",
       "    .dataframe tbody tr th {\n",
       "        vertical-align: top;\n",
       "    }\n",
       "\n",
       "    .dataframe thead th {\n",
       "        text-align: right;\n",
       "    }\n",
       "</style>\n",
       "<table border=\"1\" class=\"dataframe\">\n",
       "  <thead>\n",
       "    <tr style=\"text-align: right;\">\n",
       "      <th></th>\n",
       "      <th>obj_to_num__Amount.Requested</th>\n",
       "      <th>obj_to_num__Open.CREDIT.Lines</th>\n",
       "      <th>obj_to_num__Revolving.CREDIT.Balance</th>\n",
       "      <th>dtir__Debt.To.Income.Ratio</th>\n",
       "      <th>obj_to_dum__Loan.Length_36 months</th>\n",
       "      <th>obj_to_dum__Loan.Length_60 months</th>\n",
       "      <th>obj_to_dum__Loan.Purpose_debt_consolidation</th>\n",
       "      <th>obj_to_dum__Loan.Purpose_credit_card</th>\n",
       "      <th>obj_to_dum__Loan.Purpose_other</th>\n",
       "      <th>obj_to_dum__Loan.Purpose_home_improvement</th>\n",
       "      <th>...</th>\n",
       "      <th>obj_to_dum__State_WI</th>\n",
       "      <th>obj_to_dum__State_OR</th>\n",
       "      <th>obj_to_dum__State_KS</th>\n",
       "      <th>obj_to_dum__Home.Ownership_MORTGAGE</th>\n",
       "      <th>obj_to_dum__Home.Ownership_RENT</th>\n",
       "      <th>obj_to_dum__Home.Ownership_OWN</th>\n",
       "      <th>num__Monthly.Income</th>\n",
       "      <th>num__Inquiries.in.the.Last.6.Months</th>\n",
       "      <th>fico__fico</th>\n",
       "      <th>el__El</th>\n",
       "    </tr>\n",
       "  </thead>\n",
       "  <tbody>\n",
       "    <tr>\n",
       "      <th>0</th>\n",
       "      <td>25000.0</td>\n",
       "      <td>11.0</td>\n",
       "      <td>15210.0</td>\n",
       "      <td>27.56</td>\n",
       "      <td>0.0</td>\n",
       "      <td>1.0</td>\n",
       "      <td>1.0</td>\n",
       "      <td>0.0</td>\n",
       "      <td>0.0</td>\n",
       "      <td>0.0</td>\n",
       "      <td>...</td>\n",
       "      <td>0.0</td>\n",
       "      <td>0.0</td>\n",
       "      <td>0.0</td>\n",
       "      <td>1.0</td>\n",
       "      <td>0.0</td>\n",
       "      <td>0.0</td>\n",
       "      <td>8606.56</td>\n",
       "      <td>3.0</td>\n",
       "      <td>722.0</td>\n",
       "      <td>5.0</td>\n",
       "    </tr>\n",
       "    <tr>\n",
       "      <th>1</th>\n",
       "      <td>19750.0</td>\n",
       "      <td>14.0</td>\n",
       "      <td>19070.0</td>\n",
       "      <td>13.39</td>\n",
       "      <td>0.0</td>\n",
       "      <td>1.0</td>\n",
       "      <td>1.0</td>\n",
       "      <td>0.0</td>\n",
       "      <td>0.0</td>\n",
       "      <td>0.0</td>\n",
       "      <td>...</td>\n",
       "      <td>0.0</td>\n",
       "      <td>0.0</td>\n",
       "      <td>0.0</td>\n",
       "      <td>1.0</td>\n",
       "      <td>0.0</td>\n",
       "      <td>0.0</td>\n",
       "      <td>6737.50</td>\n",
       "      <td>3.0</td>\n",
       "      <td>712.0</td>\n",
       "      <td>4.0</td>\n",
       "    </tr>\n",
       "    <tr>\n",
       "      <th>2</th>\n",
       "      <td>2100.0</td>\n",
       "      <td>13.0</td>\n",
       "      <td>893.0</td>\n",
       "      <td>3.50</td>\n",
       "      <td>1.0</td>\n",
       "      <td>0.0</td>\n",
       "      <td>0.0</td>\n",
       "      <td>0.0</td>\n",
       "      <td>0.0</td>\n",
       "      <td>0.0</td>\n",
       "      <td>...</td>\n",
       "      <td>0.0</td>\n",
       "      <td>0.0</td>\n",
       "      <td>0.0</td>\n",
       "      <td>0.0</td>\n",
       "      <td>0.0</td>\n",
       "      <td>1.0</td>\n",
       "      <td>1000.00</td>\n",
       "      <td>1.0</td>\n",
       "      <td>692.0</td>\n",
       "      <td>0.0</td>\n",
       "    </tr>\n",
       "    <tr>\n",
       "      <th>3</th>\n",
       "      <td>28000.0</td>\n",
       "      <td>12.0</td>\n",
       "      <td>38194.0</td>\n",
       "      <td>19.62</td>\n",
       "      <td>1.0</td>\n",
       "      <td>0.0</td>\n",
       "      <td>0.0</td>\n",
       "      <td>1.0</td>\n",
       "      <td>0.0</td>\n",
       "      <td>0.0</td>\n",
       "      <td>...</td>\n",
       "      <td>0.0</td>\n",
       "      <td>0.0</td>\n",
       "      <td>0.0</td>\n",
       "      <td>1.0</td>\n",
       "      <td>0.0</td>\n",
       "      <td>0.0</td>\n",
       "      <td>7083.33</td>\n",
       "      <td>1.0</td>\n",
       "      <td>712.0</td>\n",
       "      <td>10.0</td>\n",
       "    </tr>\n",
       "    <tr>\n",
       "      <th>4</th>\n",
       "      <td>24250.0</td>\n",
       "      <td>6.0</td>\n",
       "      <td>31061.0</td>\n",
       "      <td>23.79</td>\n",
       "      <td>0.0</td>\n",
       "      <td>1.0</td>\n",
       "      <td>0.0</td>\n",
       "      <td>1.0</td>\n",
       "      <td>0.0</td>\n",
       "      <td>0.0</td>\n",
       "      <td>...</td>\n",
       "      <td>0.0</td>\n",
       "      <td>0.0</td>\n",
       "      <td>0.0</td>\n",
       "      <td>1.0</td>\n",
       "      <td>0.0</td>\n",
       "      <td>0.0</td>\n",
       "      <td>5833.33</td>\n",
       "      <td>2.0</td>\n",
       "      <td>732.0</td>\n",
       "      <td>10.0</td>\n",
       "    </tr>\n",
       "  </tbody>\n",
       "</table>\n",
       "<p>5 rows × 49 columns</p>\n",
       "</div>"
      ],
      "text/plain": [
       "   obj_to_num__Amount.Requested  obj_to_num__Open.CREDIT.Lines  \\\n",
       "0                       25000.0                           11.0   \n",
       "1                       19750.0                           14.0   \n",
       "2                        2100.0                           13.0   \n",
       "3                       28000.0                           12.0   \n",
       "4                       24250.0                            6.0   \n",
       "\n",
       "   obj_to_num__Revolving.CREDIT.Balance  dtir__Debt.To.Income.Ratio  \\\n",
       "0                               15210.0                       27.56   \n",
       "1                               19070.0                       13.39   \n",
       "2                                 893.0                        3.50   \n",
       "3                               38194.0                       19.62   \n",
       "4                               31061.0                       23.79   \n",
       "\n",
       "   obj_to_dum__Loan.Length_36 months  obj_to_dum__Loan.Length_60 months  \\\n",
       "0                                0.0                                1.0   \n",
       "1                                0.0                                1.0   \n",
       "2                                1.0                                0.0   \n",
       "3                                1.0                                0.0   \n",
       "4                                0.0                                1.0   \n",
       "\n",
       "   obj_to_dum__Loan.Purpose_debt_consolidation  \\\n",
       "0                                          1.0   \n",
       "1                                          1.0   \n",
       "2                                          0.0   \n",
       "3                                          0.0   \n",
       "4                                          0.0   \n",
       "\n",
       "   obj_to_dum__Loan.Purpose_credit_card  obj_to_dum__Loan.Purpose_other  \\\n",
       "0                                   0.0                             0.0   \n",
       "1                                   0.0                             0.0   \n",
       "2                                   0.0                             0.0   \n",
       "3                                   1.0                             0.0   \n",
       "4                                   1.0                             0.0   \n",
       "\n",
       "   obj_to_dum__Loan.Purpose_home_improvement  ...  obj_to_dum__State_WI  \\\n",
       "0                                        0.0  ...                   0.0   \n",
       "1                                        0.0  ...                   0.0   \n",
       "2                                        0.0  ...                   0.0   \n",
       "3                                        0.0  ...                   0.0   \n",
       "4                                        0.0  ...                   0.0   \n",
       "\n",
       "   obj_to_dum__State_OR  obj_to_dum__State_KS  \\\n",
       "0                   0.0                   0.0   \n",
       "1                   0.0                   0.0   \n",
       "2                   0.0                   0.0   \n",
       "3                   0.0                   0.0   \n",
       "4                   0.0                   0.0   \n",
       "\n",
       "   obj_to_dum__Home.Ownership_MORTGAGE  obj_to_dum__Home.Ownership_RENT  \\\n",
       "0                                  1.0                              0.0   \n",
       "1                                  1.0                              0.0   \n",
       "2                                  0.0                              0.0   \n",
       "3                                  1.0                              0.0   \n",
       "4                                  1.0                              0.0   \n",
       "\n",
       "   obj_to_dum__Home.Ownership_OWN  num__Monthly.Income  \\\n",
       "0                             0.0              8606.56   \n",
       "1                             0.0              6737.50   \n",
       "2                             1.0              1000.00   \n",
       "3                             0.0              7083.33   \n",
       "4                             0.0              5833.33   \n",
       "\n",
       "   num__Inquiries.in.the.Last.6.Months  fico__fico  el__El  \n",
       "0                                  3.0       722.0     5.0  \n",
       "1                                  3.0       712.0     4.0  \n",
       "2                                  1.0       692.0     0.0  \n",
       "3                                  1.0       712.0    10.0  \n",
       "4                                  2.0       732.0    10.0  \n",
       "\n",
       "[5 rows x 49 columns]"
      ]
     },
     "execution_count": 13,
     "metadata": {},
     "output_type": "execute_result"
    }
   ],
   "source": [
    "x_train.head()"
   ]
  },
  {
   "cell_type": "code",
   "execution_count": 14,
   "metadata": {},
   "outputs": [
    {
     "data": {
      "text/html": [
       "<div>\n",
       "<style scoped>\n",
       "    .dataframe tbody tr th:only-of-type {\n",
       "        vertical-align: middle;\n",
       "    }\n",
       "\n",
       "    .dataframe tbody tr th {\n",
       "        vertical-align: top;\n",
       "    }\n",
       "\n",
       "    .dataframe thead th {\n",
       "        text-align: right;\n",
       "    }\n",
       "</style>\n",
       "<table border=\"1\" class=\"dataframe\">\n",
       "  <thead>\n",
       "    <tr style=\"text-align: right;\">\n",
       "      <th></th>\n",
       "      <th>obj_to_num__Amount.Requested</th>\n",
       "      <th>obj_to_num__Open.CREDIT.Lines</th>\n",
       "      <th>obj_to_num__Revolving.CREDIT.Balance</th>\n",
       "      <th>dtir__Debt.To.Income.Ratio</th>\n",
       "      <th>obj_to_dum__Loan.Length_36 months</th>\n",
       "      <th>obj_to_dum__Loan.Length_60 months</th>\n",
       "      <th>obj_to_dum__Loan.Purpose_debt_consolidation</th>\n",
       "      <th>obj_to_dum__Loan.Purpose_credit_card</th>\n",
       "      <th>obj_to_dum__Loan.Purpose_other</th>\n",
       "      <th>obj_to_dum__Loan.Purpose_home_improvement</th>\n",
       "      <th>...</th>\n",
       "      <th>obj_to_dum__State_WI</th>\n",
       "      <th>obj_to_dum__State_OR</th>\n",
       "      <th>obj_to_dum__State_KS</th>\n",
       "      <th>obj_to_dum__Home.Ownership_MORTGAGE</th>\n",
       "      <th>obj_to_dum__Home.Ownership_RENT</th>\n",
       "      <th>obj_to_dum__Home.Ownership_OWN</th>\n",
       "      <th>num__Monthly.Income</th>\n",
       "      <th>num__Inquiries.in.the.Last.6.Months</th>\n",
       "      <th>fico__fico</th>\n",
       "      <th>el__El</th>\n",
       "    </tr>\n",
       "  </thead>\n",
       "  <tbody>\n",
       "    <tr>\n",
       "      <th>0</th>\n",
       "      <td>5000.0</td>\n",
       "      <td>13.0</td>\n",
       "      <td>7686.0</td>\n",
       "      <td>12.59</td>\n",
       "      <td>0.0</td>\n",
       "      <td>1.0</td>\n",
       "      <td>0.0</td>\n",
       "      <td>0.0</td>\n",
       "      <td>0.0</td>\n",
       "      <td>0.0</td>\n",
       "      <td>...</td>\n",
       "      <td>0.0</td>\n",
       "      <td>0.0</td>\n",
       "      <td>0.0</td>\n",
       "      <td>0.0</td>\n",
       "      <td>1.0</td>\n",
       "      <td>0.0</td>\n",
       "      <td>4416.67</td>\n",
       "      <td>0.0</td>\n",
       "      <td>692.0</td>\n",
       "      <td>0.0</td>\n",
       "    </tr>\n",
       "    <tr>\n",
       "      <th>1</th>\n",
       "      <td>18000.0</td>\n",
       "      <td>6.0</td>\n",
       "      <td>11596.0</td>\n",
       "      <td>4.93</td>\n",
       "      <td>0.0</td>\n",
       "      <td>1.0</td>\n",
       "      <td>1.0</td>\n",
       "      <td>0.0</td>\n",
       "      <td>0.0</td>\n",
       "      <td>0.0</td>\n",
       "      <td>...</td>\n",
       "      <td>0.0</td>\n",
       "      <td>0.0</td>\n",
       "      <td>0.0</td>\n",
       "      <td>0.0</td>\n",
       "      <td>1.0</td>\n",
       "      <td>0.0</td>\n",
       "      <td>5258.50</td>\n",
       "      <td>0.0</td>\n",
       "      <td>712.0</td>\n",
       "      <td>10.0</td>\n",
       "    </tr>\n",
       "    <tr>\n",
       "      <th>2</th>\n",
       "      <td>7200.0</td>\n",
       "      <td>13.0</td>\n",
       "      <td>7283.0</td>\n",
       "      <td>25.16</td>\n",
       "      <td>0.0</td>\n",
       "      <td>1.0</td>\n",
       "      <td>1.0</td>\n",
       "      <td>0.0</td>\n",
       "      <td>0.0</td>\n",
       "      <td>0.0</td>\n",
       "      <td>...</td>\n",
       "      <td>0.0</td>\n",
       "      <td>0.0</td>\n",
       "      <td>0.0</td>\n",
       "      <td>1.0</td>\n",
       "      <td>0.0</td>\n",
       "      <td>0.0</td>\n",
       "      <td>3750.00</td>\n",
       "      <td>0.0</td>\n",
       "      <td>752.0</td>\n",
       "      <td>6.0</td>\n",
       "    </tr>\n",
       "    <tr>\n",
       "      <th>3</th>\n",
       "      <td>7200.0</td>\n",
       "      <td>14.0</td>\n",
       "      <td>4838.0</td>\n",
       "      <td>17.27</td>\n",
       "      <td>1.0</td>\n",
       "      <td>0.0</td>\n",
       "      <td>1.0</td>\n",
       "      <td>0.0</td>\n",
       "      <td>0.0</td>\n",
       "      <td>0.0</td>\n",
       "      <td>...</td>\n",
       "      <td>0.0</td>\n",
       "      <td>0.0</td>\n",
       "      <td>0.0</td>\n",
       "      <td>1.0</td>\n",
       "      <td>0.0</td>\n",
       "      <td>0.0</td>\n",
       "      <td>3416.67</td>\n",
       "      <td>0.0</td>\n",
       "      <td>792.0</td>\n",
       "      <td>10.0</td>\n",
       "    </tr>\n",
       "    <tr>\n",
       "      <th>4</th>\n",
       "      <td>22000.0</td>\n",
       "      <td>9.0</td>\n",
       "      <td>20181.0</td>\n",
       "      <td>18.28</td>\n",
       "      <td>0.0</td>\n",
       "      <td>1.0</td>\n",
       "      <td>1.0</td>\n",
       "      <td>0.0</td>\n",
       "      <td>0.0</td>\n",
       "      <td>0.0</td>\n",
       "      <td>...</td>\n",
       "      <td>0.0</td>\n",
       "      <td>0.0</td>\n",
       "      <td>0.0</td>\n",
       "      <td>1.0</td>\n",
       "      <td>0.0</td>\n",
       "      <td>0.0</td>\n",
       "      <td>6083.33</td>\n",
       "      <td>0.0</td>\n",
       "      <td>722.0</td>\n",
       "      <td>8.0</td>\n",
       "    </tr>\n",
       "  </tbody>\n",
       "</table>\n",
       "<p>5 rows × 49 columns</p>\n",
       "</div>"
      ],
      "text/plain": [
       "   obj_to_num__Amount.Requested  obj_to_num__Open.CREDIT.Lines  \\\n",
       "0                        5000.0                           13.0   \n",
       "1                       18000.0                            6.0   \n",
       "2                        7200.0                           13.0   \n",
       "3                        7200.0                           14.0   \n",
       "4                       22000.0                            9.0   \n",
       "\n",
       "   obj_to_num__Revolving.CREDIT.Balance  dtir__Debt.To.Income.Ratio  \\\n",
       "0                                7686.0                       12.59   \n",
       "1                               11596.0                        4.93   \n",
       "2                                7283.0                       25.16   \n",
       "3                                4838.0                       17.27   \n",
       "4                               20181.0                       18.28   \n",
       "\n",
       "   obj_to_dum__Loan.Length_36 months  obj_to_dum__Loan.Length_60 months  \\\n",
       "0                                0.0                                1.0   \n",
       "1                                0.0                                1.0   \n",
       "2                                0.0                                1.0   \n",
       "3                                1.0                                0.0   \n",
       "4                                0.0                                1.0   \n",
       "\n",
       "   obj_to_dum__Loan.Purpose_debt_consolidation  \\\n",
       "0                                          0.0   \n",
       "1                                          1.0   \n",
       "2                                          1.0   \n",
       "3                                          1.0   \n",
       "4                                          1.0   \n",
       "\n",
       "   obj_to_dum__Loan.Purpose_credit_card  obj_to_dum__Loan.Purpose_other  \\\n",
       "0                                   0.0                             0.0   \n",
       "1                                   0.0                             0.0   \n",
       "2                                   0.0                             0.0   \n",
       "3                                   0.0                             0.0   \n",
       "4                                   0.0                             0.0   \n",
       "\n",
       "   obj_to_dum__Loan.Purpose_home_improvement  ...  obj_to_dum__State_WI  \\\n",
       "0                                        0.0  ...                   0.0   \n",
       "1                                        0.0  ...                   0.0   \n",
       "2                                        0.0  ...                   0.0   \n",
       "3                                        0.0  ...                   0.0   \n",
       "4                                        0.0  ...                   0.0   \n",
       "\n",
       "   obj_to_dum__State_OR  obj_to_dum__State_KS  \\\n",
       "0                   0.0                   0.0   \n",
       "1                   0.0                   0.0   \n",
       "2                   0.0                   0.0   \n",
       "3                   0.0                   0.0   \n",
       "4                   0.0                   0.0   \n",
       "\n",
       "   obj_to_dum__Home.Ownership_MORTGAGE  obj_to_dum__Home.Ownership_RENT  \\\n",
       "0                                  0.0                              1.0   \n",
       "1                                  0.0                              1.0   \n",
       "2                                  1.0                              0.0   \n",
       "3                                  1.0                              0.0   \n",
       "4                                  1.0                              0.0   \n",
       "\n",
       "   obj_to_dum__Home.Ownership_OWN  num__Monthly.Income  \\\n",
       "0                             0.0              4416.67   \n",
       "1                             0.0              5258.50   \n",
       "2                             0.0              3750.00   \n",
       "3                             0.0              3416.67   \n",
       "4                             0.0              6083.33   \n",
       "\n",
       "   num__Inquiries.in.the.Last.6.Months  fico__fico  el__El  \n",
       "0                                  0.0       692.0     0.0  \n",
       "1                                  0.0       712.0    10.0  \n",
       "2                                  0.0       752.0     6.0  \n",
       "3                                  0.0       792.0    10.0  \n",
       "4                                  0.0       722.0     8.0  \n",
       "\n",
       "[5 rows x 49 columns]"
      ]
     },
     "execution_count": 14,
     "metadata": {},
     "output_type": "execute_result"
    }
   ],
   "source": [
    "x_test.head()"
   ]
  },
  {
   "cell_type": "code",
   "execution_count": 15,
   "metadata": {},
   "outputs": [
    {
     "data": {
      "text/plain": [
       "0       18.49\n",
       "1       17.27\n",
       "2       14.33\n",
       "3       16.29\n",
       "4       12.23\n",
       "        ...  \n",
       "2195    23.28\n",
       "2196    14.33\n",
       "2197    15.31\n",
       "2198    20.99\n",
       "2199    10.16\n",
       "Name: Interest.Rate, Length: 2200, dtype: float64"
      ]
     },
     "execution_count": 15,
     "metadata": {},
     "output_type": "execute_result"
    }
   ],
   "source": [
    "y_train=ld_train['Interest.Rate'].str.replace('%','').astype(float)\n",
    "y_train"
   ]
  },
  {
   "cell_type": "code",
   "execution_count": 16,
   "metadata": {},
   "outputs": [],
   "source": [
    "from sklearn.linear_model import LinearRegression\n",
    "from sklearn.model_selection import cross_val_score"
   ]
  },
  {
   "cell_type": "code",
   "execution_count": 17,
   "metadata": {},
   "outputs": [],
   "source": [
    "lm=LinearRegression()"
   ]
  },
  {
   "cell_type": "code",
   "execution_count": 18,
   "metadata": {},
   "outputs": [],
   "source": [
    "lm.fit?"
   ]
  },
  {
   "cell_type": "code",
   "execution_count": 19,
   "metadata": {},
   "outputs": [],
   "source": [
    "cv_mae=-cross_val_score(lm,\n",
    "                        x_train,y_train,\n",
    "                        cv=10,\n",
    "                        scoring='neg_mean_absolute_error')\n",
    "# The scoring ending with _error -> The lower the better. Returns a value to minimize.\n",
    "# The scoring ending with _score returns the value to maximize. The higher the better."
   ]
  },
  {
   "cell_type": "code",
   "execution_count": 20,
   "metadata": {},
   "outputs": [
    {
     "data": {
      "text/plain": [
       "array([1.72180364, 1.77190797, 1.76961603, 1.64664953, 1.42368696,\n",
       "       1.64323402, 1.42325966, 1.58390193, 1.52837312, 1.65977978])"
      ]
     },
     "execution_count": 20,
     "metadata": {},
     "output_type": "execute_result"
    }
   ],
   "source": [
    "cv_mae\n",
    "# array([1.72180364, 1.77190797, 1.76961603, 1.64664953, 1.42368696,\n",
    "#        1.64323402, 1.42325966, 1.58390193, 1.52837312, 1.65977978])"
   ]
  },
  {
   "cell_type": "code",
   "execution_count": 21,
   "metadata": {},
   "outputs": [
    {
     "data": {
      "text/plain": [
       "1.6172212632192573"
      ]
     },
     "execution_count": 21,
     "metadata": {},
     "output_type": "execute_result"
    }
   ],
   "source": [
    "cv_mae.mean()\n",
    "# 1.6172212632192573"
   ]
  },
  {
   "cell_type": "code",
   "execution_count": 22,
   "metadata": {},
   "outputs": [
    {
     "data": {
      "text/plain": [
       "0.12063346581841543"
      ]
     },
     "execution_count": 22,
     "metadata": {},
     "output_type": "execute_result"
    }
   ],
   "source": [
    "cv_mae.std()\n",
    "# 0.12063346581841543"
   ]
  },
  {
   "cell_type": "code",
   "execution_count": 23,
   "metadata": {},
   "outputs": [
    {
     "data": {
      "text/plain": [
       "LinearRegression()"
      ]
     },
     "execution_count": 23,
     "metadata": {},
     "output_type": "execute_result"
    }
   ],
   "source": [
    "lm.fit(x_train,y_train)"
   ]
  },
  {
   "cell_type": "code",
   "execution_count": 24,
   "metadata": {},
   "outputs": [
    {
     "data": {
      "text/plain": [
       "73.47738349332741"
      ]
     },
     "execution_count": 24,
     "metadata": {},
     "output_type": "execute_result"
    }
   ],
   "source": [
    "lm.intercept_"
   ]
  },
  {
   "cell_type": "code",
   "execution_count": 25,
   "metadata": {},
   "outputs": [
    {
     "data": {
      "text/plain": [
       "array([ 1.60452569e-04, -3.67626112e-02, -2.95814271e-06, -1.13478975e-04,\n",
       "        1.28299898e+00,  4.44954062e+00, -7.61550279e-01, -8.77320686e-01,\n",
       "        5.39014167e-02, -6.78853188e-01, -4.05500939e-01, -2.66839810e-01,\n",
       "       -5.13444172e-01, -9.88244463e-01, -5.91702806e-01,  7.36391892e-01,\n",
       "       -1.84408382e-01, -1.89757625e-01, -5.38834548e-02,  4.54438848e-01,\n",
       "       -4.83141700e-01, -5.82163968e-01, -2.17333017e-01, -3.82711456e-01,\n",
       "       -1.19387332e-01, -8.76851289e-02, -4.91988156e-01, -2.32449904e-01,\n",
       "       -1.01185661e-01,  3.93822172e-02, -2.68097716e-01,  3.94510930e-01,\n",
       "        4.04481744e-01, -8.45116666e-02, -8.78376500e-02, -1.85210283e-01,\n",
       "       -3.57879036e-01, -2.33991666e-01, -4.68447519e-02,  3.41456756e-02,\n",
       "        4.36148637e-02,  2.01591311e-01, -2.37914879e+00, -2.16167598e+00,\n",
       "       -2.04384661e+00, -2.59827967e-05,  3.38382544e-01, -8.64781118e-02,\n",
       "        1.98050528e-02])"
      ]
     },
     "execution_count": 25,
     "metadata": {},
     "output_type": "execute_result"
    }
   ],
   "source": [
    "lm.coef_"
   ]
  },
  {
   "cell_type": "code",
   "execution_count": 26,
   "metadata": {},
   "outputs": [
    {
     "data": {
      "text/plain": [
       "[('obj_to_num__Amount.Requested', 0.00016045256883493348),\n",
       " ('obj_to_num__Open.CREDIT.Lines', -0.036762611160864475),\n",
       " ('obj_to_num__Revolving.CREDIT.Balance', -2.9581427083155503e-06),\n",
       " ('dtir__Debt.To.Income.Ratio', -0.00011347897493044212),\n",
       " ('obj_to_dum__Loan.Length_36 months', 1.2829989784089877),\n",
       " ('obj_to_dum__Loan.Length_60 months', 4.449540624009991),\n",
       " ('obj_to_dum__Loan.Purpose_debt_consolidation', -0.7615502794175302),\n",
       " ('obj_to_dum__Loan.Purpose_credit_card', -0.87732068628948),\n",
       " ('obj_to_dum__Loan.Purpose_other', 0.05390141671472698),\n",
       " ('obj_to_dum__Loan.Purpose_home_improvement', -0.6788531881770699),\n",
       " ('obj_to_dum__Loan.Purpose_major_purchase', -0.40550093901849227),\n",
       " ('obj_to_dum__Loan.Purpose_small_business', -0.26683980972117727),\n",
       " ('obj_to_dum__Loan.Purpose_car', -0.513444172367349),\n",
       " ('obj_to_dum__Loan.Purpose_wedding', -0.9882444628027013),\n",
       " ('obj_to_dum__Loan.Purpose_medical', -0.5917028055548262),\n",
       " ('obj_to_dum__Loan.Purpose_moving', 0.736391892139872),\n",
       " ('obj_to_dum__State_CA', -0.18440838155205924),\n",
       " ('obj_to_dum__State_NY', -0.18975762537428742),\n",
       " ('obj_to_dum__State_FL', -0.053883454823616644),\n",
       " ('obj_to_dum__State_TX', 0.45443884788456873),\n",
       " ('obj_to_dum__State_PA', -0.4831417004764808),\n",
       " ('obj_to_dum__State_IL', -0.5821639679226043),\n",
       " ('obj_to_dum__State_GA', -0.21733301734091642),\n",
       " ('obj_to_dum__State_NJ', -0.38271145592761935),\n",
       " ('obj_to_dum__State_VA', -0.1193873323646287),\n",
       " ('obj_to_dum__State_MA', -0.08768512892513924),\n",
       " ('obj_to_dum__State_NC', -0.4919881556642546),\n",
       " ('obj_to_dum__State_OH', -0.23244990404972876),\n",
       " ('obj_to_dum__State_MD', -0.10118566118807848),\n",
       " ('obj_to_dum__State_CO', 0.039382217167652556),\n",
       " ('obj_to_dum__State_WA', -0.2680977158534889),\n",
       " ('obj_to_dum__State_CT', 0.394510929680438),\n",
       " ('obj_to_dum__State_AZ', 0.4044817444554737),\n",
       " ('obj_to_dum__State_MI', -0.0845116665959452),\n",
       " ('obj_to_dum__State_AL', -0.08783765003578911),\n",
       " ('obj_to_dum__State_MN', -0.18521028263795342),\n",
       " ('obj_to_dum__State_MO', -0.35787903574836943),\n",
       " ('obj_to_dum__State_NV', -0.23399166647973962),\n",
       " ('obj_to_dum__State_SC', -0.04684475188846469),\n",
       " ('obj_to_dum__State_WI', 0.034145675638237546),\n",
       " ('obj_to_dum__State_OR', 0.04361486374430373),\n",
       " ('obj_to_dum__State_KS', 0.20159131063052826),\n",
       " ('obj_to_dum__Home.Ownership_MORTGAGE', -2.3791487898071373),\n",
       " ('obj_to_dum__Home.Ownership_RENT', -2.1616759788470556),\n",
       " ('obj_to_dum__Home.Ownership_OWN', -2.043846609112413),\n",
       " ('num__Monthly.Income', -2.598279671445214e-05),\n",
       " ('num__Inquiries.in.the.Last.6.Months', 0.3383825440560452),\n",
       " ('fico__fico', -0.08647811177717779),\n",
       " ('el__El', 0.01980505284204792)]"
      ]
     },
     "execution_count": 26,
     "metadata": {},
     "output_type": "execute_result"
    }
   ],
   "source": [
    "list(zip(x_train.columns,lm.coef_))"
   ]
  },
  {
   "cell_type": "code",
   "execution_count": 27,
   "metadata": {},
   "outputs": [],
   "source": [
    "test_pred=lm.predict(x_test)"
   ]
  },
  {
   "cell_type": "code",
   "execution_count": 28,
   "metadata": {},
   "outputs": [
    {
     "data": {
      "text/plain": [
       "array([16.65445553, 15.94100238, 10.42902509,  3.6728478 , 15.40221551,\n",
       "        6.98876239, 15.77482829, 10.62384888, 15.98556653, 12.38422695,\n",
       "        9.68353254, 14.90631287, 11.34752622, 13.70119681, 13.47443272,\n",
       "       18.39020713, 10.38296505, 15.74398021, 13.76672916, 13.93990006,\n",
       "       22.44485299, 17.4515836 , 12.13725328, 14.83120041,  9.68386727,\n",
       "       11.17199872, 13.10447846, 19.43435575, 12.00352632, 17.0156246 ,\n",
       "       15.27883728, 15.46646287, 12.37477237, 15.21379981, 13.72365174,\n",
       "       14.12789549, 19.49154375, 11.25181443, 12.01130698, 16.98817784,\n",
       "       14.14051537, 11.07691669, 14.64074014, 13.11537395, 15.59014435,\n",
       "       17.02379181, 14.84241809, 19.04412818, 16.92854421, 10.4187541 ,\n",
       "       13.6037736 , 19.79439364, 10.02634109, 19.66532807, 15.61976754,\n",
       "       14.88090767, 17.52183807, 14.33296689, 10.90605535, 14.43437201,\n",
       "       13.11804993, 17.00358825,  8.81105062, 14.54018696, 10.55010137,\n",
       "       11.46495771, 12.83505385, 15.08491855, 12.07238449, 14.49174935,\n",
       "       14.39446128, 17.43096466, 20.71110437, 19.61383028, 13.32019708,\n",
       "       17.00583001, 11.09909818,  9.93604095, 16.69191558,  6.83437142,\n",
       "       16.02471503, 10.35898336,  9.50582123, 12.96390322, 13.91740456,\n",
       "        9.45552881,  9.33300873, 13.96148673,  8.60644363, 11.77559796,\n",
       "       12.20685952, 16.96995238, 13.44737697, 17.83797027, 14.2710879 ,\n",
       "       10.40872668, 10.18921572, 17.16359272, 16.97120252, 13.81460611,\n",
       "       15.3702029 , 13.48458877, 15.20668959, 14.56367272, 13.56372713,\n",
       "       12.28984802,  8.83551358, 11.90027813, 10.85524908, 13.98955221,\n",
       "       11.72508079, 20.22609246,  7.5757825 , 16.83681752, 15.59631912,\n",
       "        6.55776567, 13.30020239, 14.31397939, 15.11515145,  9.29438959,\n",
       "       16.12107371, 14.31421481,  8.98543757, 12.96742741, 17.34821768,\n",
       "       15.90691571,  8.50677446, 18.56372635,  3.44537974, 12.21007831,\n",
       "       13.74370238, 13.05270443, 10.04911389, 14.13552208, 18.69154314,\n",
       "       14.18106394, 15.5803412 , 13.38450498, 12.98113558,  9.55022581,\n",
       "       14.12892147, 14.38848764, 11.70651331, 11.51090306, 11.64869685,\n",
       "       16.93347588, 11.9913043 , 10.57733208,  7.81072588, 10.1125565 ,\n",
       "       11.44919543, 13.81086651, 10.34895009,  7.70054631, 13.99505625,\n",
       "       12.20131337, 11.09761864,  8.04110462, 14.52569337, 14.58597819,\n",
       "       14.12289299,  7.12781711, 15.12923651, 18.00723172, 15.27775188,\n",
       "       16.00345662, 14.70061494, 10.09824424, 13.62236787, 16.67200124,\n",
       "       14.60219491, 12.87611713,  6.53535326, 13.25735874, 10.32445221,\n",
       "       10.49522006, 11.09962178,  8.59248695,  9.62586157, 11.65367897,\n",
       "       12.79784866, 14.48676303, 10.3825397 , 13.40445909, 10.90313331,\n",
       "       13.99239116,  8.55902383, 17.82274077, 13.63506697,  9.48008945,\n",
       "        7.65845957, 11.38323901, 16.01303599, 15.36824754, 15.06469579,\n",
       "       18.01537285,  9.16596393, 18.87662683,  4.90291684, 13.84342259,\n",
       "       14.53171759, 12.43117095, 18.05242715, 16.7360106 ,  4.74847346,\n",
       "       15.52005982, 15.41061834, 19.70483446, 16.43128287,  8.78958006,\n",
       "       14.60439874, 11.73237106, 12.09720434, 14.588226  , 10.54174411,\n",
       "       12.36112362, 13.25359155, 20.70956297, 13.8383163 ,  6.28662034,\n",
       "        5.65092158,  9.38935772, 17.94289172, 11.32958481, 15.85507856,\n",
       "       14.61878977, 11.57069908, 11.64518408, 12.52858926, 10.79527873,\n",
       "       11.66393003, 14.88559957, 12.71589347, 15.85585017,  7.59274611,\n",
       "       11.29619671, 13.32562492, 10.38250197,  4.88715328, 19.89659974,\n",
       "       14.17612568, 19.7630632 ,  7.93586273, 20.68111992, 12.85898901,\n",
       "       12.28232242, 20.14507624,  9.2216072 ,  7.70050035, 12.96639942,\n",
       "       16.01089023, 15.04998352, 10.72055761, 14.01175684, 15.14200817,\n",
       "       18.9131048 , 11.38863655,  8.08311572, 12.67103614, 18.06786613,\n",
       "       16.35083349, 13.40136191, 18.44132476,  7.47358434, 19.954654  ,\n",
       "        8.74394395, 15.69920978, 10.79616667,  4.62827405, 14.91027176,\n",
       "       13.49864543, 13.08854824,  6.80794085, 10.63650896,  9.81807733,\n",
       "        6.52094221, 14.19555122, 13.76174961, 10.84568299, 14.64521192,\n",
       "       17.11976084, 20.33494798, 16.27706031, 14.25807768, 15.97207757,\n",
       "        8.14979164, 12.75363602, 13.43730057, 10.92569807, 11.992865  ,\n",
       "       14.47116848, 10.10079587, 14.53916997,  9.64779932,  7.16549947,\n",
       "       15.78117044, 11.13953725, 14.49304209, 17.83890306, 13.02181877])"
      ]
     },
     "execution_count": 28,
     "metadata": {},
     "output_type": "execute_result"
    }
   ],
   "source": [
    "test_pred"
   ]
  },
  {
   "cell_type": "code",
   "execution_count": null,
   "metadata": {},
   "outputs": [],
   "source": []
  },
  {
   "cell_type": "markdown",
   "metadata": {},
   "source": [
    "We can write these to a csv file for submission like this :"
   ]
  },
  {
   "cell_type": "code",
   "execution_count": 29,
   "metadata": {},
   "outputs": [],
   "source": [
    "pd.DataFrame(test_pred).to_csv(\"mysubmission.csv\",index=False)"
   ]
  },
  {
   "cell_type": "code",
   "execution_count": 30,
   "metadata": {},
   "outputs": [
    {
     "data": {
      "text/plain": [
       "'/home/siddarth.jha@npci.org.in/Documents/Training'"
      ]
     },
     "execution_count": 30,
     "metadata": {},
     "output_type": "execute_result"
    }
   ],
   "source": [
    "import os\n",
    "os.getcwd()"
   ]
  },
  {
   "cell_type": "markdown",
   "metadata": {},
   "source": [
    "# Ridge  Regression"
   ]
  },
  {
   "cell_type": "code",
   "execution_count": 31,
   "metadata": {},
   "outputs": [],
   "source": [
    "from sklearn.linear_model import Ridge,Lasso\n",
    "\n",
    "from sklearn.model_selection import GridSearchCV\n",
    "\n"
   ]
  },
  {
   "cell_type": "code",
   "execution_count": 32,
   "metadata": {},
   "outputs": [],
   "source": [
    "lambdas=np.linspace(1,100,100)"
   ]
  },
  {
   "cell_type": "code",
   "execution_count": 33,
   "metadata": {},
   "outputs": [
    {
     "data": {
      "text/plain": [
       "array([  1.,   2.,   3.,   4.,   5.,   6.,   7.,   8.,   9.,  10.,  11.,\n",
       "        12.,  13.,  14.,  15.,  16.,  17.,  18.,  19.,  20.,  21.,  22.,\n",
       "        23.,  24.,  25.,  26.,  27.,  28.,  29.,  30.,  31.,  32.,  33.,\n",
       "        34.,  35.,  36.,  37.,  38.,  39.,  40.,  41.,  42.,  43.,  44.,\n",
       "        45.,  46.,  47.,  48.,  49.,  50.,  51.,  52.,  53.,  54.,  55.,\n",
       "        56.,  57.,  58.,  59.,  60.,  61.,  62.,  63.,  64.,  65.,  66.,\n",
       "        67.,  68.,  69.,  70.,  71.,  72.,  73.,  74.,  75.,  76.,  77.,\n",
       "        78.,  79.,  80.,  81.,  82.,  83.,  84.,  85.,  86.,  87.,  88.,\n",
       "        89.,  90.,  91.,  92.,  93.,  94.,  95.,  96.,  97.,  98.,  99.,\n",
       "       100.])"
      ]
     },
     "execution_count": 33,
     "metadata": {},
     "output_type": "execute_result"
    }
   ],
   "source": [
    "lambdas"
   ]
  },
  {
   "cell_type": "code",
   "execution_count": 34,
   "metadata": {},
   "outputs": [],
   "source": [
    "params={'alpha':lambdas}"
   ]
  },
  {
   "cell_type": "code",
   "execution_count": 35,
   "metadata": {},
   "outputs": [],
   "source": [
    "model=Ridge(fit_intercept=True)"
   ]
  },
  {
   "cell_type": "code",
   "execution_count": 36,
   "metadata": {},
   "outputs": [],
   "source": [
    "Ridge?"
   ]
  },
  {
   "cell_type": "code",
   "execution_count": 37,
   "metadata": {},
   "outputs": [],
   "source": [
    "grid_search=GridSearchCV(model,\n",
    "                         param_grid=params,\n",
    "                         cv=10,\n",
    "                         scoring='neg_mean_absolute_error',\n",
    "                        verbose=20,n_jobs=-1)"
   ]
  },
  {
   "cell_type": "code",
   "execution_count": 38,
   "metadata": {},
   "outputs": [
    {
     "name": "stdout",
     "output_type": "stream",
     "text": [
      "Fitting 10 folds for each of 100 candidates, totalling 1000 fits\n"
     ]
    },
    {
     "ename": "KeyboardInterrupt",
     "evalue": "",
     "output_type": "error",
     "traceback": [
      "\u001b[0;31m---------------------------------------------------------------------------\u001b[0m",
      "\u001b[0;31mKeyboardInterrupt\u001b[0m                         Traceback (most recent call last)",
      "\u001b[0;32m<ipython-input-38-c1bd510d730c>\u001b[0m in \u001b[0;36m<module>\u001b[0;34m\u001b[0m\n\u001b[0;32m----> 1\u001b[0;31m \u001b[0mgrid_search\u001b[0m\u001b[0;34m.\u001b[0m\u001b[0mfit\u001b[0m\u001b[0;34m(\u001b[0m\u001b[0mx_train\u001b[0m\u001b[0;34m,\u001b[0m\u001b[0my_train\u001b[0m\u001b[0;34m)\u001b[0m\u001b[0;34m\u001b[0m\u001b[0;34m\u001b[0m\u001b[0m\n\u001b[0m",
      "\u001b[0;32m~/anaconda3/lib/python3.8/site-packages/sklearn/utils/validation.py\u001b[0m in \u001b[0;36minner_f\u001b[0;34m(*args, **kwargs)\u001b[0m\n\u001b[1;32m     61\u001b[0m             \u001b[0mextra_args\u001b[0m \u001b[0;34m=\u001b[0m \u001b[0mlen\u001b[0m\u001b[0;34m(\u001b[0m\u001b[0margs\u001b[0m\u001b[0;34m)\u001b[0m \u001b[0;34m-\u001b[0m \u001b[0mlen\u001b[0m\u001b[0;34m(\u001b[0m\u001b[0mall_args\u001b[0m\u001b[0;34m)\u001b[0m\u001b[0;34m\u001b[0m\u001b[0;34m\u001b[0m\u001b[0m\n\u001b[1;32m     62\u001b[0m             \u001b[0;32mif\u001b[0m \u001b[0mextra_args\u001b[0m \u001b[0;34m<=\u001b[0m \u001b[0;36m0\u001b[0m\u001b[0;34m:\u001b[0m\u001b[0;34m\u001b[0m\u001b[0;34m\u001b[0m\u001b[0m\n\u001b[0;32m---> 63\u001b[0;31m                 \u001b[0;32mreturn\u001b[0m \u001b[0mf\u001b[0m\u001b[0;34m(\u001b[0m\u001b[0;34m*\u001b[0m\u001b[0margs\u001b[0m\u001b[0;34m,\u001b[0m \u001b[0;34m**\u001b[0m\u001b[0mkwargs\u001b[0m\u001b[0;34m)\u001b[0m\u001b[0;34m\u001b[0m\u001b[0;34m\u001b[0m\u001b[0m\n\u001b[0m\u001b[1;32m     64\u001b[0m \u001b[0;34m\u001b[0m\u001b[0m\n\u001b[1;32m     65\u001b[0m             \u001b[0;31m# extra_args > 0\u001b[0m\u001b[0;34m\u001b[0m\u001b[0;34m\u001b[0m\u001b[0;34m\u001b[0m\u001b[0m\n",
      "\u001b[0;32m~/anaconda3/lib/python3.8/site-packages/sklearn/model_selection/_search.py\u001b[0m in \u001b[0;36mfit\u001b[0;34m(self, X, y, groups, **fit_params)\u001b[0m\n\u001b[1;32m    839\u001b[0m                 \u001b[0;32mreturn\u001b[0m \u001b[0mresults\u001b[0m\u001b[0;34m\u001b[0m\u001b[0;34m\u001b[0m\u001b[0m\n\u001b[1;32m    840\u001b[0m \u001b[0;34m\u001b[0m\u001b[0m\n\u001b[0;32m--> 841\u001b[0;31m             \u001b[0mself\u001b[0m\u001b[0;34m.\u001b[0m\u001b[0m_run_search\u001b[0m\u001b[0;34m(\u001b[0m\u001b[0mevaluate_candidates\u001b[0m\u001b[0;34m)\u001b[0m\u001b[0;34m\u001b[0m\u001b[0;34m\u001b[0m\u001b[0m\n\u001b[0m\u001b[1;32m    842\u001b[0m \u001b[0;34m\u001b[0m\u001b[0m\n\u001b[1;32m    843\u001b[0m             \u001b[0;31m# multimetric is determined here because in the case of a callable\u001b[0m\u001b[0;34m\u001b[0m\u001b[0;34m\u001b[0m\u001b[0;34m\u001b[0m\u001b[0m\n",
      "\u001b[0;32m~/anaconda3/lib/python3.8/site-packages/sklearn/model_selection/_search.py\u001b[0m in \u001b[0;36m_run_search\u001b[0;34m(self, evaluate_candidates)\u001b[0m\n\u001b[1;32m   1294\u001b[0m     \u001b[0;32mdef\u001b[0m \u001b[0m_run_search\u001b[0m\u001b[0;34m(\u001b[0m\u001b[0mself\u001b[0m\u001b[0;34m,\u001b[0m \u001b[0mevaluate_candidates\u001b[0m\u001b[0;34m)\u001b[0m\u001b[0;34m:\u001b[0m\u001b[0;34m\u001b[0m\u001b[0;34m\u001b[0m\u001b[0m\n\u001b[1;32m   1295\u001b[0m         \u001b[0;34m\"\"\"Search all candidates in param_grid\"\"\"\u001b[0m\u001b[0;34m\u001b[0m\u001b[0;34m\u001b[0m\u001b[0m\n\u001b[0;32m-> 1296\u001b[0;31m         \u001b[0mevaluate_candidates\u001b[0m\u001b[0;34m(\u001b[0m\u001b[0mParameterGrid\u001b[0m\u001b[0;34m(\u001b[0m\u001b[0mself\u001b[0m\u001b[0;34m.\u001b[0m\u001b[0mparam_grid\u001b[0m\u001b[0;34m)\u001b[0m\u001b[0;34m)\u001b[0m\u001b[0;34m\u001b[0m\u001b[0;34m\u001b[0m\u001b[0m\n\u001b[0m\u001b[1;32m   1297\u001b[0m \u001b[0;34m\u001b[0m\u001b[0m\n\u001b[1;32m   1298\u001b[0m \u001b[0;34m\u001b[0m\u001b[0m\n",
      "\u001b[0;32m~/anaconda3/lib/python3.8/site-packages/sklearn/model_selection/_search.py\u001b[0m in \u001b[0;36mevaluate_candidates\u001b[0;34m(candidate_params, cv, more_results)\u001b[0m\n\u001b[1;32m    793\u001b[0m                               n_splits, n_candidates, n_candidates * n_splits))\n\u001b[1;32m    794\u001b[0m \u001b[0;34m\u001b[0m\u001b[0m\n\u001b[0;32m--> 795\u001b[0;31m                 out = parallel(delayed(_fit_and_score)(clone(base_estimator),\n\u001b[0m\u001b[1;32m    796\u001b[0m                                                        \u001b[0mX\u001b[0m\u001b[0;34m,\u001b[0m \u001b[0my\u001b[0m\u001b[0;34m,\u001b[0m\u001b[0;34m\u001b[0m\u001b[0;34m\u001b[0m\u001b[0m\n\u001b[1;32m    797\u001b[0m                                                        \u001b[0mtrain\u001b[0m\u001b[0;34m=\u001b[0m\u001b[0mtrain\u001b[0m\u001b[0;34m,\u001b[0m \u001b[0mtest\u001b[0m\u001b[0;34m=\u001b[0m\u001b[0mtest\u001b[0m\u001b[0;34m,\u001b[0m\u001b[0;34m\u001b[0m\u001b[0;34m\u001b[0m\u001b[0m\n",
      "\u001b[0;32m~/anaconda3/lib/python3.8/site-packages/joblib/parallel.py\u001b[0m in \u001b[0;36m__call__\u001b[0;34m(self, iterable)\u001b[0m\n\u001b[1;32m   1052\u001b[0m \u001b[0;34m\u001b[0m\u001b[0m\n\u001b[1;32m   1053\u001b[0m             \u001b[0;32mwith\u001b[0m \u001b[0mself\u001b[0m\u001b[0;34m.\u001b[0m\u001b[0m_backend\u001b[0m\u001b[0;34m.\u001b[0m\u001b[0mretrieval_context\u001b[0m\u001b[0;34m(\u001b[0m\u001b[0;34m)\u001b[0m\u001b[0;34m:\u001b[0m\u001b[0;34m\u001b[0m\u001b[0;34m\u001b[0m\u001b[0m\n\u001b[0;32m-> 1054\u001b[0;31m                 \u001b[0mself\u001b[0m\u001b[0;34m.\u001b[0m\u001b[0mretrieve\u001b[0m\u001b[0;34m(\u001b[0m\u001b[0;34m)\u001b[0m\u001b[0;34m\u001b[0m\u001b[0;34m\u001b[0m\u001b[0m\n\u001b[0m\u001b[1;32m   1055\u001b[0m             \u001b[0;31m# Make sure that we get a last message telling us we are done\u001b[0m\u001b[0;34m\u001b[0m\u001b[0;34m\u001b[0m\u001b[0;34m\u001b[0m\u001b[0m\n\u001b[1;32m   1056\u001b[0m             \u001b[0melapsed_time\u001b[0m \u001b[0;34m=\u001b[0m \u001b[0mtime\u001b[0m\u001b[0;34m.\u001b[0m\u001b[0mtime\u001b[0m\u001b[0;34m(\u001b[0m\u001b[0;34m)\u001b[0m \u001b[0;34m-\u001b[0m \u001b[0mself\u001b[0m\u001b[0;34m.\u001b[0m\u001b[0m_start_time\u001b[0m\u001b[0;34m\u001b[0m\u001b[0;34m\u001b[0m\u001b[0m\n",
      "\u001b[0;32m~/anaconda3/lib/python3.8/site-packages/joblib/parallel.py\u001b[0m in \u001b[0;36mretrieve\u001b[0;34m(self)\u001b[0m\n\u001b[1;32m    931\u001b[0m             \u001b[0;32mtry\u001b[0m\u001b[0;34m:\u001b[0m\u001b[0;34m\u001b[0m\u001b[0;34m\u001b[0m\u001b[0m\n\u001b[1;32m    932\u001b[0m                 \u001b[0;32mif\u001b[0m \u001b[0mgetattr\u001b[0m\u001b[0;34m(\u001b[0m\u001b[0mself\u001b[0m\u001b[0;34m.\u001b[0m\u001b[0m_backend\u001b[0m\u001b[0;34m,\u001b[0m \u001b[0;34m'supports_timeout'\u001b[0m\u001b[0;34m,\u001b[0m \u001b[0;32mFalse\u001b[0m\u001b[0;34m)\u001b[0m\u001b[0;34m:\u001b[0m\u001b[0;34m\u001b[0m\u001b[0;34m\u001b[0m\u001b[0m\n\u001b[0;32m--> 933\u001b[0;31m                     \u001b[0mself\u001b[0m\u001b[0;34m.\u001b[0m\u001b[0m_output\u001b[0m\u001b[0;34m.\u001b[0m\u001b[0mextend\u001b[0m\u001b[0;34m(\u001b[0m\u001b[0mjob\u001b[0m\u001b[0;34m.\u001b[0m\u001b[0mget\u001b[0m\u001b[0;34m(\u001b[0m\u001b[0mtimeout\u001b[0m\u001b[0;34m=\u001b[0m\u001b[0mself\u001b[0m\u001b[0;34m.\u001b[0m\u001b[0mtimeout\u001b[0m\u001b[0;34m)\u001b[0m\u001b[0;34m)\u001b[0m\u001b[0;34m\u001b[0m\u001b[0;34m\u001b[0m\u001b[0m\n\u001b[0m\u001b[1;32m    934\u001b[0m                 \u001b[0;32melse\u001b[0m\u001b[0;34m:\u001b[0m\u001b[0;34m\u001b[0m\u001b[0;34m\u001b[0m\u001b[0m\n\u001b[1;32m    935\u001b[0m                     \u001b[0mself\u001b[0m\u001b[0;34m.\u001b[0m\u001b[0m_output\u001b[0m\u001b[0;34m.\u001b[0m\u001b[0mextend\u001b[0m\u001b[0;34m(\u001b[0m\u001b[0mjob\u001b[0m\u001b[0;34m.\u001b[0m\u001b[0mget\u001b[0m\u001b[0;34m(\u001b[0m\u001b[0;34m)\u001b[0m\u001b[0;34m)\u001b[0m\u001b[0;34m\u001b[0m\u001b[0;34m\u001b[0m\u001b[0m\n",
      "\u001b[0;32m~/anaconda3/lib/python3.8/site-packages/joblib/_parallel_backends.py\u001b[0m in \u001b[0;36mwrap_future_result\u001b[0;34m(future, timeout)\u001b[0m\n\u001b[1;32m    540\u001b[0m         AsyncResults.get from multiprocessing.\"\"\"\n\u001b[1;32m    541\u001b[0m         \u001b[0;32mtry\u001b[0m\u001b[0;34m:\u001b[0m\u001b[0;34m\u001b[0m\u001b[0;34m\u001b[0m\u001b[0m\n\u001b[0;32m--> 542\u001b[0;31m             \u001b[0;32mreturn\u001b[0m \u001b[0mfuture\u001b[0m\u001b[0;34m.\u001b[0m\u001b[0mresult\u001b[0m\u001b[0;34m(\u001b[0m\u001b[0mtimeout\u001b[0m\u001b[0;34m=\u001b[0m\u001b[0mtimeout\u001b[0m\u001b[0;34m)\u001b[0m\u001b[0;34m\u001b[0m\u001b[0;34m\u001b[0m\u001b[0m\n\u001b[0m\u001b[1;32m    543\u001b[0m         \u001b[0;32mexcept\u001b[0m \u001b[0mCfTimeoutError\u001b[0m \u001b[0;32mas\u001b[0m \u001b[0me\u001b[0m\u001b[0;34m:\u001b[0m\u001b[0;34m\u001b[0m\u001b[0;34m\u001b[0m\u001b[0m\n\u001b[1;32m    544\u001b[0m             \u001b[0;32mraise\u001b[0m \u001b[0mTimeoutError\u001b[0m \u001b[0;32mfrom\u001b[0m \u001b[0me\u001b[0m\u001b[0;34m\u001b[0m\u001b[0;34m\u001b[0m\u001b[0m\n",
      "\u001b[0;32m~/anaconda3/lib/python3.8/concurrent/futures/_base.py\u001b[0m in \u001b[0;36mresult\u001b[0;34m(self, timeout)\u001b[0m\n\u001b[1;32m    432\u001b[0m                 \u001b[0;32mreturn\u001b[0m \u001b[0mself\u001b[0m\u001b[0;34m.\u001b[0m\u001b[0m__get_result\u001b[0m\u001b[0;34m(\u001b[0m\u001b[0;34m)\u001b[0m\u001b[0;34m\u001b[0m\u001b[0;34m\u001b[0m\u001b[0m\n\u001b[1;32m    433\u001b[0m \u001b[0;34m\u001b[0m\u001b[0m\n\u001b[0;32m--> 434\u001b[0;31m             \u001b[0mself\u001b[0m\u001b[0;34m.\u001b[0m\u001b[0m_condition\u001b[0m\u001b[0;34m.\u001b[0m\u001b[0mwait\u001b[0m\u001b[0;34m(\u001b[0m\u001b[0mtimeout\u001b[0m\u001b[0;34m)\u001b[0m\u001b[0;34m\u001b[0m\u001b[0;34m\u001b[0m\u001b[0m\n\u001b[0m\u001b[1;32m    435\u001b[0m \u001b[0;34m\u001b[0m\u001b[0m\n\u001b[1;32m    436\u001b[0m             \u001b[0;32mif\u001b[0m \u001b[0mself\u001b[0m\u001b[0;34m.\u001b[0m\u001b[0m_state\u001b[0m \u001b[0;32min\u001b[0m \u001b[0;34m[\u001b[0m\u001b[0mCANCELLED\u001b[0m\u001b[0;34m,\u001b[0m \u001b[0mCANCELLED_AND_NOTIFIED\u001b[0m\u001b[0;34m]\u001b[0m\u001b[0;34m:\u001b[0m\u001b[0;34m\u001b[0m\u001b[0;34m\u001b[0m\u001b[0m\n",
      "\u001b[0;32m~/anaconda3/lib/python3.8/threading.py\u001b[0m in \u001b[0;36mwait\u001b[0;34m(self, timeout)\u001b[0m\n\u001b[1;32m    300\u001b[0m         \u001b[0;32mtry\u001b[0m\u001b[0;34m:\u001b[0m    \u001b[0;31m# restore state no matter what (e.g., KeyboardInterrupt)\u001b[0m\u001b[0;34m\u001b[0m\u001b[0;34m\u001b[0m\u001b[0m\n\u001b[1;32m    301\u001b[0m             \u001b[0;32mif\u001b[0m \u001b[0mtimeout\u001b[0m \u001b[0;32mis\u001b[0m \u001b[0;32mNone\u001b[0m\u001b[0;34m:\u001b[0m\u001b[0;34m\u001b[0m\u001b[0;34m\u001b[0m\u001b[0m\n\u001b[0;32m--> 302\u001b[0;31m                 \u001b[0mwaiter\u001b[0m\u001b[0;34m.\u001b[0m\u001b[0macquire\u001b[0m\u001b[0;34m(\u001b[0m\u001b[0;34m)\u001b[0m\u001b[0;34m\u001b[0m\u001b[0;34m\u001b[0m\u001b[0m\n\u001b[0m\u001b[1;32m    303\u001b[0m                 \u001b[0mgotit\u001b[0m \u001b[0;34m=\u001b[0m \u001b[0;32mTrue\u001b[0m\u001b[0;34m\u001b[0m\u001b[0;34m\u001b[0m\u001b[0m\n\u001b[1;32m    304\u001b[0m             \u001b[0;32melse\u001b[0m\u001b[0;34m:\u001b[0m\u001b[0;34m\u001b[0m\u001b[0;34m\u001b[0m\u001b[0m\n",
      "\u001b[0;31mKeyboardInterrupt\u001b[0m: "
     ]
    }
   ],
   "source": [
    "grid_search.fit(x_train,y_train)"
   ]
  },
  {
   "cell_type": "code",
   "execution_count": null,
   "metadata": {},
   "outputs": [],
   "source": [
    "grid_search.best_estimator_"
   ]
  },
  {
   "cell_type": "code",
   "execution_count": null,
   "metadata": {},
   "outputs": [],
   "source": [
    "grid_search.cv_results_"
   ]
  },
  {
   "cell_type": "markdown",
   "metadata": {},
   "source": [
    " if you want you can now fit a ridge regression model with obtained value of alpha , although there is no need, grid search automatically fits the best estimator on the entire data, you can directly use this to make predictions on test_data. But if you want to look at coefficients , its much more convenient to fit the model with direct function"
   ]
  },
  {
   "cell_type": "markdown",
   "metadata": {},
   "source": [
    "Using the report function given below you can see the cv performance of top few models as well, that will the tentative performance"
   ]
  },
  {
   "cell_type": "code",
   "execution_count": null,
   "metadata": {},
   "outputs": [],
   "source": [
    "def report(results, n_top=3):\n",
    "    for i in range(1, n_top + 1):\n",
    "        candidates = np.flatnonzero(results['rank_test_score'] == i)\n",
    "        for candidate in candidates:\n",
    "            print(\"Model with rank: {0}\".format(i))\n",
    "            print(\"Mean validation score: {0:.6f} (std: {1:.6f})\".format(\n",
    "                  results['mean_test_score'][candidate],\n",
    "                  results['std_test_score'][candidate]))\n",
    "            print(\"Parameters: {0}\".format(results['params'][candidate]))\n",
    "            print(\"\")"
   ]
  },
  {
   "cell_type": "code",
   "execution_count": null,
   "metadata": {},
   "outputs": [],
   "source": [
    "report(grid_search.cv_results_,5)"
   ]
  },
  {
   "cell_type": "code",
   "execution_count": null,
   "metadata": {},
   "outputs": [],
   "source": [
    "test_pred=grid_search.predict(x_test)"
   ]
  },
  {
   "cell_type": "code",
   "execution_count": null,
   "metadata": {},
   "outputs": [],
   "source": [
    "pd.DataFrame(test_pred).to_csv(\"mysubmission.csv\",index=False)"
   ]
  },
  {
   "cell_type": "markdown",
   "metadata": {},
   "source": [
    "## For looking at coefficients"
   ]
  },
  {
   "cell_type": "code",
   "execution_count": null,
   "metadata": {},
   "outputs": [],
   "source": [
    "grid_search.best_estimator_"
   ]
  },
  {
   "cell_type": "code",
   "execution_count": null,
   "metadata": {},
   "outputs": [],
   "source": [
    "ridge_model=grid_search.best_estimator_"
   ]
  },
  {
   "cell_type": "code",
   "execution_count": null,
   "metadata": {},
   "outputs": [],
   "source": [
    "ridge_model.fit(x_train,y_train)"
   ]
  },
  {
   "cell_type": "code",
   "execution_count": null,
   "metadata": {},
   "outputs": [],
   "source": [
    "list(zip(data_pipe.get_feature_names(),ridge_model.coef_))"
   ]
  },
  {
   "cell_type": "code",
   "execution_count": null,
   "metadata": {},
   "outputs": [],
   "source": [
    "lm.coef_/ridge_model.coef_\n"
   ]
  },
  {
   "cell_type": "markdown",
   "metadata": {},
   "source": [
    "## Lasso Regression"
   ]
  },
  {
   "cell_type": "code",
   "execution_count": null,
   "metadata": {},
   "outputs": [],
   "source": [
    "lambdas=np.linspace(1,10,100)\n",
    "\n",
    "model=Lasso()\n",
    "\n",
    "params={'alpha':lambdas}"
   ]
  },
  {
   "cell_type": "code",
   "execution_count": null,
   "metadata": {},
   "outputs": [],
   "source": [
    "grid_search=GridSearchCV(model,\n",
    "                         param_grid=params,\n",
    "                         cv=10,\n",
    "                         scoring='neg_mean_absolute_error',\n",
    "                        verbose=20,n_jobs=-1)"
   ]
  },
  {
   "cell_type": "code",
   "execution_count": null,
   "metadata": {},
   "outputs": [],
   "source": [
    "grid_search.fit(x_train,y_train)"
   ]
  },
  {
   "cell_type": "code",
   "execution_count": null,
   "metadata": {},
   "outputs": [],
   "source": [
    "grid_search.best_params_"
   ]
  },
  {
   "cell_type": "code",
   "execution_count": null,
   "metadata": {},
   "outputs": [],
   "source": [
    "report(grid_search.cv_results_,5)"
   ]
  },
  {
   "cell_type": "markdown",
   "metadata": {},
   "source": [
    "you can see that, the best value of alpha comes at the edge of the range that we tried , we should expand the trial range on that side and run this again"
   ]
  },
  {
   "cell_type": "code",
   "execution_count": null,
   "metadata": {},
   "outputs": [],
   "source": [
    "lambdas=np.linspace(.001,2,100)\n",
    "\n",
    "params={'alpha':lambdas}"
   ]
  },
  {
   "cell_type": "code",
   "execution_count": null,
   "metadata": {},
   "outputs": [],
   "source": [
    "grid_search=GridSearchCV(model,param_grid=params,cv=10,scoring='neg_mean_absolute_error')\n",
    "grid_search.fit(x_train,y_train)"
   ]
  },
  {
   "cell_type": "code",
   "execution_count": null,
   "metadata": {},
   "outputs": [],
   "source": [
    "grid_search.best_estimator_"
   ]
  },
  {
   "cell_type": "code",
   "execution_count": null,
   "metadata": {},
   "outputs": [],
   "source": [
    "report(grid_search.cv_results_,5)"
   ]
  },
  {
   "cell_type": "code",
   "execution_count": null,
   "metadata": {},
   "outputs": [],
   "source": [
    "lasso_model=grid_search.best_estimator_"
   ]
  },
  {
   "cell_type": "code",
   "execution_count": null,
   "metadata": {},
   "outputs": [],
   "source": [
    "lasso_model.fit(x_train,y_train)"
   ]
  },
  {
   "cell_type": "code",
   "execution_count": null,
   "metadata": {},
   "outputs": [],
   "source": [
    "lasso_model.intercept_"
   ]
  },
  {
   "cell_type": "code",
   "execution_count": null,
   "metadata": {},
   "outputs": [],
   "source": [
    "list(zip(data_pipe.get_feature_names(),lasso_model.coef_))\n"
   ]
  },
  {
   "cell_type": "code",
   "execution_count": null,
   "metadata": {},
   "outputs": [],
   "source": [
    "(lasso_model.coef_==0).sum()\n"
   ]
  },
  {
   "cell_type": "markdown",
   "metadata": {},
   "source": [
    "# Logistic Regression"
   ]
  },
  {
   "cell_type": "code",
   "execution_count": null,
   "metadata": {},
   "outputs": [],
   "source": [
    "import warnings\n",
    "\n",
    "warnings.filterwarnings('ignore')\n",
    "\n",
    "import pandas as pd \n",
    "import numpy as np\n",
    "\n",
    "from sklearn.pipeline import Pipeline,FeatureUnion\n",
    "from sklearn.base import BaseEstimator, TransformerMixin\n",
    "\n",
    "from mypipes_linear import *"
   ]
  },
  {
   "cell_type": "code",
   "execution_count": null,
   "metadata": {},
   "outputs": [],
   "source": [
    "train_file=r'/home/siddarth.jha@npci.org.in/Documents/Training/Data/rg_train.csv'\n",
    "test_file=r'/home/siddarth.jha@npci.org.in/Documents/Training/Data/rg_test.csv'\n",
    "bd_train=pd.read_csv(train_file)\n",
    "\n",
    "bd_test=pd.read_csv(test_file)"
   ]
  },
  {
   "cell_type": "code",
   "execution_count": null,
   "metadata": {},
   "outputs": [],
   "source": [
    "bd_train.head()"
   ]
  },
  {
   "cell_type": "code",
   "execution_count": null,
   "metadata": {},
   "outputs": [],
   "source": [
    "bd_train['age_band'].value_counts(dropna=False)"
   ]
  },
  {
   "cell_type": "code",
   "execution_count": null,
   "metadata": {},
   "outputs": [],
   "source": [
    "# drop : REF_NO, post_area , post_code,Revenue.Grid \n",
    "# children : convert zero:0 and 4+: 4 and then convert to numeric \n",
    "# age_band : 71+ : 71, Unknown: NA, rest: split and average\n",
    "# status, occupation, occupation_partner,home_status: create dummies with freq cutoff\n",
    "# family_income : remove [,>=], 35000:35000, 4000: 4000, unknown:NA, rest : split then avg\n",
    "# self_employed, self_employed_partner : dummies \n",
    "# year_last_moved : keep as is \n",
    "# TVarea : dummies \n",
    "# 'Average.Credit.Card.Transaction', 'Balance.Transfer',\n",
    "#       'Term.Deposit', 'Life.Insurance', 'Medical.Insurance',\n",
    "#       'Average.A.C.Balance', 'Personal.Loan', 'Investment.in.Mutual.Fund',\n",
    "#       'Investment.Tax.Saving.Bond', 'Home.Loan', 'Online.Purchase.Amount'\n",
    "# 'Investment.in.Commudity',\n",
    "#       'Investment.in.Equity', 'Investment.in.Derivative',\n",
    "#      'Portfolio.Balance' : as is \n",
    "# gender , region : dummies \n",
    "    "
   ]
  },
  {
   "cell_type": "code",
   "execution_count": null,
   "metadata": {},
   "outputs": [],
   "source": [
    "bd_train.info()"
   ]
  },
  {
   "cell_type": "code",
   "execution_count": null,
   "metadata": {},
   "outputs": [],
   "source": [
    "num_vars=list(bd_train.select_dtypes(exclude=['object']).columns)"
   ]
  },
  {
   "cell_type": "code",
   "execution_count": null,
   "metadata": {},
   "outputs": [],
   "source": [
    "num_vars"
   ]
  },
  {
   "cell_type": "code",
   "execution_count": null,
   "metadata": {},
   "outputs": [],
   "source": [
    "num_vars=[_ for _ in num_vars if _ not in ['REF_NO','Revenue.Grid']]"
   ]
  },
  {
   "cell_type": "code",
   "execution_count": null,
   "metadata": {},
   "outputs": [],
   "source": [
    "num_vars"
   ]
  },
  {
   "cell_type": "code",
   "execution_count": null,
   "metadata": {},
   "outputs": [],
   "source": [
    "cat_vars=list(bd_train.select_dtypes(include=['object']).columns)"
   ]
  },
  {
   "cell_type": "code",
   "execution_count": null,
   "metadata": {},
   "outputs": [],
   "source": [
    "cat_vars"
   ]
  },
  {
   "cell_type": "code",
   "execution_count": null,
   "metadata": {},
   "outputs": [],
   "source": [
    "cat_vars=[_ for _ in cat_vars if _ not in \n",
    "          ['children','age_band', 'post_code','post_area','family_income']]"
   ]
  },
  {
   "cell_type": "code",
   "execution_count": null,
   "metadata": {},
   "outputs": [],
   "source": [
    "cat_vars"
   ]
  },
  {
   "cell_type": "code",
   "execution_count": null,
   "metadata": {},
   "outputs": [],
   "source": [
    "p1=pdPipeline([\n",
    "    ('var_select',VarSelector(num_vars)),\n",
    "    ('missing_trt',DataFrameImputer())\n",
    "])"
   ]
  },
  {
   "cell_type": "code",
   "execution_count": null,
   "metadata": {},
   "outputs": [],
   "source": [
    "p2=pdPipeline([\n",
    "    ('var_select',VarSelector(cat_vars)),\n",
    "    ('missing_trt',DataFrameImputer()),\n",
    "    ('create_dummies',get_dummies_Pipe(70))\n",
    "])"
   ]
  },
  {
   "cell_type": "code",
   "execution_count": null,
   "metadata": {},
   "outputs": [],
   "source": [
    "p3=pdPipeline([\n",
    "    ('var_select',VarSelector(['age_band'])),\n",
    "    ('custom_fico',custom_age_band()),\n",
    "    ('missing_trt',DataFrameImputer())\n",
    "])\n",
    "\n",
    "p4=pdPipeline([\n",
    "    ('var_select',VarSelector(['family_income'])),\n",
    "    ('custom_fico',custom_family_income()),\n",
    "    ('missing_trt',DataFrameImputer())\n",
    "])\n",
    "\n",
    "p5=pdPipeline([\n",
    "    ('var_select',VarSelector(['children'])),\n",
    "    ('string_clean1',string_clean(replace_it='Zero',replace_with='0')),\n",
    "    ('string_clean2',string_clean(replace_it='4+',replace_with='4')),\n",
    "    ('convert_to_numeric',convert_to_numeric()),\n",
    "    ('missing_trt',DataFrameImputer())\n",
    "])"
   ]
  },
  {
   "cell_type": "code",
   "execution_count": null,
   "metadata": {},
   "outputs": [],
   "source": [
    "data_pipe=FeatureUnion([\n",
    "    ('num',p1),\n",
    "    ('obj_to_dum',p2),\n",
    "    ('age_band',p3),\n",
    "    ('family_income',p4),\n",
    "    ('children',p5)\n",
    "])"
   ]
  },
  {
   "cell_type": "code",
   "execution_count": null,
   "metadata": {},
   "outputs": [],
   "source": [
    "x_train=pd.DataFrame(data=data_pipe.fit_transform(bd_train),\n",
    "                     columns=data_pipe.get_feature_names())\n"
   ]
  },
  {
   "cell_type": "code",
   "execution_count": null,
   "metadata": {},
   "outputs": [],
   "source": [
    "x_test=pd.DataFrame(data=data_pipe.transform(bd_test),\n",
    "                     columns=data_pipe.get_feature_names())"
   ]
  },
  {
   "cell_type": "code",
   "execution_count": null,
   "metadata": {},
   "outputs": [],
   "source": [
    "bd_train['Revenue.Grid'].value_counts(dropna=False)"
   ]
  },
  {
   "cell_type": "code",
   "execution_count": null,
   "metadata": {},
   "outputs": [],
   "source": [
    "y_train=(bd_train['Revenue.Grid']==1).astype(int)"
   ]
  },
  {
   "cell_type": "code",
   "execution_count": null,
   "metadata": {},
   "outputs": [],
   "source": [
    "y_train.value_counts()"
   ]
  },
  {
   "cell_type": "code",
   "execution_count": null,
   "metadata": {},
   "outputs": [],
   "source": [
    "x_train.shape"
   ]
  },
  {
   "cell_type": "code",
   "execution_count": null,
   "metadata": {},
   "outputs": [],
   "source": [
    "x_test.shape"
   ]
  },
  {
   "cell_type": "code",
   "execution_count": null,
   "metadata": {},
   "outputs": [],
   "source": [
    "x_train.head()"
   ]
  },
  {
   "cell_type": "code",
   "execution_count": null,
   "metadata": {},
   "outputs": [],
   "source": [
    "from sklearn.linear_model import LogisticRegression"
   ]
  },
  {
   "cell_type": "code",
   "execution_count": null,
   "metadata": {},
   "outputs": [],
   "source": [
    "LogisticRegression?"
   ]
  },
  {
   "cell_type": "code",
   "execution_count": null,
   "metadata": {},
   "outputs": [],
   "source": [
    "params={'class_weight':['balanced',None],\n",
    "        'penalty':['l1','l2'],\n",
    "        'C':[.0001,.0005,.001,.005, .000001]}"
   ]
  },
  {
   "cell_type": "code",
   "execution_count": null,
   "metadata": {},
   "outputs": [],
   "source": [
    "model=LogisticRegression(fit_intercept=True, solver='liblinear')"
   ]
  },
  {
   "cell_type": "code",
   "execution_count": null,
   "metadata": {},
   "outputs": [],
   "source": [
    "from sklearn.model_selection import GridSearchCV"
   ]
  },
  {
   "cell_type": "code",
   "execution_count": null,
   "metadata": {},
   "outputs": [],
   "source": [
    "grid_search=GridSearchCV(model,\n",
    "                         param_grid=params,\n",
    "                         cv=10,\n",
    "                         scoring=\"roc_auc\",\n",
    "                         n_jobs=-1,\n",
    "                         verbose=20)"
   ]
  },
  {
   "cell_type": "code",
   "execution_count": null,
   "metadata": {},
   "outputs": [],
   "source": [
    "# from imblearn.under_sampling import RandomUnderSampler"
   ]
  },
  {
   "cell_type": "code",
   "execution_count": null,
   "metadata": {},
   "outputs": [],
   "source": [
    "# oversample = RandomUnderSampler(sampling_strategy=0.5)\n",
    "# x_sample, y_sample = oversample.fit_resample(x_train, y_train)"
   ]
  },
  {
   "cell_type": "code",
   "execution_count": null,
   "metadata": {},
   "outputs": [],
   "source": [
    "# y_sample.value_counts()"
   ]
  },
  {
   "cell_type": "code",
   "execution_count": null,
   "metadata": {
    "scrolled": true
   },
   "outputs": [],
   "source": [
    "grid_search.fit(x_train,y_train)\n",
    "# GridSearchCV(cv=10, estimator=LogisticRegression(solver='liblinear'), n_jobs=-1,\n",
    "#              param_grid={'C': [0.0001, 0.0005, 0.001, 0.005, 0.01, 0.05, 0.1, 1,\n",
    "#                                2, 5],\n",
    "#                          'class_weight': ['balanced', None],\n",
    "#                          'penalty': ['l1', 'l2']},\n",
    "#              scoring='roc_auc', verbose=20)"
   ]
  },
  {
   "cell_type": "code",
   "execution_count": null,
   "metadata": {},
   "outputs": [],
   "source": [
    "type(y_train)"
   ]
  },
  {
   "cell_type": "code",
   "execution_count": null,
   "metadata": {},
   "outputs": [],
   "source": [
    "grid_search.best_estimator_\n",
    "# LogisticRegression(C=0.005, class_weight='balanced', penalty='l1',\n",
    "#                    solver='liblinear')"
   ]
  },
  {
   "cell_type": "code",
   "execution_count": null,
   "metadata": {},
   "outputs": [],
   "source": [
    "logr=grid_search.best_estimator_"
   ]
  },
  {
   "cell_type": "code",
   "execution_count": null,
   "metadata": {},
   "outputs": [],
   "source": [
    "report(grid_search.cv_results_,5)\n",
    "\n",
    "# Model with rank: 1\n",
    "# Mean validation score: 0.954793 (std: 0.012707)\n",
    "# Parameters: {'C': 0.005, 'class_weight': 'balanced', 'penalty': 'l1'}\n",
    "\n",
    "# Model with rank: 2\n",
    "# Mean validation score: 0.954763 (std: 0.012756)\n",
    "# Parameters: {'C': 0.01, 'class_weight': 'balanced', 'penalty': 'l1'}\n",
    "\n",
    "# Model with rank: 3\n",
    "# Mean validation score: 0.954739 (std: 0.012947)\n",
    "# Parameters: {'C': 0.05, 'class_weight': 'balanced', 'penalty': 'l1'}\n",
    "\n",
    "# Model with rank: 4\n",
    "# Mean validation score: 0.954738 (std: 0.012918)\n",
    "# Parameters: {'C': 0.005, 'class_weight': 'balanced', 'penalty': 'l2'}\n",
    "\n",
    "# Model with rank: 5\n",
    "# Mean validation score: 0.954731 (std: 0.012832)\n",
    "# Parameters: {'C': 0.0005, 'class_weight': 'balanced', 'penalty': 'l2'}\n"
   ]
  },
  {
   "cell_type": "code",
   "execution_count": null,
   "metadata": {},
   "outputs": [],
   "source": [
    "LogisticRegression?"
   ]
  },
  {
   "cell_type": "code",
   "execution_count": null,
   "metadata": {},
   "outputs": [],
   "source": [
    "logr=LogisticRegression(fit_intercept=True,\n",
    "                        **{'C': 0.005, 'class_weight': 'balanced', 'penalty': 'l1'},solver='liblinear')\n",
    "# default solver lbfgs does not support l1 penalty for some versions of sklearn\n",
    "# if you get an error like that , simply use solver='liblinear', it supports both l1 & l2 penalty\n"
   ]
  },
  {
   "cell_type": "code",
   "execution_count": null,
   "metadata": {},
   "outputs": [],
   "source": [
    "logr.fit(x_train,y_train)"
   ]
  },
  {
   "cell_type": "code",
   "execution_count": null,
   "metadata": {},
   "outputs": [],
   "source": [
    "(logr.coef_[0]==0).sum()"
   ]
  },
  {
   "cell_type": "code",
   "execution_count": null,
   "metadata": {},
   "outputs": [],
   "source": [
    "list(zip(x_train.columns,logr.coef_[0]))"
   ]
  },
  {
   "cell_type": "code",
   "execution_count": null,
   "metadata": {},
   "outputs": [],
   "source": [
    "logr.predict_proba(x_test)"
   ]
  },
  {
   "cell_type": "code",
   "execution_count": null,
   "metadata": {},
   "outputs": [],
   "source": [
    "logr.classes_"
   ]
  },
  {
   "cell_type": "code",
   "execution_count": null,
   "metadata": {},
   "outputs": [],
   "source": [
    "cutoffs=np.linspace(0.01,0.99,99)\n",
    "\n",
    "cutoffs"
   ]
  },
  {
   "cell_type": "code",
   "execution_count": null,
   "metadata": {},
   "outputs": [],
   "source": [
    "logr.predict_proba(x_train)"
   ]
  },
  {
   "cell_type": "code",
   "execution_count": null,
   "metadata": {},
   "outputs": [],
   "source": [
    "logr.classes_"
   ]
  },
  {
   "cell_type": "code",
   "execution_count": null,
   "metadata": {},
   "outputs": [],
   "source": [
    "train_score=logr.predict_proba(x_train)[:,1]\n",
    "real=y_train\n",
    " # In  order to find the probability of which column is for outcome 1 and which for outcome 0\n"
   ]
  },
  {
   "cell_type": "code",
   "execution_count": null,
   "metadata": {},
   "outputs": [],
   "source": [
    "print(train_score.shape)\n",
    "print(real.value_counts())"
   ]
  },
  {
   "cell_type": "code",
   "execution_count": null,
   "metadata": {},
   "outputs": [],
   "source": [
    "(train_score>0.2).astype(int)"
   ]
  },
  {
   "cell_type": "code",
   "execution_count": null,
   "metadata": {},
   "outputs": [],
   "source": [
    "KS_all=[]\n",
    "\n",
    "for cutoff in cutoffs:\n",
    "    \n",
    "    predicted=(train_score>cutoff).astype(int)\n",
    "\n",
    "    TP=((predicted==1) & (real==1)).sum()\n",
    "    TN=((predicted==0) & (real==0)).sum()\n",
    "    FP=((predicted==1) & (real==0)).sum()\n",
    "    FN=((predicted==0) & (real==1)).sum()\n",
    "    \n",
    "    P=TP+FN\n",
    "    N=TN+FP\n",
    "    \n",
    "      \n",
    "    KS=(TP/P)-(FP/N)\n",
    "       \n",
    "    KS_all.append(KS)\n",
    "    \n"
   ]
  },
  {
   "cell_type": "code",
   "execution_count": null,
   "metadata": {},
   "outputs": [],
   "source": [
    "KS_all"
   ]
  },
  {
   "cell_type": "code",
   "execution_count": null,
   "metadata": {},
   "outputs": [],
   "source": [
    "list(zip(cutoffs,KS_all))"
   ]
  },
  {
   "cell_type": "code",
   "execution_count": null,
   "metadata": {},
   "outputs": [],
   "source": [
    "mycutoff=cutoffs[KS_all==max(KS_all)]\n",
    "mycutoff"
   ]
  },
  {
   "cell_type": "code",
   "execution_count": null,
   "metadata": {},
   "outputs": [],
   "source": [
    "logr.intercept_"
   ]
  },
  {
   "cell_type": "code",
   "execution_count": null,
   "metadata": {},
   "outputs": [],
   "source": [
    "list(zip(x_train.columns,logr.coef_[0]))"
   ]
  },
  {
   "cell_type": "markdown",
   "metadata": {},
   "source": [
    "if you simply had to submit probability scores , you could do this "
   ]
  },
  {
   "cell_type": "code",
   "execution_count": null,
   "metadata": {},
   "outputs": [],
   "source": [
    "logr.predict_proba(x_test)"
   ]
  },
  {
   "cell_type": "code",
   "execution_count": null,
   "metadata": {},
   "outputs": [],
   "source": [
    "test_score=logr.predict_proba(x_test)[:,1]\n",
    "test_score"
   ]
  },
  {
   "cell_type": "code",
   "execution_count": null,
   "metadata": {},
   "outputs": [],
   "source": [
    "(test_score>mycutoff).astype(int)"
   ]
  },
  {
   "cell_type": "code",
   "execution_count": null,
   "metadata": {},
   "outputs": [],
   "source": [
    "pd.DataFrame(test_score).to_csv(\"mysubmission.csv\",index=False)"
   ]
  },
  {
   "cell_type": "markdown",
   "metadata": {},
   "source": [
    "if you had to submit hardclasses , you can apply the cutoff obtained above and then submit"
   ]
  },
  {
   "cell_type": "code",
   "execution_count": null,
   "metadata": {},
   "outputs": [],
   "source": [
    "test_classes=(test_score>mycutoff).astype(int)"
   ]
  },
  {
   "cell_type": "code",
   "execution_count": null,
   "metadata": {},
   "outputs": [],
   "source": [
    "pd.DataFrame(test_classes).to_csv(\"mysubmission.csv\",index=False)"
   ]
  },
  {
   "cell_type": "code",
   "execution_count": null,
   "metadata": {},
   "outputs": [],
   "source": []
  }
 ],
 "metadata": {
  "kernelspec": {
   "display_name": "Python 3",
   "language": "python",
   "name": "python3"
  },
  "language_info": {
   "codemirror_mode": {
    "name": "ipython",
    "version": 3
   },
   "file_extension": ".py",
   "mimetype": "text/x-python",
   "name": "python",
   "nbconvert_exporter": "python",
   "pygments_lexer": "ipython3",
   "version": "3.8.8"
  }
 },
 "nbformat": 4,
 "nbformat_minor": 2
}
