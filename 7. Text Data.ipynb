{
 "cells": [
  {
   "cell_type": "code",
   "execution_count": 1,
   "id": "3763abcf",
   "metadata": {},
   "outputs": [],
   "source": [
    "import pandas as pd\n",
    "import numpy as np\n",
    "\n",
    "import warnings\n",
    "warnings.filterwarnings('ignore')"
   ]
  },
  {
   "cell_type": "code",
   "execution_count": 2,
   "id": "72d95a38",
   "metadata": {},
   "outputs": [],
   "source": [
    "data_file=r'/home/siddarth.jha@npci.org.in/Documents/Training/Data/SMSSpamCollection.txt'"
   ]
  },
  {
   "cell_type": "code",
   "execution_count": 3,
   "id": "4910a057",
   "metadata": {},
   "outputs": [],
   "source": [
    "f=open(data_file,\"r\")\n",
    "target=[]\n",
    "sms=[]\n",
    "\n",
    "for line in f:\n",
    "    line = line.strip()\n",
    "\n",
    "    if line == \"\":\n",
    "        continue\n",
    "\n",
    "    if line[0:4] == 'spam':\n",
    "        sms.append(line.split('spam')[1].strip())\n",
    "        target.append('spam')\n",
    "    \n",
    "    if line[0:3]==\"ham\":\n",
    "        sms.append(line.split('ham')[1].strip())\n",
    "        target.append(\"ham\")\n",
    "\n",
    "f.close()\n",
    "mydata=pd.DataFrame(list(zip(target,sms)),columns=['target','sms'])"
   ]
  },
  {
   "cell_type": "code",
   "execution_count": 4,
   "id": "cce33688",
   "metadata": {},
   "outputs": [
    {
     "data": {
      "text/html": [
       "<div>\n",
       "<style scoped>\n",
       "    .dataframe tbody tr th:only-of-type {\n",
       "        vertical-align: middle;\n",
       "    }\n",
       "\n",
       "    .dataframe tbody tr th {\n",
       "        vertical-align: top;\n",
       "    }\n",
       "\n",
       "    .dataframe thead th {\n",
       "        text-align: right;\n",
       "    }\n",
       "</style>\n",
       "<table border=\"1\" class=\"dataframe\">\n",
       "  <thead>\n",
       "    <tr style=\"text-align: right;\">\n",
       "      <th></th>\n",
       "      <th>target</th>\n",
       "      <th>sms</th>\n",
       "    </tr>\n",
       "  </thead>\n",
       "  <tbody>\n",
       "    <tr>\n",
       "      <th>0</th>\n",
       "      <td>ham</td>\n",
       "      <td>Go until jurong point, crazy.. Available only ...</td>\n",
       "    </tr>\n",
       "    <tr>\n",
       "      <th>1</th>\n",
       "      <td>ham</td>\n",
       "      <td>Ok lar... Joking wif u oni...</td>\n",
       "    </tr>\n",
       "    <tr>\n",
       "      <th>2</th>\n",
       "      <td>spam</td>\n",
       "      <td>Free entry in 2 a wkly comp to win FA Cup fina...</td>\n",
       "    </tr>\n",
       "    <tr>\n",
       "      <th>3</th>\n",
       "      <td>ham</td>\n",
       "      <td>U dun say so early hor... U c already then say...</td>\n",
       "    </tr>\n",
       "    <tr>\n",
       "      <th>4</th>\n",
       "      <td>ham</td>\n",
       "      <td>Nah I don't think he goes to usf, he lives aro...</td>\n",
       "    </tr>\n",
       "    <tr>\n",
       "      <th>...</th>\n",
       "      <td>...</td>\n",
       "      <td>...</td>\n",
       "    </tr>\n",
       "    <tr>\n",
       "      <th>5569</th>\n",
       "      <td>spam</td>\n",
       "      <td>This is the 2nd time we have tried 2 contact u...</td>\n",
       "    </tr>\n",
       "    <tr>\n",
       "      <th>5570</th>\n",
       "      <td>ham</td>\n",
       "      <td>Will ü b going to esplanade fr home?</td>\n",
       "    </tr>\n",
       "    <tr>\n",
       "      <th>5571</th>\n",
       "      <td>ham</td>\n",
       "      <td>Pity, * was in mood for that. So...any other s...</td>\n",
       "    </tr>\n",
       "    <tr>\n",
       "      <th>5572</th>\n",
       "      <td>ham</td>\n",
       "      <td>The guy did some bitching but I acted like i'd...</td>\n",
       "    </tr>\n",
       "    <tr>\n",
       "      <th>5573</th>\n",
       "      <td>ham</td>\n",
       "      <td>Rofl. Its true to its name</td>\n",
       "    </tr>\n",
       "  </tbody>\n",
       "</table>\n",
       "<p>5574 rows × 2 columns</p>\n",
       "</div>"
      ],
      "text/plain": [
       "     target                                                sms\n",
       "0       ham  Go until jurong point, crazy.. Available only ...\n",
       "1       ham                      Ok lar... Joking wif u oni...\n",
       "2      spam  Free entry in 2 a wkly comp to win FA Cup fina...\n",
       "3       ham  U dun say so early hor... U c already then say...\n",
       "4       ham  Nah I don't think he goes to usf, he lives aro...\n",
       "...     ...                                                ...\n",
       "5569   spam  This is the 2nd time we have tried 2 contact u...\n",
       "5570    ham               Will ü b going to esplanade fr home?\n",
       "5571    ham  Pity, * was in mood for that. So...any other s...\n",
       "5572    ham  The guy did some bitching but I acted like i'd...\n",
       "5573    ham                         Rofl. Its true to its name\n",
       "\n",
       "[5574 rows x 2 columns]"
      ]
     },
     "execution_count": 4,
     "metadata": {},
     "output_type": "execute_result"
    }
   ],
   "source": [
    "mydata"
   ]
  },
  {
   "cell_type": "code",
   "execution_count": 5,
   "id": "d79e3e47",
   "metadata": {},
   "outputs": [
    {
     "data": {
      "text/plain": [
       "ham     4827\n",
       "spam     747\n",
       "Name: target, dtype: int64"
      ]
     },
     "execution_count": 5,
     "metadata": {},
     "output_type": "execute_result"
    }
   ],
   "source": [
    "mydata['target'].value_counts()"
   ]
  },
  {
   "cell_type": "code",
   "execution_count": 6,
   "id": "90d740a9",
   "metadata": {},
   "outputs": [],
   "source": [
    "all_sms=\" \".join(mydata['sms'])\n",
    "ham_sms=\" \".join(mydata.loc[mydata['target']==\"ham\",\"sms\"])\n",
    "spam_sms=\" \".join(mydata.loc[mydata['target']==\"spam\",\"sms\"])\n",
    "# spam_sms"
   ]
  },
  {
   "cell_type": "code",
   "execution_count": 7,
   "id": "f45441b5",
   "metadata": {},
   "outputs": [],
   "source": [
    "from wordcloud import WordCloud, STOPWORDS\n",
    "import matplotlib.pyplot as plt\n",
    "%matplotlib inline"
   ]
  },
  {
   "cell_type": "code",
   "execution_count": 8,
   "id": "175204c7",
   "metadata": {},
   "outputs": [
    {
     "ename": "KeyboardInterrupt",
     "evalue": "",
     "output_type": "error",
     "traceback": [
      "\u001b[0;31m---------------------------------------------------------------------------\u001b[0m",
      "\u001b[0;31mKeyboardInterrupt\u001b[0m                         Traceback (most recent call last)",
      "\u001b[0;32m<ipython-input-8-33ad0af1d4ab>\u001b[0m in \u001b[0;36m<module>\u001b[0;34m\u001b[0m\n\u001b[0;32m----> 1\u001b[0;31m wordcloud = WordCloud(stopwords=STOPWORDS, background_color='white',\n\u001b[0m\u001b[1;32m      2\u001b[0m width=4000,height=2000).generate(all_sms)\n\u001b[1;32m      3\u001b[0m \u001b[0mplt\u001b[0m\u001b[0;34m.\u001b[0m\u001b[0mimshow\u001b[0m\u001b[0;34m(\u001b[0m\u001b[0mwordcloud\u001b[0m\u001b[0;34m)\u001b[0m\u001b[0;34m\u001b[0m\u001b[0;34m\u001b[0m\u001b[0m\n\u001b[1;32m      4\u001b[0m \u001b[0mplt\u001b[0m\u001b[0;34m.\u001b[0m\u001b[0maxis\u001b[0m\u001b[0;34m(\u001b[0m\u001b[0;34m'off'\u001b[0m\u001b[0;34m)\u001b[0m\u001b[0;34m\u001b[0m\u001b[0;34m\u001b[0m\u001b[0m\n\u001b[1;32m      5\u001b[0m \u001b[0mplt\u001b[0m\u001b[0;34m.\u001b[0m\u001b[0mshow\u001b[0m\u001b[0;34m(\u001b[0m\u001b[0;34m)\u001b[0m\u001b[0;34m\u001b[0m\u001b[0;34m\u001b[0m\u001b[0m\n",
      "\u001b[0;32m~/anaconda3/lib/python3.8/site-packages/wordcloud/wordcloud.py\u001b[0m in \u001b[0;36mgenerate\u001b[0;34m(self, text)\u001b[0m\n\u001b[1;32m    630\u001b[0m         \u001b[0mself\u001b[0m\u001b[0;34m\u001b[0m\u001b[0;34m\u001b[0m\u001b[0m\n\u001b[1;32m    631\u001b[0m         \"\"\"\n\u001b[0;32m--> 632\u001b[0;31m         \u001b[0;32mreturn\u001b[0m \u001b[0mself\u001b[0m\u001b[0;34m.\u001b[0m\u001b[0mgenerate_from_text\u001b[0m\u001b[0;34m(\u001b[0m\u001b[0mtext\u001b[0m\u001b[0;34m)\u001b[0m\u001b[0;34m\u001b[0m\u001b[0;34m\u001b[0m\u001b[0m\n\u001b[0m\u001b[1;32m    633\u001b[0m \u001b[0;34m\u001b[0m\u001b[0m\n\u001b[1;32m    634\u001b[0m     \u001b[0;32mdef\u001b[0m \u001b[0m_check_generated\u001b[0m\u001b[0;34m(\u001b[0m\u001b[0mself\u001b[0m\u001b[0;34m)\u001b[0m\u001b[0;34m:\u001b[0m\u001b[0;34m\u001b[0m\u001b[0;34m\u001b[0m\u001b[0m\n",
      "\u001b[0;32m~/anaconda3/lib/python3.8/site-packages/wordcloud/wordcloud.py\u001b[0m in \u001b[0;36mgenerate_from_text\u001b[0;34m(self, text)\u001b[0m\n\u001b[1;32m    612\u001b[0m         \"\"\"\n\u001b[1;32m    613\u001b[0m         \u001b[0mwords\u001b[0m \u001b[0;34m=\u001b[0m \u001b[0mself\u001b[0m\u001b[0;34m.\u001b[0m\u001b[0mprocess_text\u001b[0m\u001b[0;34m(\u001b[0m\u001b[0mtext\u001b[0m\u001b[0;34m)\u001b[0m\u001b[0;34m\u001b[0m\u001b[0;34m\u001b[0m\u001b[0m\n\u001b[0;32m--> 614\u001b[0;31m         \u001b[0mself\u001b[0m\u001b[0;34m.\u001b[0m\u001b[0mgenerate_from_frequencies\u001b[0m\u001b[0;34m(\u001b[0m\u001b[0mwords\u001b[0m\u001b[0;34m)\u001b[0m\u001b[0;34m\u001b[0m\u001b[0;34m\u001b[0m\u001b[0m\n\u001b[0m\u001b[1;32m    615\u001b[0m         \u001b[0;32mreturn\u001b[0m \u001b[0mself\u001b[0m\u001b[0;34m\u001b[0m\u001b[0;34m\u001b[0m\u001b[0m\n\u001b[1;32m    616\u001b[0m \u001b[0;34m\u001b[0m\u001b[0m\n",
      "\u001b[0;32m~/anaconda3/lib/python3.8/site-packages/wordcloud/wordcloud.py\u001b[0m in \u001b[0;36mgenerate_from_frequencies\u001b[0;34m(self, frequencies, max_font_size)\u001b[0m\n\u001b[1;32m    501\u001b[0m                 \u001b[0mbox_size\u001b[0m \u001b[0;34m=\u001b[0m \u001b[0mdraw\u001b[0m\u001b[0;34m.\u001b[0m\u001b[0mtextsize\u001b[0m\u001b[0;34m(\u001b[0m\u001b[0mword\u001b[0m\u001b[0;34m,\u001b[0m \u001b[0mfont\u001b[0m\u001b[0;34m=\u001b[0m\u001b[0mtransposed_font\u001b[0m\u001b[0;34m)\u001b[0m\u001b[0;34m\u001b[0m\u001b[0;34m\u001b[0m\u001b[0m\n\u001b[1;32m    502\u001b[0m                 \u001b[0;31m# find possible places using integral image:\u001b[0m\u001b[0;34m\u001b[0m\u001b[0;34m\u001b[0m\u001b[0;34m\u001b[0m\u001b[0m\n\u001b[0;32m--> 503\u001b[0;31m                 result = occupancy.sample_position(box_size[1] + self.margin,\n\u001b[0m\u001b[1;32m    504\u001b[0m                                                    \u001b[0mbox_size\u001b[0m\u001b[0;34m[\u001b[0m\u001b[0;36m0\u001b[0m\u001b[0;34m]\u001b[0m \u001b[0;34m+\u001b[0m \u001b[0mself\u001b[0m\u001b[0;34m.\u001b[0m\u001b[0mmargin\u001b[0m\u001b[0;34m,\u001b[0m\u001b[0;34m\u001b[0m\u001b[0;34m\u001b[0m\u001b[0m\n\u001b[1;32m    505\u001b[0m                                                    random_state)\n",
      "\u001b[0;32m~/anaconda3/lib/python3.8/site-packages/wordcloud/wordcloud.py\u001b[0m in \u001b[0;36msample_position\u001b[0;34m(self, size_x, size_y, random_state)\u001b[0m\n\u001b[1;32m     48\u001b[0m \u001b[0;34m\u001b[0m\u001b[0m\n\u001b[1;32m     49\u001b[0m     \u001b[0;32mdef\u001b[0m \u001b[0msample_position\u001b[0m\u001b[0;34m(\u001b[0m\u001b[0mself\u001b[0m\u001b[0;34m,\u001b[0m \u001b[0msize_x\u001b[0m\u001b[0;34m,\u001b[0m \u001b[0msize_y\u001b[0m\u001b[0;34m,\u001b[0m \u001b[0mrandom_state\u001b[0m\u001b[0;34m)\u001b[0m\u001b[0;34m:\u001b[0m\u001b[0;34m\u001b[0m\u001b[0;34m\u001b[0m\u001b[0m\n\u001b[0;32m---> 50\u001b[0;31m         return query_integral_image(self.integral, size_x, size_y,\n\u001b[0m\u001b[1;32m     51\u001b[0m                                     random_state)\n\u001b[1;32m     52\u001b[0m \u001b[0;34m\u001b[0m\u001b[0m\n",
      "\u001b[0;31mKeyboardInterrupt\u001b[0m: "
     ]
    }
   ],
   "source": [
    "wordcloud = WordCloud(stopwords=STOPWORDS, background_color='white',\n",
    "width=4000,height=2000).generate(all_sms)\n",
    "plt.imshow(wordcloud)\n",
    "plt.axis('off')\n",
    "plt.show()"
   ]
  },
  {
   "cell_type": "code",
   "execution_count": null,
   "id": "03d4ed07",
   "metadata": {},
   "outputs": [],
   "source": [
    "wordcloud = WordCloud(stopwords=STOPWORDS, background_color='white',\n",
    "width=4000,height=2000).generate(ham_sms)\n",
    "plt.imshow(wordcloud)\n",
    "plt.axis('off')\n",
    "plt.show()"
   ]
  },
  {
   "cell_type": "code",
   "execution_count": null,
   "id": "270755fc",
   "metadata": {},
   "outputs": [],
   "source": [
    "wordcloud = WordCloud(stopwords=STOPWORDS, background_color='white',\n",
    "width=4000,height=2000).generate(spam_sms)\n",
    "plt.imshow(wordcloud)\n",
    "plt.axis('off')\n",
    "plt.show()"
   ]
  },
  {
   "cell_type": "markdown",
   "id": "7aabd9ac",
   "metadata": {},
   "source": [
    "### Naive bayes with simple features\n",
    "Gaussian: It is used in classification and it assumes that features follow a normal distribution.\n",
    "Multinomial: used with features which are counts.\n",
    "Bernoulli: when features are binary"
   ]
  },
  {
   "cell_type": "code",
   "execution_count": null,
   "id": "cf392a01",
   "metadata": {},
   "outputs": [],
   "source": [
    "mydata['length']=[len(x) for x in mydata['sms']]"
   ]
  },
  {
   "cell_type": "code",
   "execution_count": null,
   "id": "2aacfa6b",
   "metadata": {},
   "outputs": [],
   "source": [
    "mydata.head()"
   ]
  },
  {
   "cell_type": "code",
   "execution_count": null,
   "id": "39dac7c5",
   "metadata": {},
   "outputs": [],
   "source": [
    "from ggplot import *"
   ]
  },
  {
   "cell_type": "code",
   "execution_count": null,
   "id": "8f0fbfd3",
   "metadata": {},
   "outputs": [],
   "source": [
    "ggplot(mydata,aes(x='length',color='target'))+geom_density()"
   ]
  },
  {
   "cell_type": "code",
   "execution_count": null,
   "id": "b42d30c7",
   "metadata": {},
   "outputs": [],
   "source": [
    "from sklearn.naive_bayes import MultinomialNB\n",
    "from sklearn.model_selection import train_test_split"
   ]
  },
  {
   "cell_type": "code",
   "execution_count": null,
   "id": "6de2adae",
   "metadata": {},
   "outputs": [],
   "source": [
    "mydata_train,mydata_test =train_test_split(mydata,test_size=0.2,random_state=2)\n",
    "\n",
    "x_train=mydata_train.drop(['sms','target'],1)\n",
    "y_train=mydata_train['target']\n",
    "x_test=mydata_test.drop(['sms','target'],1)\n",
    "y_test=mydata_test['target']\n",
    "clf=MultinomialNB()\n",
    "\n",
    "clf.fit(x_train,y_train)\n",
    "predictions=pd.DataFrame(list(zip(y_test,clf.predict(x_test))),columns=['real','predicted'])\n",
    "pd.crosstab(predictions['real'],predictions['predicted'])"
   ]
  },
  {
   "cell_type": "code",
   "execution_count": null,
   "id": "2a9bd2ee",
   "metadata": {},
   "outputs": [],
   "source": [
    "mydata['word_will']=[int(np.where(\"will\" in x,1,0)) for x in mydata['sms']]\n",
    "mydata['word_call']=[int(np.where(\"call\" in x,1,0)) for x in mydata['sms']]\n",
    "mydata['word_FREE']=[int(np.where(\"FREE\" in x,1,0)) for x in mydata['sms']]\n",
    "mydata['long']=[int(np.where(len(x)>250,1,0)) for x in mydata['sms']]\n"
   ]
  },
  {
   "cell_type": "code",
   "execution_count": null,
   "id": "f66068d0",
   "metadata": {},
   "outputs": [],
   "source": [
    "mydata_train,mydata_test =train_test_split(mydata,test_size=0.2,random_state=2)\n",
    "x_train=mydata_train.drop(['sms','target'],1)\n",
    "y_train=mydata_train['target']\n",
    "x_test=mydata_test.drop(['sms','target'],1)\n",
    "y_test=mydata_test['target']\n",
    "clf=MultinomialNB()\n",
    "clf.fit(x_train,y_train)\n",
    "predictions=pd.DataFrame(list(zip(y_test,clf.predict(x_test))),columns=['real','predicted'])\n",
    "pd.crosstab(predictions['real'],predictions['predicted'])"
   ]
  },
  {
   "cell_type": "markdown",
   "id": "04e6997c",
   "metadata": {},
   "source": [
    "these doesnt do very well. lets compare this performance with a simple all default decision\n",
    "tree"
   ]
  },
  {
   "cell_type": "code",
   "execution_count": null,
   "id": "989bd9e1",
   "metadata": {},
   "outputs": [],
   "source": [
    "from sklearn.tree import DecisionTreeClassifier"
   ]
  },
  {
   "cell_type": "code",
   "execution_count": null,
   "id": "46b1a560",
   "metadata": {},
   "outputs": [],
   "source": [
    "clf=DecisionTreeClassifier()"
   ]
  },
  {
   "cell_type": "code",
   "execution_count": null,
   "id": "59e56027",
   "metadata": {},
   "outputs": [],
   "source": [
    "clf.fit(x_train,y_train)\n",
    "predictions=pd.DataFrame(list(zip(y_test,clf.predict(x_test))),columns=['real','predicted'])\n",
    "pd.crosstab(predictions['real'],predictions['predicted'])"
   ]
  },
  {
   "cell_type": "markdown",
   "id": "af578557",
   "metadata": {},
   "source": [
    "now lets utilise all the words and how they appear in the entire document. And see if Naive\n",
    "Bayes can beat this"
   ]
  },
  {
   "cell_type": "code",
   "execution_count": null,
   "id": "050b8ce7",
   "metadata": {},
   "outputs": [],
   "source": []
  },
  {
   "cell_type": "code",
   "execution_count": null,
   "id": "46b138a2",
   "metadata": {},
   "outputs": [],
   "source": [
    "def split_into_lemmas(message):\n",
    "    \n",
    "    message=message.lower()\n",
    "    words = TextBlob(message).words\n",
    "    words_sans_stop=[]\n",
    "    \n",
    "    for word in words :\n",
    "        \n",
    "        if word in stop:\n",
    "            \n",
    "            continue\n",
    "            \n",
    "        words_sans_stop.append(word)\n",
    "        \n",
    "    return [word.lemma for word in words_sans_stop]\n",
    "\n",
    "tfidf= TfidfVectorizer(analyzer=split_into_lemmas)"
   ]
  },
  {
   "cell_type": "code",
   "execution_count": null,
   "id": "29edc400",
   "metadata": {},
   "outputs": [],
   "source": []
  },
  {
   "cell_type": "code",
   "execution_count": null,
   "id": "611cea9b",
   "metadata": {},
   "outputs": [],
   "source": []
  }
 ],
 "metadata": {
  "kernelspec": {
   "display_name": "Python 3",
   "language": "python",
   "name": "python3"
  },
  "language_info": {
   "codemirror_mode": {
    "name": "ipython",
    "version": 3
   },
   "file_extension": ".py",
   "mimetype": "text/x-python",
   "name": "python",
   "nbconvert_exporter": "python",
   "pygments_lexer": "ipython3",
   "version": "3.8.8"
  }
 },
 "nbformat": 4,
 "nbformat_minor": 5
}
