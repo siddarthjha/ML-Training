{
 "cells": [
  {
   "cell_type": "code",
   "execution_count": 1,
   "metadata": {
    "id": "hLgH4xZFTCnB"
   },
   "outputs": [],
   "source": [
    "import pandas as pd \n",
    "from mypipes_linear import *\n",
    "from sklearn.model_selection import train_test_split\n",
    "import warnings \n",
    "warnings.filterwarnings('ignore')\n",
    "%matplotlib inline"
   ]
  },
  {
   "cell_type": "code",
   "execution_count": 2,
   "metadata": {
    "id": "7vVo8l21Tscg"
   },
   "outputs": [],
   "source": [
    "import lightgbm as lgb"
   ]
  },
  {
   "cell_type": "code",
   "execution_count": 4,
   "metadata": {
    "id": "omkn_U5XT9Eg"
   },
   "outputs": [],
   "source": [
    "file=r'./rg_train.csv'\n",
    "data=pd.read_csv(file)\n",
    "\n",
    "num_vars=list(data.select_dtypes(exclude=['object']).columns)\n",
    "\n",
    "num_vars=[_ for _ in num_vars if _ not in ['REF_NO','Revenue.Grid']]\n",
    "\n",
    "cat_vars=list(data.select_dtypes(include=['object']).columns)\n",
    "\n",
    "cat_vars=[_ for _ in cat_vars if _ not in \n",
    "          ['children','age_band', 'post_code','post_area','family_income']]\n",
    "\n",
    "data_train,data_val=train_test_split(data,test_size=0.2,random_state=42)"
   ]
  },
  {
   "cell_type": "code",
   "execution_count": 6,
   "metadata": {
    "id": "fqhw59NmTw3S"
   },
   "outputs": [],
   "source": [
    "p1=pdPipeline([\n",
    "    ('var_select',VarSelector(num_vars)),\n",
    "    ('missing_trt',DataFrameImputer())\n",
    "])\n",
    "\n",
    "p2=pdPipeline([\n",
    "    ('var_select',VarSelector(cat_vars)),\n",
    "    ('missing_trt',DataFrameImputer()),\n",
    "    ('create_dummies',get_dummies_Pipe(70))\n",
    "])\n",
    "\n",
    "p3=pdPipeline([\n",
    "    ('var_select',VarSelector(['age_band'])),\n",
    "    ('custom_fico',custom_age_band()),\n",
    "    ('missing_trt',DataFrameImputer())\n",
    "])\n",
    "\n",
    "p4=pdPipeline([\n",
    "    ('var_select',VarSelector(['family_income'])),\n",
    "    ('custom_fico',custom_family_income()),\n",
    "    ('missing_trt',DataFrameImputer())\n",
    "])\n",
    "\n",
    "p5=pdPipeline([\n",
    "    ('var_select',VarSelector(['children'])),\n",
    "    ('string_clean1',string_clean(replace_it='Zero',replace_with='0')),\n",
    "    ('string_clean2',string_clean(replace_it='4+',replace_with='4')),\n",
    "    ('convert_to_numeric',convert_to_numeric()),\n",
    "    ('missing_trt',DataFrameImputer())\n",
    "])"
   ]
  },
  {
   "cell_type": "code",
   "execution_count": 8,
   "metadata": {
    "colab": {
     "base_uri": "https://localhost:8080/"
    },
    "id": "WX5fczRoUJwf",
    "outputId": "fbc4ba9d-64db-494a-97a1-816d6ccd66d3"
   },
   "outputs": [
    {
     "data": {
      "text/plain": [
       "FeatureUnion(n_jobs=None,\n",
       "             transformer_list=[('num',\n",
       "                                pdPipeline(memory=None,\n",
       "                                           steps=[('var_select',\n",
       "                                                   VarSelector(feature_names=['year_last_moved',\n",
       "                                                                              'Average.Credit.Card.Transaction',\n",
       "                                                                              'Balance.Transfer',\n",
       "                                                                              'Term.Deposit',\n",
       "                                                                              'Life.Insurance',\n",
       "                                                                              'Medical.Insurance',\n",
       "                                                                              'Average.A.C.Balance',\n",
       "                                                                              'Personal.Loan',\n",
       "                                                                              'Investment.in.Mutual.Fund',\n",
       "                                                                              'Investment.Tax.Saving.Bond',\n",
       "                                                                              'Home.Loan'...\n",
       "                                pdPipeline(memory=None,\n",
       "                                           steps=[('var_select',\n",
       "                                                   VarSelector(feature_names=['children'])),\n",
       "                                                  ('string_clean1',\n",
       "                                                   string_clean(replace_it='Zero',\n",
       "                                                                replace_with='0')),\n",
       "                                                  ('string_clean2',\n",
       "                                                   string_clean(replace_it='4+',\n",
       "                                                                replace_with='4')),\n",
       "                                                  ('convert_to_numeric',\n",
       "                                                   convert_to_numeric()),\n",
       "                                                  ('missing_trt',\n",
       "                                                   DataFrameImputer())],\n",
       "                                           verbose=False))],\n",
       "             transformer_weights=None, verbose=False)"
      ]
     },
     "execution_count": 8,
     "metadata": {
      "tags": []
     },
     "output_type": "execute_result"
    }
   ],
   "source": [
    "data_pipe=FeatureUnion([\n",
    "    ('num',p1),\n",
    "    ('cat_vars',p2),\n",
    "    ('age_band',p3),\n",
    "    ('family_income',p4),\n",
    "    ('children',p5)\n",
    "])\n",
    "data_pipe.fit(data_train)"
   ]
  },
  {
   "cell_type": "code",
   "execution_count": 9,
   "metadata": {
    "id": "k9-8RzH5UTPf"
   },
   "outputs": [],
   "source": [
    "x_train=pd.DataFrame(data=data_pipe.transform(data_train),\n",
    "                     columns=data_pipe.get_feature_names())\n",
    "x_val=pd.DataFrame(data=data_pipe.transform(data_val),\n",
    "                     columns=data_pipe.get_feature_names())\n",
    "\n",
    "y_train=(data_train['Revenue.Grid']==1).astype(int)\n",
    "y_val=(data_val['Revenue.Grid']==1).astype(int)"
   ]
  },
  {
   "cell_type": "code",
   "execution_count": 10,
   "metadata": {
    "colab": {
     "base_uri": "https://localhost:8080/"
    },
    "id": "2s4c4eK_UdoX",
    "outputId": "d4cd754a-dbd6-4983-ac9d-2921613bf325"
   },
   "outputs": [
    {
     "data": {
      "text/plain": [
       "LGBMClassifier(boosting_type='gbdt', class_weight=None, colsample_bytree=1.0,\n",
       "               importance_type='split', learning_rate=0.1, max_depth=-1,\n",
       "               min_child_samples=20, min_child_weight=0.001, min_split_gain=0.0,\n",
       "               n_estimators=100, n_jobs=-1, num_leaves=31, objective=None,\n",
       "               random_state=None, reg_alpha=0.0, reg_lambda=0.0, silent=True,\n",
       "               subsample=1.0, subsample_for_bin=200000, subsample_freq=0)"
      ]
     },
     "execution_count": 10,
     "metadata": {
      "tags": []
     },
     "output_type": "execute_result"
    }
   ],
   "source": [
    "clf = lgb.LGBMClassifier()\n",
    "clf.fit(x_train, y_train)"
   ]
  },
  {
   "cell_type": "code",
   "execution_count": 11,
   "metadata": {
    "colab": {
     "base_uri": "https://localhost:8080/"
    },
    "id": "NHeH59pbUj7V",
    "outputId": "e257cf36-2d66-4e2e-f883-e428c5515baf"
   },
   "outputs": [
    {
     "data": {
      "text/plain": [
       "0.9908372999541866"
      ]
     },
     "execution_count": 11,
     "metadata": {
      "tags": []
     },
     "output_type": "execute_result"
    }
   ],
   "source": [
    "from sklearn.metrics import roc_auc_score\n",
    "\n",
    "roc_auc_score(y_val,clf.predict_proba(x_val)[:,1])"
   ]
  },
  {
   "cell_type": "code",
   "execution_count": null,
   "metadata": {
    "id": "YQd0awAZUvBi"
   },
   "outputs": [],
   "source": []
  }
 ],
 "metadata": {
  "accelerator": "GPU",
  "colab": {
   "collapsed_sections": [],
   "name": "LightGBM.ipynb",
   "provenance": []
  },
  "kernelspec": {
   "display_name": "Python 3",
   "language": "python",
   "name": "python3"
  },
  "language_info": {
   "codemirror_mode": {
    "name": "ipython",
    "version": 3
   },
   "file_extension": ".py",
   "mimetype": "text/x-python",
   "name": "python",
   "nbconvert_exporter": "python",
   "pygments_lexer": "ipython3",
   "version": "3.8.8"
  }
 },
 "nbformat": 4,
 "nbformat_minor": 1
}
