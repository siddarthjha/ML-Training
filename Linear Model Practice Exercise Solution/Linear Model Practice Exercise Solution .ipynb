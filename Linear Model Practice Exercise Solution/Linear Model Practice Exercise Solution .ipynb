{
 "cells": [
  {
   "cell_type": "code",
   "execution_count": null,
   "id": "aee7f1a3",
   "metadata": {},
   "outputs": [],
   "source": [
    "import warnings\n",
    "\n",
    "warnings.filterwarnings('ignore')\n",
    "\n",
    "import pandas as pd \n",
    "import numpy as np\n",
    "\n",
    "from sklearn.pipeline import Pipeline,FeatureUnion\n",
    "from sklearn.base import BaseEstimator, TransformerMixin\n",
    "\n",
    "from LinearModel_exercise_pipes import *"
   ]
  },
  {
   "cell_type": "markdown",
   "id": "b0ea3335",
   "metadata": {},
   "source": [
    "# Linear Regression"
   ]
  },
  {
   "cell_type": "code",
   "execution_count": null,
   "id": "8d89091b",
   "metadata": {},
   "outputs": [],
   "source": [
    "file=r'/Users/lalitsachan/Dropbox/PDSV4/4. Linear Models/facebook_comments.csv'"
   ]
  },
  {
   "cell_type": "code",
   "execution_count": null,
   "id": "abbadb20",
   "metadata": {},
   "outputs": [],
   "source": [
    "fb=pd.read_csv(file)"
   ]
  },
  {
   "cell_type": "code",
   "execution_count": null,
   "id": "1f19528b",
   "metadata": {},
   "outputs": [],
   "source": [
    "fb.head()"
   ]
  },
  {
   "cell_type": "code",
   "execution_count": null,
   "id": "ce424026",
   "metadata": {},
   "outputs": [],
   "source": [
    "fb.info()"
   ]
  },
  {
   "cell_type": "code",
   "execution_count": null,
   "id": "d57c4dc0",
   "metadata": {},
   "outputs": [],
   "source": [
    "cyclic_feat=['Post Published Weekday','Base Date Time Weekday']\n",
    "cat_feat=['page_category']\n",
    "target=['Comments_in_next_H_hrs']\n",
    "num_feat=[_ for _ in fb.columns if _ not in cyclic_feat+cat_feat+target]"
   ]
  },
  {
   "cell_type": "code",
   "execution_count": null,
   "id": "e0b2d922",
   "metadata": {},
   "outputs": [],
   "source": [
    "p1=pdPipeline([\n",
    "    ('select_cyclic',VarSelector(cyclic_feat)),\n",
    "    ('cyclic_feat',custom_cyclic())\n",
    "])\n",
    "p2=pdPipeline([\n",
    "    ('select_cat',VarSelector(cat_feat)),\n",
    "    ('missing_treat',DataFrameImputer()),\n",
    "    ('create_dummies',get_dummies_Pipe(200))\n",
    "])\n",
    "p3=pdPipeline([\n",
    "    ('select_num',VarSelector(num_feat)),\n",
    "    ('missing_treat',DataFrameImputer())\n",
    "])\n",
    "\n",
    "data_pipe=FeatureUnion([\n",
    "    ('p1',p1),\n",
    "    ('p2',p2),\n",
    "    ('p3',p3)\n",
    "])"
   ]
  },
  {
   "cell_type": "code",
   "execution_count": null,
   "id": "9106c0bc",
   "metadata": {},
   "outputs": [],
   "source": [
    "data_pipe.fit(fb)"
   ]
  },
  {
   "cell_type": "code",
   "execution_count": null,
   "id": "4a31866c",
   "metadata": {},
   "outputs": [],
   "source": [
    "x_train=pd.DataFrame(data=data_pipe.transform(fb),\n",
    "                    columns=data_pipe.get_feature_names())\n",
    "y_train=fb[target]"
   ]
  },
  {
   "cell_type": "code",
   "execution_count": null,
   "id": "3795d253",
   "metadata": {},
   "outputs": [],
   "source": [
    "x_train.shape"
   ]
  },
  {
   "cell_type": "code",
   "execution_count": null,
   "id": "7a972ac9",
   "metadata": {},
   "outputs": [],
   "source": [
    "from sklearn.model_selection import cross_val_score"
   ]
  },
  {
   "cell_type": "code",
   "execution_count": null,
   "id": "f1a089f8",
   "metadata": {},
   "outputs": [],
   "source": [
    "from sklearn.linear_model import LinearRegression"
   ]
  },
  {
   "cell_type": "code",
   "execution_count": null,
   "id": "9b08ab51",
   "metadata": {},
   "outputs": [],
   "source": [
    "lr=LinearRegression()"
   ]
  },
  {
   "cell_type": "code",
   "execution_count": null,
   "id": "ca8ea88e",
   "metadata": {},
   "outputs": [],
   "source": [
    "cvmae=-np.array(cross_val_score(lr,x_train,y_train,cv=10,\n",
    "                      scoring='neg_mean_absolute_error',\n",
    "                     n_jobs=-1))"
   ]
  },
  {
   "cell_type": "code",
   "execution_count": null,
   "id": "5385f96d",
   "metadata": {},
   "outputs": [],
   "source": [
    "cvmae.mean()"
   ]
  },
  {
   "cell_type": "code",
   "execution_count": null,
   "id": "77dd2319",
   "metadata": {},
   "outputs": [],
   "source": [
    "cvmae.std()"
   ]
  },
  {
   "cell_type": "code",
   "execution_count": null,
   "id": "d36fccc7",
   "metadata": {},
   "outputs": [],
   "source": [
    "from sklearn.linear_model import Lasso,Ridge\n",
    "from sklearn.model_selection import GridSearchCV"
   ]
  },
  {
   "cell_type": "code",
   "execution_count": null,
   "id": "860cf27a",
   "metadata": {},
   "outputs": [],
   "source": [
    "def report(results, n_top=3):\n",
    "    for i in range(1, n_top + 1):\n",
    "        candidates = np.flatnonzero(results['rank_test_score'] == i)\n",
    "        for candidate in candidates:\n",
    "            print(\"Model with rank: {0}\".format(i))\n",
    "            print(\"Mean validation score: {0:.6f} (std: {1:.6f})\".format(\n",
    "                  results['mean_test_score'][candidate],\n",
    "                  results['std_test_score'][candidate]))\n",
    "            print(\"Parameters: {0}\".format(results['params'][candidate]))\n",
    "            print(\"\")"
   ]
  },
  {
   "cell_type": "code",
   "execution_count": null,
   "id": "64772455",
   "metadata": {},
   "outputs": [],
   "source": [
    "### lasso\n",
    "# this will take longer time to finish in comparison to ridge because of not having a closed form solution\n",
    "\n",
    "model=Lasso(fit_intercept=True)\n",
    "params ={'alpha': np.linspace(1,100,100)}\n",
    "gs=GridSearchCV(model,\n",
    "                         param_grid=params,\n",
    "                         cv=10,\n",
    "                         scoring='neg_mean_absolute_error',\n",
    "                        verbose=20,n_jobs=-1)\n",
    "gs.fit(x_train,y_train)"
   ]
  },
  {
   "cell_type": "code",
   "execution_count": null,
   "id": "7b3a5b5a",
   "metadata": {},
   "outputs": [],
   "source": [
    "report(gs.cv_results_,5)"
   ]
  },
  {
   "cell_type": "code",
   "execution_count": null,
   "id": "e7854886",
   "metadata": {},
   "outputs": [],
   "source": [
    "lasso_model=gs.best_estimator_"
   ]
  },
  {
   "cell_type": "code",
   "execution_count": null,
   "id": "40e295ae",
   "metadata": {},
   "outputs": [],
   "source": [
    "lasso_model.fit(x_train,y_train)"
   ]
  },
  {
   "cell_type": "code",
   "execution_count": null,
   "id": "5f03e25e",
   "metadata": {},
   "outputs": [],
   "source": [
    "list(zip(data_pipe.get_feature_names(),lasso_model.coef_))\n",
    "\n"
   ]
  },
  {
   "cell_type": "code",
   "execution_count": null,
   "id": "94553dfe",
   "metadata": {},
   "outputs": [],
   "source": [
    "(lasso_model.coef_==0).sum()\n",
    "\n"
   ]
  },
  {
   "cell_type": "code",
   "execution_count": null,
   "id": "cfe64a00",
   "metadata": {},
   "outputs": [],
   "source": [
    "### ridge\n",
    "\n",
    "model=Ridge(fit_intercept=True)\n",
    "params ={'alpha': np.linspace(1e7,1e9,100)}\n",
    "gs=GridSearchCV(model,\n",
    "                         param_grid=params,\n",
    "                         cv=10,\n",
    "                         scoring='neg_mean_absolute_error',\n",
    "                        verbose=20,n_jobs=-1)\n",
    "gs.fit(x_train,y_train)"
   ]
  },
  {
   "cell_type": "code",
   "execution_count": null,
   "id": "03fdd948",
   "metadata": {},
   "outputs": [],
   "source": [
    "report(gs.cv_results_,5)"
   ]
  },
  {
   "cell_type": "markdown",
   "id": "b67157e5",
   "metadata": {},
   "source": [
    "# Logistic Regression"
   ]
  },
  {
   "cell_type": "code",
   "execution_count": null,
   "id": "ba06be62",
   "metadata": {},
   "outputs": [],
   "source": [
    "file=r'/Users/lalitsachan/Dropbox/PDSV4/4. Linear Models/default of credit card clients.xls'\n",
    "dd=pd.read_excel(file,skiprows=1)"
   ]
  },
  {
   "cell_type": "code",
   "execution_count": null,
   "id": "ae1ad414",
   "metadata": {},
   "outputs": [],
   "source": [
    "dd.head()"
   ]
  },
  {
   "cell_type": "code",
   "execution_count": null,
   "id": "e90078b0",
   "metadata": {},
   "outputs": [],
   "source": [
    "dd.columns"
   ]
  },
  {
   "cell_type": "code",
   "execution_count": null,
   "id": "9fdf9ef8",
   "metadata": {},
   "outputs": [],
   "source": [
    "dd.shape"
   ]
  },
  {
   "cell_type": "code",
   "execution_count": null,
   "id": "5cdcd342",
   "metadata": {},
   "outputs": [],
   "source": [
    "dd.info()"
   ]
  },
  {
   "cell_type": "code",
   "execution_count": null,
   "id": "5474ffce",
   "metadata": {},
   "outputs": [],
   "source": [
    "cat_feat=['SEX', 'EDUCATION', 'MARRIAGE']\n",
    "target=['default payment next month']\n",
    "num_feat=[_ for _ in dd.columns if _ not in cat_feat+target+['ID']]"
   ]
  },
  {
   "cell_type": "code",
   "execution_count": null,
   "id": "793dd083",
   "metadata": {},
   "outputs": [],
   "source": [
    "p1=pdPipeline([\n",
    "    ('select_cat',VarSelector(cat_feat)),\n",
    "    ('missing_treat',DataFrameImputer()),\n",
    "    ('create_dummies',get_dummies_Pipe(300))\n",
    "])\n",
    "p2=pdPipeline([\n",
    "    ('select_num',VarSelector(num_feat)),\n",
    "    ('missing_treat',DataFrameImputer())\n",
    "])\n",
    "\n",
    "data_pipe=FeatureUnion([\n",
    "    ('p1',p1),\n",
    "    ('p2',p2)\n",
    "])"
   ]
  },
  {
   "cell_type": "code",
   "execution_count": null,
   "id": "15a625ed",
   "metadata": {},
   "outputs": [],
   "source": [
    "data_pipe.fit(dd)"
   ]
  },
  {
   "cell_type": "code",
   "execution_count": null,
   "id": "a7d24de7",
   "metadata": {},
   "outputs": [],
   "source": [
    "x_train=pd.DataFrame(data=data_pipe.transform(dd),\n",
    "                    columns=data_pipe.get_feature_names())\n",
    "y_train=dd[target]"
   ]
  },
  {
   "cell_type": "code",
   "execution_count": null,
   "id": "b9bc09ba",
   "metadata": {},
   "outputs": [],
   "source": [
    "x_train.shape"
   ]
  },
  {
   "cell_type": "code",
   "execution_count": null,
   "id": "ab97148f",
   "metadata": {},
   "outputs": [],
   "source": [
    "from sklearn.linear_model import LogisticRegression"
   ]
  },
  {
   "cell_type": "code",
   "execution_count": null,
   "id": "e53871be",
   "metadata": {},
   "outputs": [],
   "source": [
    "params={'class_weight':['balanced',None],\n",
    "        'penalty':['l1','l2'],\n",
    "        'C':[.0001,.0005,.001,.005,.01,.05,.1,1,2,5]}"
   ]
  },
  {
   "cell_type": "code",
   "execution_count": null,
   "id": "ad220616",
   "metadata": {},
   "outputs": [],
   "source": [
    "model=LogisticRegression(fit_intercept=True)"
   ]
  },
  {
   "cell_type": "code",
   "execution_count": null,
   "id": "663a0ca3",
   "metadata": {},
   "outputs": [],
   "source": [
    "grid_search=GridSearchCV(model,\n",
    "                         param_grid=params,\n",
    "                         cv=10,\n",
    "                         scoring=\"roc_auc\",\n",
    "                         n_jobs=-1,\n",
    "                         verbose=20)"
   ]
  },
  {
   "cell_type": "code",
   "execution_count": null,
   "id": "e2cbfbcc",
   "metadata": {
    "scrolled": true
   },
   "outputs": [],
   "source": [
    "grid_search.fit(x_train,y_train)"
   ]
  },
  {
   "cell_type": "code",
   "execution_count": null,
   "id": "c47ee32b",
   "metadata": {},
   "outputs": [],
   "source": [
    "report(grid_search.cv_results_,5)"
   ]
  },
  {
   "cell_type": "code",
   "execution_count": null,
   "id": "205861b5",
   "metadata": {},
   "outputs": [],
   "source": [
    "logr=grid_search.best_estimator_"
   ]
  },
  {
   "cell_type": "code",
   "execution_count": null,
   "id": "6bbead37",
   "metadata": {},
   "outputs": [],
   "source": [
    "logr.fit(x_train,y_train)"
   ]
  },
  {
   "cell_type": "code",
   "execution_count": null,
   "id": "8db96551",
   "metadata": {},
   "outputs": [],
   "source": [
    "train_score=logr.predict_proba(x_train)[:,1]\n",
    "real=y_train"
   ]
  },
  {
   "cell_type": "code",
   "execution_count": null,
   "id": "881644d6",
   "metadata": {},
   "outputs": [],
   "source": [
    "from sklearn.metrics import fbeta_score"
   ]
  },
  {
   "cell_type": "code",
   "execution_count": null,
   "id": "73498081",
   "metadata": {},
   "outputs": [],
   "source": [
    "fbeta_all=[]\n",
    "cutoffs=np.linspace(0.01,0.99,99)\n",
    "for cutoff in cutoffs:\n",
    "    \n",
    "    predicted=(train_score>cutoff).astype(int)\n",
    "\n",
    "       \n",
    "    fbeta_all.append(fbeta_score(real,predicted,beta=2))"
   ]
  },
  {
   "cell_type": "code",
   "execution_count": null,
   "id": "f5f818cb",
   "metadata": {},
   "outputs": [],
   "source": [
    "mycutoff=cutoffs[fbeta_all==max(fbeta_all)]\n",
    "mycutoff"
   ]
  },
  {
   "cell_type": "code",
   "execution_count": null,
   "id": "f7c08c47",
   "metadata": {},
   "outputs": [],
   "source": []
  }
 ],
 "metadata": {
  "kernelspec": {
   "display_name": "Python 3",
   "language": "python",
   "name": "python3"
  },
  "language_info": {
   "codemirror_mode": {
    "name": "ipython",
    "version": 3
   },
   "file_extension": ".py",
   "mimetype": "text/x-python",
   "name": "python",
   "nbconvert_exporter": "python",
   "pygments_lexer": "ipython3",
   "version": "3.7.3"
  }
 },
 "nbformat": 4,
 "nbformat_minor": 5
}
