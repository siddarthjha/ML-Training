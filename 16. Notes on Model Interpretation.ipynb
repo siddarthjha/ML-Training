{
 "cells": [
  {
   "cell_type": "code",
   "execution_count": null,
   "metadata": {},
   "outputs": [],
   "source": [
    "# !pip install skater\n",
    "# if you face an issue with this you can download skater master from here :https://github.com/oracle/Skater\n",
    "# go that folder on your command prompt and run \n",
    "# python setup.py install\n",
    "# also if you build skater like that , you'll need to restart your kernel for imports to start working\n",
    "\n",
    "# for windows users if you get error : command not recognised \n",
    "# you need to add python to your environment variable path \n",
    "\n",
    "# follow this link to do the same : https://geek-university.com/python/add-python-to-the-windows-path/\n",
    "\n",
    "# you will to have to also figure out where python is installed on your machine \n"
   ]
  },
  {
   "cell_type": "code",
   "execution_count": null,
   "metadata": {},
   "outputs": [],
   "source": [
    "import pandas as pd \n",
    "import numpy as np\n",
    "from sklearn.ensemble import RandomForestClassifier\n",
    "import warnings \n",
    "warnings.filterwarnings('ignore')\n",
    "from mypipes_linear import *"
   ]
  },
  {
   "cell_type": "code",
   "execution_count": null,
   "metadata": {},
   "outputs": [],
   "source": [
    "file=r'/Users/lalitsachan/Dropbox/0.0 Data/census_income.csv'\n",
    "\n",
    "ci=pd.read_csv(file)\n",
    "ci=ci.sample(1000)"
   ]
  },
  {
   "cell_type": "code",
   "execution_count": null,
   "metadata": {},
   "outputs": [],
   "source": [
    "ci['Y'].unique()"
   ]
  },
  {
   "cell_type": "code",
   "execution_count": null,
   "metadata": {},
   "outputs": [],
   "source": [
    "cat_vars=list(ci.select_dtypes(include=['object']).columns)"
   ]
  },
  {
   "cell_type": "code",
   "execution_count": null,
   "metadata": {},
   "outputs": [],
   "source": [
    "cat_vars=[_ for _ in cat_vars if _ not in ['Y','education']]"
   ]
  },
  {
   "cell_type": "code",
   "execution_count": null,
   "metadata": {},
   "outputs": [],
   "source": [
    "num_vars=list(ci.select_dtypes(exclude=['object']).columns)"
   ]
  },
  {
   "cell_type": "code",
   "execution_count": null,
   "metadata": {},
   "outputs": [],
   "source": [
    "p1=pdPipeline([\n",
    "    ('cat_select',VarSelector(cat_vars)),\n",
    "    ('missing_trt',DataFrameImputer()),\n",
    "    ('create_dummies',get_dummies_Pipe(100))\n",
    "])\n",
    "\n",
    "p2=pdPipeline([\n",
    "    ('num_select',VarSelector(num_vars)),\n",
    "    ('missing_trt',DataFrameImputer())\n",
    "])\n",
    "\n",
    "data_pipe=FeatureUnion([\n",
    "    ('cat_pipe',p1),\n",
    "    ('num_pipe',p2)\n",
    "])"
   ]
  },
  {
   "cell_type": "code",
   "execution_count": null,
   "metadata": {},
   "outputs": [],
   "source": [
    "data_pipe.fit(ci)"
   ]
  },
  {
   "cell_type": "code",
   "execution_count": null,
   "metadata": {},
   "outputs": [],
   "source": [
    "x=pd.DataFrame(data=data_pipe.transform(ci),\n",
    "                     columns=data_pipe.get_feature_names())\n",
    "y=(ci['Y']==\" >50K\").astype(int)\n"
   ]
  },
  {
   "cell_type": "code",
   "execution_count": null,
   "metadata": {},
   "outputs": [],
   "source": [
    "y.value_counts()"
   ]
  },
  {
   "cell_type": "code",
   "execution_count": null,
   "metadata": {},
   "outputs": [],
   "source": [
    "rf=RandomForestClassifier(**{'criterion': 'entropy', 'max_depth': 14, 'max_features': 11, 'n_estimators': 320})"
   ]
  },
  {
   "cell_type": "code",
   "execution_count": null,
   "metadata": {},
   "outputs": [],
   "source": [
    "rf.fit(x,y)"
   ]
  },
  {
   "cell_type": "code",
   "execution_count": null,
   "metadata": {},
   "outputs": [],
   "source": [
    "%matplotlib inline\n",
    "import warnings\n",
    "warnings.filterwarnings('ignore')\n",
    "import matplotlib.pyplot as plt\n",
    "plt.style.use('ggplot')"
   ]
  },
  {
   "cell_type": "code",
   "execution_count": null,
   "metadata": {},
   "outputs": [],
   "source": [
    "from skater.core.explanations import Interpretation\n",
    "from skater.model import InMemoryModel\n",
    "\n",
    "# if you get the error : ModuleNotFoundError: No module named 'sklearn.externals.six'\n",
    "\n",
    "# do the following : go the file in your folder where the error is coming from \n",
    "# for me the issue was on top line of this file :\n",
    "\n",
    "# ~/anaconda3/lib/python3.7/site-packages/skater-1.1.2b1-py3.7.egg/skater/core/visualizer/tree_visualizer.py\n",
    "# change the line : from sklearn.externals.six import StringIO\n",
    "\n",
    "# to : from six import StringIO\n",
    "# save and restart the kernel \n",
    "\n",
    "# if you further get and error that no module named six then run :\n",
    "# !pip install six"
   ]
  },
  {
   "cell_type": "code",
   "execution_count": null,
   "metadata": {},
   "outputs": [],
   "source": [
    "interpreter = Interpretation(x, feature_names=x.columns)\n",
    "model = InMemoryModel(rf.predict_proba, examples=x)\n",
    "plots = interpreter.feature_importance.plot_feature_importance(model, ascending=True)\n"
   ]
  },
  {
   "cell_type": "code",
   "execution_count": null,
   "metadata": {},
   "outputs": [],
   "source": [
    "pyint_model = InMemoryModel(rf.predict_proba, examples=x, target_names=['Y_0','Y_1'])\n",
    "axes_list = interpreter.partial_dependence.plot_partial_dependence(['num_pipe__education.num'],\n",
    "                                                                   pyint_model, \n",
    "                                                                   grid_resolution=30, \n",
    "                                                                   with_variance=True,\n",
    "                                                                   figsize = (10, 5))\n"
   ]
  },
  {
   "cell_type": "code",
   "execution_count": null,
   "metadata": {},
   "outputs": [],
   "source": [
    "axes_list = interpreter.partial_dependence.plot_partial_dependence(['num_pipe__age'],\n",
    "                                                                   pyint_model, \n",
    "                                                                   grid_resolution=30, \n",
    "                                                                   with_variance=True,\n",
    "                                                                   figsize = (10, 5))"
   ]
  },
  {
   "cell_type": "code",
   "execution_count": null,
   "metadata": {},
   "outputs": [],
   "source": [
    "model = InMemoryModel(rf.predict_proba, examples=x, feature_names=x.columns,\n",
    "                      target_names=['Y_0', 'Y_1'])\n",
    "interpreter.partial_dependence.plot_partial_dependence([('num_pipe__age', 'num_pipe__education.num')], model, \n",
    "                                                       grid_resolution=10)"
   ]
  },
  {
   "cell_type": "code",
   "execution_count": null,
   "metadata": {},
   "outputs": [],
   "source": [
    "from skater.util.dataops import show_in_notebook"
   ]
  },
  {
   "cell_type": "code",
   "execution_count": null,
   "metadata": {},
   "outputs": [],
   "source": [
    "from skater.core.local_interpretation.lime.lime_tabular import LimeTabularExplainer\n",
    "from skater.util.dataops import show_in_notebook\n",
    "exp = LimeTabularExplainer(x.values, \n",
    "                           feature_names=x.columns, \n",
    "                           discretize_continuous=True, \n",
    "                           class_names=['Y_0', 'Y_1'])"
   ]
  },
  {
   "cell_type": "code",
   "execution_count": null,
   "metadata": {},
   "outputs": [],
   "source": [
    "exp.explain_instance(x.iloc[10].values, rf.predict_proba).show_in_notebook()"
   ]
  },
  {
   "cell_type": "code",
   "execution_count": null,
   "metadata": {
    "scrolled": true
   },
   "outputs": [],
   "source": [
    "surrogate_explainer = interpreter.tree_surrogate(oracle=model,max_depth=8)\n",
    "y_pred_rf=rf.predict(x)\n",
    "\n",
    "surrogate_explainer.fit(x, y_pred_rf, use_oracle=True, prune='post', scorer_type='default')\n",
    "\n",
    "# if you get this error : TypeError: __init__() got an unexpected keyword argument 'presort'\n",
    "\n",
    "# go to tree_surrogate.py file here : \n",
    "# ~/anaconda3/lib/python3.7/site-packages/skater-1.1.2b1-py3.7.egg/skater/core/global_interpretation/\n",
    "\n",
    "# and remove the presort input to DecisionTreeClassfier/Regressor"
   ]
  },
  {
   "cell_type": "code",
   "execution_count": null,
   "metadata": {},
   "outputs": [],
   "source": [
    "# if you get graphviz error on mac : please install by running this : sudo brew install graphviz\n",
    "# if that gives error for brew not found , install homebrew\n",
    "surrogate_explainer.plot_global_decisions(colors=['coral', 'lightsteelblue','darkkhaki'],\n",
    "                                          file_name='simple_tree_pre.png')"
   ]
  },
  {
   "cell_type": "code",
   "execution_count": null,
   "metadata": {},
   "outputs": [],
   "source": [
    "show_in_notebook('simple_tree_pre.png', width=400, height=300)"
   ]
  },
  {
   "cell_type": "code",
   "execution_count": null,
   "metadata": {},
   "outputs": [],
   "source": [
    "from sklearn.metrics import accuracy_score"
   ]
  },
  {
   "cell_type": "code",
   "execution_count": null,
   "metadata": {},
   "outputs": [],
   "source": [
    "accuracy_score(rf.predict(x),y)"
   ]
  },
  {
   "cell_type": "code",
   "execution_count": null,
   "metadata": {},
   "outputs": [],
   "source": [
    "accuracy_score(surrogate_explainer.predict(x),y)"
   ]
  },
  {
   "cell_type": "code",
   "execution_count": null,
   "metadata": {},
   "outputs": [],
   "source": []
  }
 ],
 "metadata": {
  "kernelspec": {
   "display_name": "Python 3",
   "language": "python",
   "name": "python3"
  },
  "language_info": {
   "codemirror_mode": {
    "name": "ipython",
    "version": 3
   },
   "file_extension": ".py",
   "mimetype": "text/x-python",
   "name": "python",
   "nbconvert_exporter": "python",
   "pygments_lexer": "ipython3",
   "version": "3.7.3"
  }
 },
 "nbformat": 4,
 "nbformat_minor": 2
}
