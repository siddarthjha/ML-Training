{
 "cells": [
  {
   "cell_type": "code",
   "execution_count": 1,
   "id": "60826e1c",
   "metadata": {},
   "outputs": [],
   "source": [
    "# Libraries required\n",
    "\n",
    "import pandas as pd\n",
    "import numpy as np\n",
    "import matplotlib as plt\n",
    "\n",
    "from sklearn.linear_model import Lasso\n",
    "# from sklearn.tree import DecisionTreeClassifier, DecisionTreeRegressor\n",
    "from sklearn.ensemble import RandomForestClassifier, RandomForestRegressor\n",
    "from sklearn.model_selection import RandomizedSearchCV\n",
    "from sklego.meta import ZeroInflatedRegressor\n",
    "\n",
    "from sklearn.pipeline import Pipeline,FeatureUnion\n",
    "from sklearn.base import BaseEstimator, TransformerMixin\n",
    "\n",
    "from mypipes_hackathon import * # Pipeline file import\n",
    "\n",
    "import warnings\n",
    "warnings.filterwarnings('ignore')\n",
    "\n",
    "%matplotlib inline"
   ]
  },
  {
   "cell_type": "code",
   "execution_count": 2,
   "id": "74e9f0a4",
   "metadata": {},
   "outputs": [
    {
     "data": {
      "text/html": [
       "<div>\n",
       "<style scoped>\n",
       "    .dataframe tbody tr th:only-of-type {\n",
       "        vertical-align: middle;\n",
       "    }\n",
       "\n",
       "    .dataframe tbody tr th {\n",
       "        vertical-align: top;\n",
       "    }\n",
       "\n",
       "    .dataframe thead th {\n",
       "        text-align: right;\n",
       "    }\n",
       "</style>\n",
       "<table border=\"1\" class=\"dataframe\">\n",
       "  <thead>\n",
       "    <tr style=\"text-align: right;\">\n",
       "      <th></th>\n",
       "      <th>id</th>\n",
       "      <th>target</th>\n",
       "      <th>ind_01</th>\n",
       "      <th>ind_02_cat</th>\n",
       "      <th>ind_03</th>\n",
       "      <th>ind_04_cat</th>\n",
       "      <th>ind_05_cat</th>\n",
       "      <th>ind_06_bin</th>\n",
       "      <th>ind_07_bin</th>\n",
       "      <th>ind_08_bin</th>\n",
       "      <th>...</th>\n",
       "      <th>calc_11</th>\n",
       "      <th>calc_12</th>\n",
       "      <th>calc_13</th>\n",
       "      <th>calc_14</th>\n",
       "      <th>calc_15_bin</th>\n",
       "      <th>calc_16_bin</th>\n",
       "      <th>calc_17_bin</th>\n",
       "      <th>calc_18_bin</th>\n",
       "      <th>calc_19_bin</th>\n",
       "      <th>calc_20_bin</th>\n",
       "    </tr>\n",
       "  </thead>\n",
       "  <tbody>\n",
       "    <tr>\n",
       "      <th>0</th>\n",
       "      <td>1260014</td>\n",
       "      <td>0</td>\n",
       "      <td>0</td>\n",
       "      <td>2</td>\n",
       "      <td>4</td>\n",
       "      <td>0</td>\n",
       "      <td>0</td>\n",
       "      <td>0</td>\n",
       "      <td>0</td>\n",
       "      <td>1</td>\n",
       "      <td>...</td>\n",
       "      <td>8</td>\n",
       "      <td>1</td>\n",
       "      <td>2</td>\n",
       "      <td>9</td>\n",
       "      <td>0</td>\n",
       "      <td>0</td>\n",
       "      <td>0</td>\n",
       "      <td>0</td>\n",
       "      <td>0</td>\n",
       "      <td>0</td>\n",
       "    </tr>\n",
       "    <tr>\n",
       "      <th>1</th>\n",
       "      <td>1086017</td>\n",
       "      <td>6520</td>\n",
       "      <td>1</td>\n",
       "      <td>1</td>\n",
       "      <td>1</td>\n",
       "      <td>0</td>\n",
       "      <td>4</td>\n",
       "      <td>1</td>\n",
       "      <td>0</td>\n",
       "      <td>0</td>\n",
       "      <td>...</td>\n",
       "      <td>1</td>\n",
       "      <td>1</td>\n",
       "      <td>2</td>\n",
       "      <td>4</td>\n",
       "      <td>0</td>\n",
       "      <td>1</td>\n",
       "      <td>1</td>\n",
       "      <td>0</td>\n",
       "      <td>1</td>\n",
       "      <td>0</td>\n",
       "    </tr>\n",
       "    <tr>\n",
       "      <th>2</th>\n",
       "      <td>602774</td>\n",
       "      <td>8570</td>\n",
       "      <td>5</td>\n",
       "      <td>1</td>\n",
       "      <td>3</td>\n",
       "      <td>1</td>\n",
       "      <td>0</td>\n",
       "      <td>0</td>\n",
       "      <td>0</td>\n",
       "      <td>1</td>\n",
       "      <td>...</td>\n",
       "      <td>6</td>\n",
       "      <td>1</td>\n",
       "      <td>5</td>\n",
       "      <td>11</td>\n",
       "      <td>0</td>\n",
       "      <td>1</td>\n",
       "      <td>1</td>\n",
       "      <td>1</td>\n",
       "      <td>0</td>\n",
       "      <td>0</td>\n",
       "    </tr>\n",
       "    <tr>\n",
       "      <th>3</th>\n",
       "      <td>366031</td>\n",
       "      <td>0</td>\n",
       "      <td>3</td>\n",
       "      <td>1</td>\n",
       "      <td>3</td>\n",
       "      <td>0</td>\n",
       "      <td>0</td>\n",
       "      <td>0</td>\n",
       "      <td>0</td>\n",
       "      <td>1</td>\n",
       "      <td>...</td>\n",
       "      <td>8</td>\n",
       "      <td>2</td>\n",
       "      <td>1</td>\n",
       "      <td>5</td>\n",
       "      <td>0</td>\n",
       "      <td>0</td>\n",
       "      <td>1</td>\n",
       "      <td>0</td>\n",
       "      <td>1</td>\n",
       "      <td>0</td>\n",
       "    </tr>\n",
       "    <tr>\n",
       "      <th>4</th>\n",
       "      <td>103981</td>\n",
       "      <td>0</td>\n",
       "      <td>0</td>\n",
       "      <td>1</td>\n",
       "      <td>5</td>\n",
       "      <td>0</td>\n",
       "      <td>0</td>\n",
       "      <td>0</td>\n",
       "      <td>1</td>\n",
       "      <td>0</td>\n",
       "      <td>...</td>\n",
       "      <td>8</td>\n",
       "      <td>0</td>\n",
       "      <td>1</td>\n",
       "      <td>12</td>\n",
       "      <td>0</td>\n",
       "      <td>0</td>\n",
       "      <td>1</td>\n",
       "      <td>1</td>\n",
       "      <td>1</td>\n",
       "      <td>0</td>\n",
       "    </tr>\n",
       "    <tr>\n",
       "      <th>...</th>\n",
       "      <td>...</td>\n",
       "      <td>...</td>\n",
       "      <td>...</td>\n",
       "      <td>...</td>\n",
       "      <td>...</td>\n",
       "      <td>...</td>\n",
       "      <td>...</td>\n",
       "      <td>...</td>\n",
       "      <td>...</td>\n",
       "      <td>...</td>\n",
       "      <td>...</td>\n",
       "      <td>...</td>\n",
       "      <td>...</td>\n",
       "      <td>...</td>\n",
       "      <td>...</td>\n",
       "      <td>...</td>\n",
       "      <td>...</td>\n",
       "      <td>...</td>\n",
       "      <td>...</td>\n",
       "      <td>...</td>\n",
       "      <td>...</td>\n",
       "    </tr>\n",
       "    <tr>\n",
       "      <th>39784</th>\n",
       "      <td>835163</td>\n",
       "      <td>12430</td>\n",
       "      <td>0</td>\n",
       "      <td>2</td>\n",
       "      <td>0</td>\n",
       "      <td>0</td>\n",
       "      <td>-1</td>\n",
       "      <td>1</td>\n",
       "      <td>0</td>\n",
       "      <td>0</td>\n",
       "      <td>...</td>\n",
       "      <td>6</td>\n",
       "      <td>1</td>\n",
       "      <td>4</td>\n",
       "      <td>14</td>\n",
       "      <td>0</td>\n",
       "      <td>1</td>\n",
       "      <td>1</td>\n",
       "      <td>0</td>\n",
       "      <td>1</td>\n",
       "      <td>0</td>\n",
       "    </tr>\n",
       "    <tr>\n",
       "      <th>39785</th>\n",
       "      <td>680115</td>\n",
       "      <td>32440</td>\n",
       "      <td>4</td>\n",
       "      <td>2</td>\n",
       "      <td>1</td>\n",
       "      <td>1</td>\n",
       "      <td>0</td>\n",
       "      <td>0</td>\n",
       "      <td>1</td>\n",
       "      <td>0</td>\n",
       "      <td>...</td>\n",
       "      <td>6</td>\n",
       "      <td>0</td>\n",
       "      <td>2</td>\n",
       "      <td>11</td>\n",
       "      <td>0</td>\n",
       "      <td>1</td>\n",
       "      <td>1</td>\n",
       "      <td>1</td>\n",
       "      <td>0</td>\n",
       "      <td>1</td>\n",
       "    </tr>\n",
       "    <tr>\n",
       "      <th>39786</th>\n",
       "      <td>402120</td>\n",
       "      <td>5760</td>\n",
       "      <td>1</td>\n",
       "      <td>1</td>\n",
       "      <td>7</td>\n",
       "      <td>0</td>\n",
       "      <td>0</td>\n",
       "      <td>1</td>\n",
       "      <td>0</td>\n",
       "      <td>0</td>\n",
       "      <td>...</td>\n",
       "      <td>7</td>\n",
       "      <td>2</td>\n",
       "      <td>3</td>\n",
       "      <td>4</td>\n",
       "      <td>0</td>\n",
       "      <td>1</td>\n",
       "      <td>1</td>\n",
       "      <td>0</td>\n",
       "      <td>1</td>\n",
       "      <td>1</td>\n",
       "    </tr>\n",
       "    <tr>\n",
       "      <th>39787</th>\n",
       "      <td>968745</td>\n",
       "      <td>0</td>\n",
       "      <td>0</td>\n",
       "      <td>1</td>\n",
       "      <td>5</td>\n",
       "      <td>0</td>\n",
       "      <td>0</td>\n",
       "      <td>0</td>\n",
       "      <td>0</td>\n",
       "      <td>0</td>\n",
       "      <td>...</td>\n",
       "      <td>9</td>\n",
       "      <td>1</td>\n",
       "      <td>3</td>\n",
       "      <td>7</td>\n",
       "      <td>0</td>\n",
       "      <td>1</td>\n",
       "      <td>0</td>\n",
       "      <td>1</td>\n",
       "      <td>0</td>\n",
       "      <td>1</td>\n",
       "    </tr>\n",
       "    <tr>\n",
       "      <th>39788</th>\n",
       "      <td>165096</td>\n",
       "      <td>11490</td>\n",
       "      <td>3</td>\n",
       "      <td>2</td>\n",
       "      <td>1</td>\n",
       "      <td>1</td>\n",
       "      <td>0</td>\n",
       "      <td>0</td>\n",
       "      <td>1</td>\n",
       "      <td>0</td>\n",
       "      <td>...</td>\n",
       "      <td>7</td>\n",
       "      <td>1</td>\n",
       "      <td>4</td>\n",
       "      <td>10</td>\n",
       "      <td>0</td>\n",
       "      <td>1</td>\n",
       "      <td>1</td>\n",
       "      <td>1</td>\n",
       "      <td>0</td>\n",
       "      <td>0</td>\n",
       "    </tr>\n",
       "  </tbody>\n",
       "</table>\n",
       "<p>39789 rows × 59 columns</p>\n",
       "</div>"
      ],
      "text/plain": [
       "            id  target  ind_01  ind_02_cat  ind_03  ind_04_cat  ind_05_cat  \\\n",
       "0      1260014       0       0           2       4           0           0   \n",
       "1      1086017    6520       1           1       1           0           4   \n",
       "2       602774    8570       5           1       3           1           0   \n",
       "3       366031       0       3           1       3           0           0   \n",
       "4       103981       0       0           1       5           0           0   \n",
       "...        ...     ...     ...         ...     ...         ...         ...   \n",
       "39784   835163   12430       0           2       0           0          -1   \n",
       "39785   680115   32440       4           2       1           1           0   \n",
       "39786   402120    5760       1           1       7           0           0   \n",
       "39787   968745       0       0           1       5           0           0   \n",
       "39788   165096   11490       3           2       1           1           0   \n",
       "\n",
       "       ind_06_bin  ind_07_bin  ind_08_bin  ...  calc_11  calc_12  calc_13  \\\n",
       "0               0           0           1  ...        8        1        2   \n",
       "1               1           0           0  ...        1        1        2   \n",
       "2               0           0           1  ...        6        1        5   \n",
       "3               0           0           1  ...        8        2        1   \n",
       "4               0           1           0  ...        8        0        1   \n",
       "...           ...         ...         ...  ...      ...      ...      ...   \n",
       "39784           1           0           0  ...        6        1        4   \n",
       "39785           0           1           0  ...        6        0        2   \n",
       "39786           1           0           0  ...        7        2        3   \n",
       "39787           0           0           0  ...        9        1        3   \n",
       "39788           0           1           0  ...        7        1        4   \n",
       "\n",
       "       calc_14  calc_15_bin  calc_16_bin  calc_17_bin  calc_18_bin  \\\n",
       "0            9            0            0            0            0   \n",
       "1            4            0            1            1            0   \n",
       "2           11            0            1            1            1   \n",
       "3            5            0            0            1            0   \n",
       "4           12            0            0            1            1   \n",
       "...        ...          ...          ...          ...          ...   \n",
       "39784       14            0            1            1            0   \n",
       "39785       11            0            1            1            1   \n",
       "39786        4            0            1            1            0   \n",
       "39787        7            0            1            0            1   \n",
       "39788       10            0            1            1            1   \n",
       "\n",
       "       calc_19_bin  calc_20_bin  \n",
       "0                0            0  \n",
       "1                1            0  \n",
       "2                0            0  \n",
       "3                1            0  \n",
       "4                1            0  \n",
       "...            ...          ...  \n",
       "39784            1            0  \n",
       "39785            0            1  \n",
       "39786            1            1  \n",
       "39787            0            1  \n",
       "39788            0            0  \n",
       "\n",
       "[39789 rows x 59 columns]"
      ]
     },
     "execution_count": 2,
     "metadata": {},
     "output_type": "execute_result"
    }
   ],
   "source": [
    "# Loading the data\n",
    "df_train = pd.read_csv(r'/home/siddarth.jha@npci.org.in/Documents/Training/hackathon_data/data_train.csv')\n",
    "df_test = pd.read_csv(r'/home/siddarth.jha@npci.org.in/Documents/Training/hackathon_data/data_test.csv')\n",
    "df_train"
   ]
  },
  {
   "cell_type": "code",
   "execution_count": 3,
   "id": "f6f538d2",
   "metadata": {},
   "outputs": [],
   "source": [
    "# df_test"
   ]
  },
  {
   "cell_type": "code",
   "execution_count": 4,
   "id": "8ce041be",
   "metadata": {},
   "outputs": [
    {
     "name": "stdout",
     "output_type": "stream",
     "text": [
      "<class 'pandas.core.frame.DataFrame'>\n",
      "RangeIndex: 39789 entries, 0 to 39788\n",
      "Data columns (total 59 columns):\n",
      " #   Column       Non-Null Count  Dtype  \n",
      "---  ------       --------------  -----  \n",
      " 0   id           39789 non-null  int64  \n",
      " 1   target       39789 non-null  int64  \n",
      " 2   ind_01       39789 non-null  int64  \n",
      " 3   ind_02_cat   39789 non-null  int64  \n",
      " 4   ind_03       39789 non-null  int64  \n",
      " 5   ind_04_cat   39789 non-null  int64  \n",
      " 6   ind_05_cat   39789 non-null  int64  \n",
      " 7   ind_06_bin   39789 non-null  int64  \n",
      " 8   ind_07_bin   39789 non-null  int64  \n",
      " 9   ind_08_bin   39789 non-null  int64  \n",
      " 10  ind_09_bin   39789 non-null  int64  \n",
      " 11  ind_10_bin   39789 non-null  int64  \n",
      " 12  ind_11_bin   39789 non-null  int64  \n",
      " 13  ind_12_bin   39789 non-null  int64  \n",
      " 14  ind_13_bin   39789 non-null  int64  \n",
      " 15  ind_14       39789 non-null  int64  \n",
      " 16  ind_15       39789 non-null  int64  \n",
      " 17  ind_16_bin   39789 non-null  int64  \n",
      " 18  ind_17_bin   39789 non-null  int64  \n",
      " 19  ind_18_bin   39789 non-null  int64  \n",
      " 20  reg_01       39789 non-null  float64\n",
      " 21  reg_02       39789 non-null  float64\n",
      " 22  reg_03       39789 non-null  float64\n",
      " 23  car_01_cat   39789 non-null  int64  \n",
      " 24  car_02_cat   39789 non-null  int64  \n",
      " 25  car_03_cat   39789 non-null  int64  \n",
      " 26  car_04_cat   39789 non-null  int64  \n",
      " 27  car_05_cat   39789 non-null  int64  \n",
      " 28  car_06_cat   39789 non-null  int64  \n",
      " 29  car_07_cat   39789 non-null  int64  \n",
      " 30  car_08_cat   39789 non-null  int64  \n",
      " 31  car_09_cat   39789 non-null  int64  \n",
      " 32  car_10_cat   39789 non-null  int64  \n",
      " 33  car_11_cat   39789 non-null  int64  \n",
      " 34  car_11       39789 non-null  int64  \n",
      " 35  car_12       39789 non-null  float64\n",
      " 36  car_13       39789 non-null  float64\n",
      " 37  car_14       39789 non-null  float64\n",
      " 38  car_15       39789 non-null  float64\n",
      " 39  calc_01      39789 non-null  float64\n",
      " 40  calc_02      39789 non-null  float64\n",
      " 41  calc_03      39789 non-null  float64\n",
      " 42  calc_04      39789 non-null  int64  \n",
      " 43  calc_05      39789 non-null  int64  \n",
      " 44  calc_06      39789 non-null  int64  \n",
      " 45  calc_07      39789 non-null  int64  \n",
      " 46  calc_08      39789 non-null  int64  \n",
      " 47  calc_09      39789 non-null  int64  \n",
      " 48  calc_10      39789 non-null  int64  \n",
      " 49  calc_11      39789 non-null  int64  \n",
      " 50  calc_12      39789 non-null  int64  \n",
      " 51  calc_13      39789 non-null  int64  \n",
      " 52  calc_14      39789 non-null  int64  \n",
      " 53  calc_15_bin  39789 non-null  int64  \n",
      " 54  calc_16_bin  39789 non-null  int64  \n",
      " 55  calc_17_bin  39789 non-null  int64  \n",
      " 56  calc_18_bin  39789 non-null  int64  \n",
      " 57  calc_19_bin  39789 non-null  int64  \n",
      " 58  calc_20_bin  39789 non-null  int64  \n",
      "dtypes: float64(10), int64(49)\n",
      "memory usage: 17.9 MB\n"
     ]
    }
   ],
   "source": [
    "df_train.info()"
   ]
  },
  {
   "cell_type": "code",
   "execution_count": 5,
   "id": "95bf5195",
   "metadata": {},
   "outputs": [],
   "source": [
    "# df_test.info()"
   ]
  },
  {
   "cell_type": "code",
   "execution_count": 6,
   "id": "34fa07cd",
   "metadata": {},
   "outputs": [
    {
     "data": {
      "text/plain": [
       "-1    16663\n",
       " 1    12146\n",
       " 0    10980\n",
       "Name: car_05_cat, dtype: int64"
      ]
     },
     "execution_count": 6,
     "metadata": {},
     "output_type": "execute_result"
    }
   ],
   "source": [
    "df_train['car_05_cat'].value_counts()"
   ]
  },
  {
   "cell_type": "code",
   "execution_count": 7,
   "id": "f659772b",
   "metadata": {},
   "outputs": [
    {
     "data": {
      "text/plain": [
       "\"\\n1. DROP: id and target(for training--> x_train)\\n2. Impute missing & Dummy: ind_02_cat', 'ind_04_cat', 'ind_05_cat', 'car_01_cat', 'car_02_cat', 'car_03_cat',\\n             'car_04_cat','car_05_cat', 'car_06_cat', 'car_07_cat', 'car_08_cat', 'car_09_cat', 'car_10_cat', \\n             'car_11_cat'\\n3. Impute Missing for all the remaining columns\\n\""
      ]
     },
     "execution_count": 7,
     "metadata": {},
     "output_type": "execute_result"
    }
   ],
   "source": [
    "# Pipeline\n",
    "\n",
    "'''\n",
    "1. DROP: id and target(for training--> x_train)\n",
    "2. Impute missing & Dummy: ind_02_cat', 'ind_04_cat', 'ind_05_cat', 'car_01_cat', 'car_02_cat', 'car_03_cat',\n",
    "             'car_04_cat','car_05_cat', 'car_06_cat', 'car_07_cat', 'car_08_cat', 'car_09_cat', 'car_10_cat', \n",
    "             'car_11_cat'\n",
    "3. Impute Missing for all the remaining columns\n",
    "'''"
   ]
  },
  {
   "cell_type": "code",
   "execution_count": 8,
   "id": "b07eda61",
   "metadata": {},
   "outputs": [
    {
     "data": {
      "text/plain": [
       "<AxesSubplot:>"
      ]
     },
     "execution_count": 8,
     "metadata": {},
     "output_type": "execute_result"
    },
    {
     "data": {
      "image/png": "[encoded data removed]",
      "text/plain": [
       "<Figure size 720x432 with 1 Axes>"
      ]
     },
     "metadata": {
      "needs_background": "light"
     },
     "output_type": "display_data"
    }
   ],
   "source": [
    "# Visualising the target variable\n",
    "df_train['target'].hist(bins=15, figsize=(10, 6))"
   ]
  },
  {
   "cell_type": "code",
   "execution_count": 9,
   "id": "ddfa77fc",
   "metadata": {},
   "outputs": [],
   "source": [
    "# Prcoessing Data\n",
    "del df_train['id'] # DROP ID\n",
    "del df_test['id']\n",
    "\n",
    "y_train = df_train['target']\n",
    "y_train = pd.DataFrame(y_train)\n",
    "\n",
    "del df_train['target']\n",
    "\n",
    "cat_vars = ['ind_02_cat', 'ind_04_cat', 'ind_05_cat', 'car_01_cat', 'car_02_cat', 'car_03_cat', 'car_04_cat',\n",
    "            'car_05_cat', 'car_06_cat', 'car_07_cat', 'car_08_cat', 'car_09_cat', 'car_10_cat', 'car_11_cat']\n",
    "num_vars = [var for var in df_train if var not in cat_vars]"
   ]
  },
  {
   "cell_type": "code",
   "execution_count": 10,
   "id": "a208c053",
   "metadata": {},
   "outputs": [],
   "source": [
    "p1 = pdPipeline([\n",
    "    ('var_select', VarSelector(cat_vars)),\n",
    "    ('missing_trt', DataFrameImputer()),\n",
    "    ('dummies', get_dummies(1800))\n",
    "])\n",
    "\n",
    "p2 = pdPipeline([\n",
    "    ('var_select', VarSelector(num_vars)),\n",
    "    ('missing_trt', DataFrameImputer()),\n",
    "])\n",
    "\n",
    "data_pipe = FeatureUnion([\n",
    "    ('int_to_dum', p1),\n",
    "    ('impute_miss', p2)\n",
    "])"
   ]
  },
  {
   "cell_type": "code",
   "execution_count": 11,
   "id": "a920d943",
   "metadata": {},
   "outputs": [
    {
     "data": {
      "text/plain": [
       "(39789, 71)"
      ]
     },
     "execution_count": 11,
     "metadata": {},
     "output_type": "execute_result"
    }
   ],
   "source": [
    "x_train=pd.DataFrame(data=data_pipe.fit_transform(df_train),\n",
    "                     columns=data_pipe.get_feature_names())\n",
    "x_test=pd.DataFrame(data=data_pipe.transform(df_test),\n",
    "                     columns=data_pipe.get_feature_names())\n",
    "x_train.shape"
   ]
  },
  {
   "cell_type": "code",
   "execution_count": 12,
   "id": "ab6ee888",
   "metadata": {},
   "outputs": [],
   "source": [
    "# x_train\n",
    "def report(results, n_top=3): # Report function for our model and parameter performance\n",
    "    for i in range(1, n_top + 1):\n",
    "        candidates = np.flatnonzero(results['rank_test_score'] == i)\n",
    "        for candidate in candidates:\n",
    "            print(\"Model with rank: {0}\".format(i))\n",
    "            print(\"Mean validation score: {0:.6f} (std: {1:.6f})\".format(\n",
    "                  results['mean_test_score'][candidate],\n",
    "                  results['std_test_score'][candidate]))\n",
    "            print(\"Parameters: {0}\".format(results['params'][candidate]))\n",
    "            print(\"\")"
   ]
  },
  {
   "cell_type": "markdown",
   "id": "fdb4681a",
   "metadata": {},
   "source": [
    "### ZERO INFLATED REGRESSION"
   ]
  },
  {
   "cell_type": "code",
   "execution_count": 13,
   "id": "a5388338",
   "metadata": {},
   "outputs": [],
   "source": [
    "zir = ZeroInflatedRegressor(\n",
    "    classifier=RandomForestClassifier(),\n",
    "    regressor=RandomForestRegressor()\n",
    ")"
   ]
  },
  {
   "cell_type": "markdown",
   "id": "8f6e5f9e",
   "metadata": {},
   "source": [
    "The Pre-defined ZeroInflationRegressor uses all the scikit classification & regression models. First it classifies the target variable (claims in our dataset) whether it is zero or non zero. (This is because there is a huge portion of zeros in target variable). Once the classification is done then it performs the regression on the non-zero target variable values and predicts the claim value to nearest value possible.\n",
    "\n",
    "### I have used different algorithms and repeatedly tuned each model and kept only the best model and removed the remaining model and their parameters"
   ]
  },
  {
   "cell_type": "code",
   "execution_count": 14,
   "id": "0f5a0d9b",
   "metadata": {},
   "outputs": [],
   "source": [
    "# lambda range has been selected after multiple tuning\n",
    "lambdas=np.linspace(.001,.8,100)\n",
    "\n",
    "params = {\"classifier__n_estimators\":[100,200,300,500,700,1000],\n",
    "            \"classifier__max_features\": [5,10,20,25,30,35,40,45,50,55,60,65], #70\n",
    "            \"classifier__bootstrap\": [True, False],\n",
    "            'classifier__class_weight':[None,'balanced'], \n",
    "            'classifier__criterion':['entropy','gini'],\n",
    "            'classifier__max_depth':[None,5,10,15,20,30,50,70],\n",
    "            'classifier__min_samples_leaf':[1,2,5,10,15,20], \n",
    "            'classifier__min_samples_split':[2,5,10,15,20],\n",
    "            'classifier__random_state':[42],\n",
    "            'regressor__random_state':[42],\n",
    "            'regressor__ccp_alpha':lambdas,\n",
    "            'regressor__max_depth':[None,5,10,15,20,30,50,70],\n",
    "            'regressor__min_samples_leaf':[1,2,5,10,15,20], \n",
    "            'regressor__min_samples_split':[2,5,10,15,20],\n",
    "          \n",
    "            \"regressor__n_estimators\":[50,100,200], # Added extra 300 &400\n",
    "            \"regressor__max_features\": [5,10,20,25,30,35,40,45,50,55,60,65], #70\n",
    "            \"regressor__bootstrap\": [True, False],\n",
    "                  }"
   ]
  },
  {
   "cell_type": "code",
   "execution_count": 15,
   "id": "d965c54b",
   "metadata": {},
   "outputs": [],
   "source": [
    "random_search=RandomizedSearchCV(zir,\n",
    "                         param_distributions=params,\n",
    "                         cv=10,\n",
    "                         scoring=\"neg_mean_absolute_error\",\n",
    "                         n_jobs=-1,\n",
    "                         verbose=20,\n",
    "                        return_train_score=True\n",
    ")"
   ]
  },
  {
   "cell_type": "code",
   "execution_count": 16,
   "id": "42be9caf",
   "metadata": {},
   "outputs": [
    {
     "name": "stdout",
     "output_type": "stream",
     "text": [
      "Fitting 10 folds for each of 10 candidates, totalling 100 fits\n"
     ]
    },
    {
     "data": {
      "text/plain": [
       "RandomizedSearchCV(cv=10,\n",
       "                   estimator=ZeroInflatedRegressor(classifier=RandomForestClassifier(),\n",
       "                                                   regressor=RandomForestRegressor()),\n",
       "                   n_jobs=-1,\n",
       "                   param_distributions={'classifier__bootstrap': [True, False],\n",
       "                                        'classifier__class_weight': [None,\n",
       "                                                                     'balanced'],\n",
       "                                        'classifier__criterion': ['entropy',\n",
       "                                                                  'gini'],\n",
       "                                        'classifier__max_depth': [None, 5, 10,\n",
       "                                                                  15, 20, 30,\n",
       "                                                                  50, 70],\n",
       "                                        'classifier__ma...\n",
       "       0.76771717, 0.77578788, 0.78385859, 0.79192929, 0.8       ]),\n",
       "                                        'regressor__max_depth': [None, 5, 10,\n",
       "                                                                 15, 20, 30, 50,\n",
       "                                                                 70],\n",
       "                                        'regressor__max_features': [5, 10, 20,\n",
       "                                                                    25, 30, 35,\n",
       "                                                                    40, 45, 50,\n",
       "                                                                    55, 60,\n",
       "                                                                    65],\n",
       "                                        'regressor__min_samples_leaf': [1, 2, 5,\n",
       "                                                                        10, 15,\n",
       "                                                                        20],\n",
       "                                        'regressor__min_samples_split': [2, 5,\n",
       "                                                                         10, 15,\n",
       "                                                                         20],\n",
       "                                        'regressor__n_estimators': [50, 100,\n",
       "                                                                    200]},\n",
       "                   return_train_score=True, scoring='neg_mean_absolute_error',\n",
       "                   verbose=20)"
      ]
     },
     "execution_count": 16,
     "metadata": {},
     "output_type": "execute_result"
    }
   ],
   "source": [
    "random_search.fit(x_train,y_train.values.ravel())"
   ]
  },
  {
   "cell_type": "code",
   "execution_count": 17,
   "id": "bdccd906",
   "metadata": {},
   "outputs": [],
   "source": [
    "model = random_search.best_estimator_"
   ]
  },
  {
   "cell_type": "code",
   "execution_count": 18,
   "id": "c3fac628",
   "metadata": {},
   "outputs": [
    {
     "data": {
      "text/plain": [
       "ZeroInflatedRegressor(classifier=RandomForestClassifier(bootstrap=False,\n",
       "                                                        criterion='entropy',\n",
       "                                                        max_features=30,\n",
       "                                                        min_samples_leaf=5,\n",
       "                                                        n_estimators=300),\n",
       "                      regressor=RandomForestRegressor(ccp_alpha=0.42067676767676765,\n",
       "                                                      max_features=45,\n",
       "                                                      min_samples_leaf=2,\n",
       "                                                      min_samples_split=5))"
      ]
     },
     "execution_count": 18,
     "metadata": {},
     "output_type": "execute_result"
    }
   ],
   "source": [
    "random_search.best_estimator_"
   ]
  },
  {
   "cell_type": "code",
   "execution_count": 19,
   "id": "1bbf0b05",
   "metadata": {},
   "outputs": [
    {
     "name": "stdout",
     "output_type": "stream",
     "text": [
      "Model with rank: 1\n",
      "Mean validation score: -2385.319163 (std: 57.364971)\n",
      "Parameters: {'regressor__n_estimators': 100, 'regressor__min_samples_split': 5, 'regressor__min_samples_leaf': 2, 'regressor__max_features': 45, 'regressor__max_depth': None, 'regressor__ccp_alpha': 0.42067676767676765, 'regressor__bootstrap': True, 'classifier__n_estimators': 300, 'classifier__min_samples_split': 2, 'classifier__min_samples_leaf': 5, 'classifier__max_features': 30, 'classifier__max_depth': None, 'classifier__criterion': 'entropy', 'classifier__class_weight': None, 'classifier__bootstrap': False}\n",
      "\n",
      "Model with rank: 2\n",
      "Mean validation score: -2523.823798 (std: 69.262440)\n",
      "Parameters: {'regressor__n_estimators': 200, 'regressor__min_samples_split': 20, 'regressor__min_samples_leaf': 10, 'regressor__max_features': 50, 'regressor__max_depth': 20, 'regressor__ccp_alpha': 0.7435050505050504, 'regressor__bootstrap': True, 'classifier__n_estimators': 200, 'classifier__min_samples_split': 15, 'classifier__min_samples_leaf': 2, 'classifier__max_features': 35, 'classifier__max_depth': 20, 'classifier__criterion': 'entropy', 'classifier__class_weight': None, 'classifier__bootstrap': False}\n",
      "\n",
      "Model with rank: 3\n",
      "Mean validation score: -2531.311192 (std: 55.583164)\n",
      "Parameters: {'regressor__n_estimators': 200, 'regressor__min_samples_split': 5, 'regressor__min_samples_leaf': 2, 'regressor__max_features': 20, 'regressor__max_depth': 15, 'regressor__ccp_alpha': 0.3722525252525252, 'regressor__bootstrap': False, 'classifier__n_estimators': 1000, 'classifier__min_samples_split': 10, 'classifier__min_samples_leaf': 1, 'classifier__max_features': 65, 'classifier__max_depth': 20, 'classifier__criterion': 'entropy', 'classifier__class_weight': None, 'classifier__bootstrap': True}\n",
      "\n",
      "Model with rank: 4\n",
      "Mean validation score: -2573.368520 (std: 74.525125)\n",
      "Parameters: {'regressor__n_estimators': 100, 'regressor__min_samples_split': 2, 'regressor__min_samples_leaf': 5, 'regressor__max_features': 30, 'regressor__max_depth': 30, 'regressor__ccp_alpha': 0.7757878787878788, 'regressor__bootstrap': False, 'classifier__n_estimators': 1000, 'classifier__min_samples_split': 5, 'classifier__min_samples_leaf': 2, 'classifier__max_features': 60, 'classifier__max_depth': 50, 'classifier__criterion': 'gini', 'classifier__class_weight': None, 'classifier__bootstrap': False}\n",
      "\n",
      "Model with rank: 5\n",
      "Mean validation score: -2603.748587 (std: 65.340864)\n",
      "Parameters: {'regressor__n_estimators': 200, 'regressor__min_samples_split': 5, 'regressor__min_samples_leaf': 5, 'regressor__max_features': 35, 'regressor__max_depth': 20, 'regressor__ccp_alpha': 0.04135353535353535, 'regressor__bootstrap': False, 'classifier__n_estimators': 200, 'classifier__min_samples_split': 20, 'classifier__min_samples_leaf': 2, 'classifier__max_features': 45, 'classifier__max_depth': 50, 'classifier__criterion': 'gini', 'classifier__class_weight': None, 'classifier__bootstrap': True}\n",
      "\n"
     ]
    }
   ],
   "source": [
    "report(random_search.cv_results_,5)\n",
    "# The best score was without using random_state and after the assigning value to random_state I couldn't get the \n",
    "# my best score."
   ]
  },
  {
   "cell_type": "code",
   "execution_count": 20,
   "id": "ad805a4a",
   "metadata": {},
   "outputs": [
    {
     "data": {
      "text/plain": [
       "ZeroInflatedRegressor(classifier=RandomForestClassifier(bootstrap=False,\n",
       "                                                        criterion='entropy',\n",
       "                                                        max_features=30,\n",
       "                                                        min_samples_leaf=5,\n",
       "                                                        n_estimators=300),\n",
       "                      regressor=RandomForestRegressor(ccp_alpha=0.42067676767676765,\n",
       "                                                      max_features=45,\n",
       "                                                      min_samples_leaf=2,\n",
       "                                                      min_samples_split=5))"
      ]
     },
     "execution_count": 20,
     "metadata": {},
     "output_type": "execute_result"
    }
   ],
   "source": [
    "model.fit(x_train, y_train)"
   ]
  },
  {
   "cell_type": "code",
   "execution_count": 21,
   "id": "8fff3f89",
   "metadata": {},
   "outputs": [],
   "source": [
    "y_predict = model.predict(x_test)"
   ]
  },
  {
   "cell_type": "code",
   "execution_count": 22,
   "id": "ea836967",
   "metadata": {},
   "outputs": [],
   "source": [
    "pd.DataFrame(y_predict).to_csv(\"sample_submission.csv\",index=False) "
   ]
  },
  {
   "cell_type": "code",
   "execution_count": 23,
   "id": "f9a6e08e",
   "metadata": {},
   "outputs": [
    {
     "data": {
      "text/plain": [
       "ZeroInflatedRegressor(classifier=RandomForestClassifier(bootstrap=False,\n",
       "                                                        criterion='entropy',\n",
       "                                                        max_features=30,\n",
       "                                                        min_samples_leaf=5,\n",
       "                                                        n_estimators=300),\n",
       "                      regressor=RandomForestRegressor(ccp_alpha=0.42067676767676765,\n",
       "                                                      max_features=45,\n",
       "                                                      min_samples_leaf=2,\n",
       "                                                      min_samples_split=5))"
      ]
     },
     "execution_count": 23,
     "metadata": {},
     "output_type": "execute_result"
    }
   ],
   "source": [
    "model"
   ]
  },
  {
   "cell_type": "code",
   "execution_count": null,
   "id": "7939f96e",
   "metadata": {},
   "outputs": [],
   "source": []
  }
 ],
 "metadata": {
  "kernelspec": {
   "display_name": "Python 3",
   "language": "python",
   "name": "python3"
  },
  "language_info": {
   "codemirror_mode": {
    "name": "ipython",
    "version": 3
   },
   "file_extension": ".py",
   "mimetype": "text/x-python",
   "name": "python",
   "nbconvert_exporter": "python",
   "pygments_lexer": "ipython3",
   "version": "3.8.8"
  }
 },
 "nbformat": 4,
 "nbformat_minor": 5
}
