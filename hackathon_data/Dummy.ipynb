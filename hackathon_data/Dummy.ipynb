{
 "cells": [
  {
   "cell_type": "code",
   "execution_count": 1,
   "id": "1d4619ca",
   "metadata": {},
   "outputs": [],
   "source": [
    "# Libraries required\n",
    "\n",
    "import pandas as pd\n",
    "import numpy as np\n",
    "import matplotlib as plt\n",
    "\n",
    "from sklearn.linear_model import Lasso\n",
    "from sklearn.tree import DecisionTreeClassifier, DecisionTreeRegressor\n",
    "from sklearn.ensemble import RandomForestClassifier, RandomForestRegressor\n",
    "from sklearn.model_selection import GridSearchCV, RandomizedSearchCV\n",
    "from sklego.meta import ZeroInflatedRegressor\n",
    "\n",
    "from sklearn.pipeline import Pipeline,FeatureUnion\n",
    "from sklearn.base import BaseEstimator, TransformerMixin\n",
    "\n",
    "from mypipes_hackathon import * # Pipeline file import\n",
    "\n",
    "import warnings\n",
    "warnings.filterwarnings('ignore')\n",
    "\n",
    "%matplotlib inline"
   ]
  },
  {
   "cell_type": "code",
   "execution_count": 2,
   "id": "4f2ea214",
   "metadata": {},
   "outputs": [
    {
     "data": {
      "text/html": [
       "<div>\n",
       "<style scoped>\n",
       "    .dataframe tbody tr th:only-of-type {\n",
       "        vertical-align: middle;\n",
       "    }\n",
       "\n",
       "    .dataframe tbody tr th {\n",
       "        vertical-align: top;\n",
       "    }\n",
       "\n",
       "    .dataframe thead th {\n",
       "        text-align: right;\n",
       "    }\n",
       "</style>\n",
       "<table border=\"1\" class=\"dataframe\">\n",
       "  <thead>\n",
       "    <tr style=\"text-align: right;\">\n",
       "      <th></th>\n",
       "      <th>id</th>\n",
       "      <th>target</th>\n",
       "      <th>ind_01</th>\n",
       "      <th>ind_02_cat</th>\n",
       "      <th>ind_03</th>\n",
       "      <th>ind_04_cat</th>\n",
       "      <th>ind_05_cat</th>\n",
       "      <th>ind_06_bin</th>\n",
       "      <th>ind_07_bin</th>\n",
       "      <th>ind_08_bin</th>\n",
       "      <th>...</th>\n",
       "      <th>calc_11</th>\n",
       "      <th>calc_12</th>\n",
       "      <th>calc_13</th>\n",
       "      <th>calc_14</th>\n",
       "      <th>calc_15_bin</th>\n",
       "      <th>calc_16_bin</th>\n",
       "      <th>calc_17_bin</th>\n",
       "      <th>calc_18_bin</th>\n",
       "      <th>calc_19_bin</th>\n",
       "      <th>calc_20_bin</th>\n",
       "    </tr>\n",
       "  </thead>\n",
       "  <tbody>\n",
       "    <tr>\n",
       "      <th>0</th>\n",
       "      <td>1260014</td>\n",
       "      <td>0</td>\n",
       "      <td>0</td>\n",
       "      <td>2</td>\n",
       "      <td>4</td>\n",
       "      <td>0</td>\n",
       "      <td>0</td>\n",
       "      <td>0</td>\n",
       "      <td>0</td>\n",
       "      <td>1</td>\n",
       "      <td>...</td>\n",
       "      <td>8</td>\n",
       "      <td>1</td>\n",
       "      <td>2</td>\n",
       "      <td>9</td>\n",
       "      <td>0</td>\n",
       "      <td>0</td>\n",
       "      <td>0</td>\n",
       "      <td>0</td>\n",
       "      <td>0</td>\n",
       "      <td>0</td>\n",
       "    </tr>\n",
       "    <tr>\n",
       "      <th>1</th>\n",
       "      <td>1086017</td>\n",
       "      <td>6520</td>\n",
       "      <td>1</td>\n",
       "      <td>1</td>\n",
       "      <td>1</td>\n",
       "      <td>0</td>\n",
       "      <td>4</td>\n",
       "      <td>1</td>\n",
       "      <td>0</td>\n",
       "      <td>0</td>\n",
       "      <td>...</td>\n",
       "      <td>1</td>\n",
       "      <td>1</td>\n",
       "      <td>2</td>\n",
       "      <td>4</td>\n",
       "      <td>0</td>\n",
       "      <td>1</td>\n",
       "      <td>1</td>\n",
       "      <td>0</td>\n",
       "      <td>1</td>\n",
       "      <td>0</td>\n",
       "    </tr>\n",
       "    <tr>\n",
       "      <th>2</th>\n",
       "      <td>602774</td>\n",
       "      <td>8570</td>\n",
       "      <td>5</td>\n",
       "      <td>1</td>\n",
       "      <td>3</td>\n",
       "      <td>1</td>\n",
       "      <td>0</td>\n",
       "      <td>0</td>\n",
       "      <td>0</td>\n",
       "      <td>1</td>\n",
       "      <td>...</td>\n",
       "      <td>6</td>\n",
       "      <td>1</td>\n",
       "      <td>5</td>\n",
       "      <td>11</td>\n",
       "      <td>0</td>\n",
       "      <td>1</td>\n",
       "      <td>1</td>\n",
       "      <td>1</td>\n",
       "      <td>0</td>\n",
       "      <td>0</td>\n",
       "    </tr>\n",
       "    <tr>\n",
       "      <th>3</th>\n",
       "      <td>366031</td>\n",
       "      <td>0</td>\n",
       "      <td>3</td>\n",
       "      <td>1</td>\n",
       "      <td>3</td>\n",
       "      <td>0</td>\n",
       "      <td>0</td>\n",
       "      <td>0</td>\n",
       "      <td>0</td>\n",
       "      <td>1</td>\n",
       "      <td>...</td>\n",
       "      <td>8</td>\n",
       "      <td>2</td>\n",
       "      <td>1</td>\n",
       "      <td>5</td>\n",
       "      <td>0</td>\n",
       "      <td>0</td>\n",
       "      <td>1</td>\n",
       "      <td>0</td>\n",
       "      <td>1</td>\n",
       "      <td>0</td>\n",
       "    </tr>\n",
       "    <tr>\n",
       "      <th>4</th>\n",
       "      <td>103981</td>\n",
       "      <td>0</td>\n",
       "      <td>0</td>\n",
       "      <td>1</td>\n",
       "      <td>5</td>\n",
       "      <td>0</td>\n",
       "      <td>0</td>\n",
       "      <td>0</td>\n",
       "      <td>1</td>\n",
       "      <td>0</td>\n",
       "      <td>...</td>\n",
       "      <td>8</td>\n",
       "      <td>0</td>\n",
       "      <td>1</td>\n",
       "      <td>12</td>\n",
       "      <td>0</td>\n",
       "      <td>0</td>\n",
       "      <td>1</td>\n",
       "      <td>1</td>\n",
       "      <td>1</td>\n",
       "      <td>0</td>\n",
       "    </tr>\n",
       "    <tr>\n",
       "      <th>...</th>\n",
       "      <td>...</td>\n",
       "      <td>...</td>\n",
       "      <td>...</td>\n",
       "      <td>...</td>\n",
       "      <td>...</td>\n",
       "      <td>...</td>\n",
       "      <td>...</td>\n",
       "      <td>...</td>\n",
       "      <td>...</td>\n",
       "      <td>...</td>\n",
       "      <td>...</td>\n",
       "      <td>...</td>\n",
       "      <td>...</td>\n",
       "      <td>...</td>\n",
       "      <td>...</td>\n",
       "      <td>...</td>\n",
       "      <td>...</td>\n",
       "      <td>...</td>\n",
       "      <td>...</td>\n",
       "      <td>...</td>\n",
       "      <td>...</td>\n",
       "    </tr>\n",
       "    <tr>\n",
       "      <th>39784</th>\n",
       "      <td>835163</td>\n",
       "      <td>12430</td>\n",
       "      <td>0</td>\n",
       "      <td>2</td>\n",
       "      <td>0</td>\n",
       "      <td>0</td>\n",
       "      <td>-1</td>\n",
       "      <td>1</td>\n",
       "      <td>0</td>\n",
       "      <td>0</td>\n",
       "      <td>...</td>\n",
       "      <td>6</td>\n",
       "      <td>1</td>\n",
       "      <td>4</td>\n",
       "      <td>14</td>\n",
       "      <td>0</td>\n",
       "      <td>1</td>\n",
       "      <td>1</td>\n",
       "      <td>0</td>\n",
       "      <td>1</td>\n",
       "      <td>0</td>\n",
       "    </tr>\n",
       "    <tr>\n",
       "      <th>39785</th>\n",
       "      <td>680115</td>\n",
       "      <td>32440</td>\n",
       "      <td>4</td>\n",
       "      <td>2</td>\n",
       "      <td>1</td>\n",
       "      <td>1</td>\n",
       "      <td>0</td>\n",
       "      <td>0</td>\n",
       "      <td>1</td>\n",
       "      <td>0</td>\n",
       "      <td>...</td>\n",
       "      <td>6</td>\n",
       "      <td>0</td>\n",
       "      <td>2</td>\n",
       "      <td>11</td>\n",
       "      <td>0</td>\n",
       "      <td>1</td>\n",
       "      <td>1</td>\n",
       "      <td>1</td>\n",
       "      <td>0</td>\n",
       "      <td>1</td>\n",
       "    </tr>\n",
       "    <tr>\n",
       "      <th>39786</th>\n",
       "      <td>402120</td>\n",
       "      <td>5760</td>\n",
       "      <td>1</td>\n",
       "      <td>1</td>\n",
       "      <td>7</td>\n",
       "      <td>0</td>\n",
       "      <td>0</td>\n",
       "      <td>1</td>\n",
       "      <td>0</td>\n",
       "      <td>0</td>\n",
       "      <td>...</td>\n",
       "      <td>7</td>\n",
       "      <td>2</td>\n",
       "      <td>3</td>\n",
       "      <td>4</td>\n",
       "      <td>0</td>\n",
       "      <td>1</td>\n",
       "      <td>1</td>\n",
       "      <td>0</td>\n",
       "      <td>1</td>\n",
       "      <td>1</td>\n",
       "    </tr>\n",
       "    <tr>\n",
       "      <th>39787</th>\n",
       "      <td>968745</td>\n",
       "      <td>0</td>\n",
       "      <td>0</td>\n",
       "      <td>1</td>\n",
       "      <td>5</td>\n",
       "      <td>0</td>\n",
       "      <td>0</td>\n",
       "      <td>0</td>\n",
       "      <td>0</td>\n",
       "      <td>0</td>\n",
       "      <td>...</td>\n",
       "      <td>9</td>\n",
       "      <td>1</td>\n",
       "      <td>3</td>\n",
       "      <td>7</td>\n",
       "      <td>0</td>\n",
       "      <td>1</td>\n",
       "      <td>0</td>\n",
       "      <td>1</td>\n",
       "      <td>0</td>\n",
       "      <td>1</td>\n",
       "    </tr>\n",
       "    <tr>\n",
       "      <th>39788</th>\n",
       "      <td>165096</td>\n",
       "      <td>11490</td>\n",
       "      <td>3</td>\n",
       "      <td>2</td>\n",
       "      <td>1</td>\n",
       "      <td>1</td>\n",
       "      <td>0</td>\n",
       "      <td>0</td>\n",
       "      <td>1</td>\n",
       "      <td>0</td>\n",
       "      <td>...</td>\n",
       "      <td>7</td>\n",
       "      <td>1</td>\n",
       "      <td>4</td>\n",
       "      <td>10</td>\n",
       "      <td>0</td>\n",
       "      <td>1</td>\n",
       "      <td>1</td>\n",
       "      <td>1</td>\n",
       "      <td>0</td>\n",
       "      <td>0</td>\n",
       "    </tr>\n",
       "  </tbody>\n",
       "</table>\n",
       "<p>39789 rows × 59 columns</p>\n",
       "</div>"
      ],
      "text/plain": [
       "            id  target  ind_01  ind_02_cat  ind_03  ind_04_cat  ind_05_cat  \\\n",
       "0      1260014       0       0           2       4           0           0   \n",
       "1      1086017    6520       1           1       1           0           4   \n",
       "2       602774    8570       5           1       3           1           0   \n",
       "3       366031       0       3           1       3           0           0   \n",
       "4       103981       0       0           1       5           0           0   \n",
       "...        ...     ...     ...         ...     ...         ...         ...   \n",
       "39784   835163   12430       0           2       0           0          -1   \n",
       "39785   680115   32440       4           2       1           1           0   \n",
       "39786   402120    5760       1           1       7           0           0   \n",
       "39787   968745       0       0           1       5           0           0   \n",
       "39788   165096   11490       3           2       1           1           0   \n",
       "\n",
       "       ind_06_bin  ind_07_bin  ind_08_bin  ...  calc_11  calc_12  calc_13  \\\n",
       "0               0           0           1  ...        8        1        2   \n",
       "1               1           0           0  ...        1        1        2   \n",
       "2               0           0           1  ...        6        1        5   \n",
       "3               0           0           1  ...        8        2        1   \n",
       "4               0           1           0  ...        8        0        1   \n",
       "...           ...         ...         ...  ...      ...      ...      ...   \n",
       "39784           1           0           0  ...        6        1        4   \n",
       "39785           0           1           0  ...        6        0        2   \n",
       "39786           1           0           0  ...        7        2        3   \n",
       "39787           0           0           0  ...        9        1        3   \n",
       "39788           0           1           0  ...        7        1        4   \n",
       "\n",
       "       calc_14  calc_15_bin  calc_16_bin  calc_17_bin  calc_18_bin  \\\n",
       "0            9            0            0            0            0   \n",
       "1            4            0            1            1            0   \n",
       "2           11            0            1            1            1   \n",
       "3            5            0            0            1            0   \n",
       "4           12            0            0            1            1   \n",
       "...        ...          ...          ...          ...          ...   \n",
       "39784       14            0            1            1            0   \n",
       "39785       11            0            1            1            1   \n",
       "39786        4            0            1            1            0   \n",
       "39787        7            0            1            0            1   \n",
       "39788       10            0            1            1            1   \n",
       "\n",
       "       calc_19_bin  calc_20_bin  \n",
       "0                0            0  \n",
       "1                1            0  \n",
       "2                0            0  \n",
       "3                1            0  \n",
       "4                1            0  \n",
       "...            ...          ...  \n",
       "39784            1            0  \n",
       "39785            0            1  \n",
       "39786            1            1  \n",
       "39787            0            1  \n",
       "39788            0            0  \n",
       "\n",
       "[39789 rows x 59 columns]"
      ]
     },
     "execution_count": 2,
     "metadata": {},
     "output_type": "execute_result"
    }
   ],
   "source": [
    "# Loading the data\n",
    "df_train = pd.read_csv(r'/home/siddarth.jha@npci.org.in/Documents/Training/hackathon_data/data_train.csv')\n",
    "df_test = pd.read_csv(r'/home/siddarth.jha@npci.org.in/Documents/Training/hackathon_data/data_test.csv')\n",
    "df_train"
   ]
  },
  {
   "cell_type": "code",
   "execution_count": 3,
   "id": "65f9e4cf",
   "metadata": {},
   "outputs": [],
   "source": [
    "# df_test"
   ]
  },
  {
   "cell_type": "code",
   "execution_count": 4,
   "id": "49ea3e00",
   "metadata": {},
   "outputs": [
    {
     "name": "stdout",
     "output_type": "stream",
     "text": [
      "<class 'pandas.core.frame.DataFrame'>\n",
      "RangeIndex: 39789 entries, 0 to 39788\n",
      "Data columns (total 59 columns):\n",
      " #   Column       Non-Null Count  Dtype  \n",
      "---  ------       --------------  -----  \n",
      " 0   id           39789 non-null  int64  \n",
      " 1   target       39789 non-null  int64  \n",
      " 2   ind_01       39789 non-null  int64  \n",
      " 3   ind_02_cat   39789 non-null  int64  \n",
      " 4   ind_03       39789 non-null  int64  \n",
      " 5   ind_04_cat   39789 non-null  int64  \n",
      " 6   ind_05_cat   39789 non-null  int64  \n",
      " 7   ind_06_bin   39789 non-null  int64  \n",
      " 8   ind_07_bin   39789 non-null  int64  \n",
      " 9   ind_08_bin   39789 non-null  int64  \n",
      " 10  ind_09_bin   39789 non-null  int64  \n",
      " 11  ind_10_bin   39789 non-null  int64  \n",
      " 12  ind_11_bin   39789 non-null  int64  \n",
      " 13  ind_12_bin   39789 non-null  int64  \n",
      " 14  ind_13_bin   39789 non-null  int64  \n",
      " 15  ind_14       39789 non-null  int64  \n",
      " 16  ind_15       39789 non-null  int64  \n",
      " 17  ind_16_bin   39789 non-null  int64  \n",
      " 18  ind_17_bin   39789 non-null  int64  \n",
      " 19  ind_18_bin   39789 non-null  int64  \n",
      " 20  reg_01       39789 non-null  float64\n",
      " 21  reg_02       39789 non-null  float64\n",
      " 22  reg_03       39789 non-null  float64\n",
      " 23  car_01_cat   39789 non-null  int64  \n",
      " 24  car_02_cat   39789 non-null  int64  \n",
      " 25  car_03_cat   39789 non-null  int64  \n",
      " 26  car_04_cat   39789 non-null  int64  \n",
      " 27  car_05_cat   39789 non-null  int64  \n",
      " 28  car_06_cat   39789 non-null  int64  \n",
      " 29  car_07_cat   39789 non-null  int64  \n",
      " 30  car_08_cat   39789 non-null  int64  \n",
      " 31  car_09_cat   39789 non-null  int64  \n",
      " 32  car_10_cat   39789 non-null  int64  \n",
      " 33  car_11_cat   39789 non-null  int64  \n",
      " 34  car_11       39789 non-null  int64  \n",
      " 35  car_12       39789 non-null  float64\n",
      " 36  car_13       39789 non-null  float64\n",
      " 37  car_14       39789 non-null  float64\n",
      " 38  car_15       39789 non-null  float64\n",
      " 39  calc_01      39789 non-null  float64\n",
      " 40  calc_02      39789 non-null  float64\n",
      " 41  calc_03      39789 non-null  float64\n",
      " 42  calc_04      39789 non-null  int64  \n",
      " 43  calc_05      39789 non-null  int64  \n",
      " 44  calc_06      39789 non-null  int64  \n",
      " 45  calc_07      39789 non-null  int64  \n",
      " 46  calc_08      39789 non-null  int64  \n",
      " 47  calc_09      39789 non-null  int64  \n",
      " 48  calc_10      39789 non-null  int64  \n",
      " 49  calc_11      39789 non-null  int64  \n",
      " 50  calc_12      39789 non-null  int64  \n",
      " 51  calc_13      39789 non-null  int64  \n",
      " 52  calc_14      39789 non-null  int64  \n",
      " 53  calc_15_bin  39789 non-null  int64  \n",
      " 54  calc_16_bin  39789 non-null  int64  \n",
      " 55  calc_17_bin  39789 non-null  int64  \n",
      " 56  calc_18_bin  39789 non-null  int64  \n",
      " 57  calc_19_bin  39789 non-null  int64  \n",
      " 58  calc_20_bin  39789 non-null  int64  \n",
      "dtypes: float64(10), int64(49)\n",
      "memory usage: 17.9 MB\n"
     ]
    }
   ],
   "source": [
    "df_train.info()"
   ]
  },
  {
   "cell_type": "code",
   "execution_count": 5,
   "id": "77855609",
   "metadata": {},
   "outputs": [],
   "source": [
    "# df_test.info()"
   ]
  },
  {
   "cell_type": "code",
   "execution_count": 6,
   "id": "9ef2b5aa",
   "metadata": {},
   "outputs": [
    {
     "data": {
      "text/plain": [
       "-1    16663\n",
       " 1    12146\n",
       " 0    10980\n",
       "Name: car_05_cat, dtype: int64"
      ]
     },
     "execution_count": 6,
     "metadata": {},
     "output_type": "execute_result"
    }
   ],
   "source": [
    "df_train['car_05_cat'].value_counts()"
   ]
  },
  {
   "cell_type": "code",
   "execution_count": 7,
   "id": "5038630d",
   "metadata": {},
   "outputs": [
    {
     "data": {
      "text/plain": [
       "\"\\n1. DROP: id and target(for training--> x_train)\\n2. Impute missing & Dummy: ind_02_cat', 'ind_04_cat', 'ind_05_cat', 'car_01_cat', 'car_02_cat', 'car_03_cat',\\n             'car_04_cat','car_05_cat', 'car_06_cat', 'car_07_cat', 'car_08_cat', 'car_09_cat', 'car_10_cat', \\n             'car_11_cat'\\n3. Impute Missing for all the remaining columns\\n\""
      ]
     },
     "execution_count": 7,
     "metadata": {},
     "output_type": "execute_result"
    }
   ],
   "source": [
    "# Pipeline\n",
    "\n",
    "'''\n",
    "1. DROP: id and target(for training--> x_train)\n",
    "2. Impute missing & Dummy: ind_02_cat', 'ind_04_cat', 'ind_05_cat', 'car_01_cat', 'car_02_cat', 'car_03_cat',\n",
    "             'car_04_cat','car_05_cat', 'car_06_cat', 'car_07_cat', 'car_08_cat', 'car_09_cat', 'car_10_cat', \n",
    "             'car_11_cat'\n",
    "3. Impute Missing for all the remaining columns\n",
    "'''"
   ]
  },
  {
   "cell_type": "code",
   "execution_count": 8,
   "id": "b7fd04f5",
   "metadata": {},
   "outputs": [
    {
     "data": {
      "text/plain": [
       "<AxesSubplot:>"
      ]
     },
     "execution_count": 8,
     "metadata": {},
     "output_type": "execute_result"
    },
    {
     "data": {
      "image/png": "[encoded data removed]",
      "text/plain": [
       "<Figure size 720x432 with 1 Axes>"
      ]
     },
     "metadata": {
      "needs_background": "light"
     },
     "output_type": "display_data"
    }
   ],
   "source": [
    "# Visualising the target variable\n",
    "df_train['target'].hist(bins=15, figsize=(10, 6))"
   ]
  },
  {
   "cell_type": "code",
   "execution_count": 9,
   "id": "810ef280",
   "metadata": {},
   "outputs": [],
   "source": [
    "# Prcoessing Data\n",
    "del df_train['id'] # DROP ID\n",
    "del df_test['id']\n",
    "\n",
    "y_train = df_train['target']\n",
    "y_train = pd.DataFrame(y_train)\n",
    "\n",
    "del df_train['target']\n",
    "\n",
    "cat_vars = ['ind_02_cat', 'ind_04_cat', 'ind_05_cat', 'car_01_cat', 'car_02_cat', 'car_03_cat', 'car_04_cat',\n",
    "            'car_05_cat', 'car_06_cat', 'car_07_cat', 'car_08_cat', 'car_09_cat', 'car_10_cat', 'car_11_cat']\n",
    "num_vars = [var for var in df_train if var not in cat_vars]"
   ]
  },
  {
   "cell_type": "code",
   "execution_count": 10,
   "id": "18536ae7",
   "metadata": {},
   "outputs": [],
   "source": [
    "p1 = pdPipeline([\n",
    "    ('var_select', VarSelector(cat_vars)),\n",
    "    ('missing_trt', DataFrameImputer()),\n",
    "    ('dummies', get_dummies(1800))\n",
    "])\n",
    "\n",
    "p2 = pdPipeline([\n",
    "    ('var_select', VarSelector(num_vars)),\n",
    "    ('missing_trt', DataFrameImputer()),\n",
    "])\n",
    "\n",
    "data_pipe = FeatureUnion([\n",
    "    ('int_to_dum', p1),\n",
    "    ('impute_miss', p2)\n",
    "])"
   ]
  },
  {
   "cell_type": "code",
   "execution_count": 11,
   "id": "dc3d8230",
   "metadata": {},
   "outputs": [],
   "source": [
    "x_train=pd.DataFrame(data=data_pipe.fit_transform(df_train),\n",
    "                     columns=data_pipe.get_feature_names())\n",
    "x_test=pd.DataFrame(data=data_pipe.transform(df_test),\n",
    "                     columns=data_pipe.get_feature_names())"
   ]
  },
  {
   "cell_type": "code",
   "execution_count": 12,
   "id": "afc4521a",
   "metadata": {},
   "outputs": [],
   "source": [
    "# x_train\n",
    "def report(results, n_top=3):\n",
    "    for i in range(1, n_top + 1):\n",
    "        candidates = np.flatnonzero(results['rank_test_score'] == i)\n",
    "        for candidate in candidates:\n",
    "            print(\"Model with rank: {0}\".format(i))\n",
    "            print(\"Mean validation score: {0:.6f} (std: {1:.6f})\".format(\n",
    "                  results['mean_test_score'][candidate],\n",
    "                  results['std_test_score'][candidate]))\n",
    "            print(\"Parameters: {0}\".format(results['params'][candidate]))\n",
    "            print(\"\")"
   ]
  },
  {
   "cell_type": "code",
   "execution_count": 13,
   "id": "5dc50f41",
   "metadata": {},
   "outputs": [],
   "source": [
    "zir = ZeroInflatedRegressor(\n",
    "    classifier=RandomForestClassifier(),\n",
    "    regressor=RandomForestRegressor()\n",
    ")"
   ]
  },
  {
   "cell_type": "code",
   "execution_count": 26,
   "id": "8f5b5570",
   "metadata": {},
   "outputs": [],
   "source": [
    "RandomForestRegressor?"
   ]
  },
  {
   "cell_type": "code",
   "execution_count": 25,
   "id": "d4fb6bb3",
   "metadata": {},
   "outputs": [],
   "source": [
    "lambdas=np.linspace(.001,.5,100)\n",
    "\n",
    "params = {\"classifier__n_estimators\":[100,200,300,500,700,1000], # 700,1000\n",
    "            \"classifier__max_features\": [5,10,20,25,30,35,40,45,50,55,60,65,70], #70\n",
    "            \"classifier__bootstrap\": [True, False],\n",
    "            'classifier__class_weight':[None,'balanced'], \n",
    "            'classifier__criterion':['entropy','gini'],\n",
    "            'classifier__max_depth':[None,5,10,15,20,30,50,70],\n",
    "            'classifier__min_samples_leaf':[1,2,5,10,15,20], \n",
    "            'classifier__min_samples_split':[2,5,10,15,20],\n",
    "            'classifier__random_state':[42],\n",
    "            'regressor__random_state':[42],\n",
    "            'regressor__ccp_alpha':lambdas,\n",
    "            'regressor__max_depth':[None,5,10,15,20,30,50,70],\n",
    "            'regressor__min_samples_leaf':[1,2,5,10,15,20], \n",
    "            'regressor__min_samples_split':[2,5,10,15,20],\n",
    "          \n",
    "            \"regressor__n_estimators\":[50,100,200], # Added extra 300 &400\n",
    "            \"regressor__max_features\": [5,10,20,25,30,35,40,45,50,55,60,65,70], #70\n",
    "            \"regressor__bootstrap\": [True, False],\n",
    "                  }\n"
   ]
  },
  {
   "cell_type": "code",
   "execution_count": 15,
   "id": "eafb741e",
   "metadata": {},
   "outputs": [],
   "source": [
    "grid_search=RandomizedSearchCV(zir,\n",
    "                         param_distributions=params,\n",
    "                         cv=10,\n",
    "                         scoring=\"neg_mean_absolute_error\",\n",
    "                         n_jobs=-1,\n",
    "                         verbose=20,\n",
    "                        return_train_score=True\n",
    ")"
   ]
  },
  {
   "cell_type": "code",
   "execution_count": 16,
   "id": "2e116fbc",
   "metadata": {},
   "outputs": [
    {
     "data": {
      "text/plain": [
       "{'classifier__bootstrap': True,\n",
       " 'classifier__ccp_alpha': 0.0,\n",
       " 'classifier__class_weight': None,\n",
       " 'classifier__criterion': 'gini',\n",
       " 'classifier__max_depth': None,\n",
       " 'classifier__max_features': 'auto',\n",
       " 'classifier__max_leaf_nodes': None,\n",
       " 'classifier__max_samples': None,\n",
       " 'classifier__min_impurity_decrease': 0.0,\n",
       " 'classifier__min_impurity_split': None,\n",
       " 'classifier__min_samples_leaf': 1,\n",
       " 'classifier__min_samples_split': 2,\n",
       " 'classifier__min_weight_fraction_leaf': 0.0,\n",
       " 'classifier__n_estimators': 100,\n",
       " 'classifier__n_jobs': None,\n",
       " 'classifier__oob_score': False,\n",
       " 'classifier__random_state': None,\n",
       " 'classifier__verbose': 0,\n",
       " 'classifier__warm_start': False,\n",
       " 'classifier': RandomForestClassifier(),\n",
       " 'regressor__bootstrap': True,\n",
       " 'regressor__ccp_alpha': 0.0,\n",
       " 'regressor__criterion': 'mse',\n",
       " 'regressor__max_depth': None,\n",
       " 'regressor__max_features': 'auto',\n",
       " 'regressor__max_leaf_nodes': None,\n",
       " 'regressor__max_samples': None,\n",
       " 'regressor__min_impurity_decrease': 0.0,\n",
       " 'regressor__min_impurity_split': None,\n",
       " 'regressor__min_samples_leaf': 1,\n",
       " 'regressor__min_samples_split': 2,\n",
       " 'regressor__min_weight_fraction_leaf': 0.0,\n",
       " 'regressor__n_estimators': 100,\n",
       " 'regressor__n_jobs': None,\n",
       " 'regressor__oob_score': False,\n",
       " 'regressor__random_state': None,\n",
       " 'regressor__verbose': 0,\n",
       " 'regressor__warm_start': False,\n",
       " 'regressor': RandomForestRegressor()}"
      ]
     },
     "execution_count": 16,
     "metadata": {},
     "output_type": "execute_result"
    }
   ],
   "source": [
    "zir.get_params()"
   ]
  },
  {
   "cell_type": "code",
   "execution_count": 17,
   "id": "50a9b49a",
   "metadata": {},
   "outputs": [
    {
     "name": "stdout",
     "output_type": "stream",
     "text": [
      "Fitting 10 folds for each of 10 candidates, totalling 100 fits\n"
     ]
    },
    {
     "data": {
      "text/plain": [
       "RandomizedSearchCV(cv=10,\n",
       "                   estimator=ZeroInflatedRegressor(classifier=RandomForestClassifier(),\n",
       "                                                   regressor=RandomForestRegressor()),\n",
       "                   n_jobs=-1,\n",
       "                   param_distributions={'classifier__bootstrap': [True, False],\n",
       "                                        'classifier__class_weight': [None,\n",
       "                                                                     'balanced'],\n",
       "                                        'classifier__criterion': ['entropy',\n",
       "                                                                  'gini'],\n",
       "                                        'classifier__max_depth': [None, 5, 10,\n",
       "                                                                  15, 20, 30,\n",
       "                                                                  50, 70],\n",
       "                                        'classifier__ma...\n",
       "                                        'regressor__max_depth': [None, 5, 10,\n",
       "                                                                 15, 20, 30, 50,\n",
       "                                                                 70],\n",
       "                                        'regressor__max_features': [5, 10, 20,\n",
       "                                                                    25, 30, 35,\n",
       "                                                                    40, 45, 50,\n",
       "                                                                    55, 60, 65,\n",
       "                                                                    70],\n",
       "                                        'regressor__min_samples_leaf': [1, 2, 5,\n",
       "                                                                        10, 15,\n",
       "                                                                        20],\n",
       "                                        'regressor__min_samples_split': [2, 5,\n",
       "                                                                         10, 15,\n",
       "                                                                         20],\n",
       "                                        'regressor__n_estimators': [50, 100,\n",
       "                                                                    200, 300],\n",
       "                                        'regressor__random_state': [55]},\n",
       "                   return_train_score=True, scoring='neg_mean_absolute_error',\n",
       "                   verbose=20)"
      ]
     },
     "execution_count": 17,
     "metadata": {},
     "output_type": "execute_result"
    }
   ],
   "source": [
    "grid_search.fit(x_train,y_train.values.ravel())"
   ]
  },
  {
   "cell_type": "code",
   "execution_count": 18,
   "id": "f1851812",
   "metadata": {},
   "outputs": [],
   "source": [
    "model = grid_search.best_estimator_"
   ]
  },
  {
   "cell_type": "code",
   "execution_count": 19,
   "id": "aafc9a6c",
   "metadata": {},
   "outputs": [
    {
     "data": {
      "text/plain": [
       "ZeroInflatedRegressor(classifier=RandomForestClassifier(class_weight='balanced',\n",
       "                                                        max_depth=20,\n",
       "                                                        max_features=40,\n",
       "                                                        min_samples_leaf=2,\n",
       "                                                        random_state=55),\n",
       "                      regressor=RandomForestRegressor(bootstrap=False,\n",
       "                                                      ccp_alpha=0.2631010101010101,\n",
       "                                                      max_depth=70,\n",
       "                                                      max_features=25,\n",
       "                                                      n_estimators=50,\n",
       "                                                      random_state=55))"
      ]
     },
     "execution_count": 19,
     "metadata": {},
     "output_type": "execute_result"
    }
   ],
   "source": [
    "grid_search.best_estimator_"
   ]
  },
  {
   "cell_type": "code",
   "execution_count": 20,
   "id": "39aa6aa8",
   "metadata": {},
   "outputs": [
    {
     "name": "stdout",
     "output_type": "stream",
     "text": [
      "Model with rank: 1\n",
      "Mean validation score: -2493.394283 (std: 75.994363)\n",
      "Parameters: {'regressor__random_state': 55, 'regressor__n_estimators': 50, 'regressor__min_samples_split': 2, 'regressor__min_samples_leaf': 1, 'regressor__max_features': 25, 'regressor__max_depth': 70, 'regressor__ccp_alpha': 0.2631010101010101, 'regressor__bootstrap': False, 'classifier__random_state': 55, 'classifier__n_estimators': 100, 'classifier__min_samples_split': 2, 'classifier__min_samples_leaf': 2, 'classifier__max_features': 40, 'classifier__max_depth': 20, 'classifier__criterion': 'gini', 'classifier__class_weight': 'balanced', 'classifier__bootstrap': True}\n",
      "\n",
      "Model with rank: 2\n",
      "Mean validation score: -2550.043084 (std: 61.452595)\n",
      "Parameters: {'regressor__random_state': 55, 'regressor__n_estimators': 300, 'regressor__min_samples_split': 15, 'regressor__min_samples_leaf': 10, 'regressor__max_features': 35, 'regressor__max_depth': 10, 'regressor__ccp_alpha': 0.29838383838383836, 'regressor__bootstrap': False, 'classifier__random_state': 55, 'classifier__n_estimators': 500, 'classifier__min_samples_split': 15, 'classifier__min_samples_leaf': 2, 'classifier__max_features': 45, 'classifier__max_depth': 70, 'classifier__criterion': 'entropy', 'classifier__class_weight': None, 'classifier__bootstrap': True}\n",
      "\n",
      "Model with rank: 3\n",
      "Mean validation score: -2623.943523 (std: 54.287339)\n",
      "Parameters: {'regressor__random_state': 55, 'regressor__n_estimators': 100, 'regressor__min_samples_split': 5, 'regressor__min_samples_leaf': 5, 'regressor__max_features': 50, 'regressor__max_depth': 10, 'regressor__ccp_alpha': 0.05644444444444444, 'regressor__bootstrap': True, 'classifier__random_state': 55, 'classifier__n_estimators': 100, 'classifier__min_samples_split': 15, 'classifier__min_samples_leaf': 2, 'classifier__max_features': 60, 'classifier__max_depth': 50, 'classifier__criterion': 'gini', 'classifier__class_weight': None, 'classifier__bootstrap': True}\n",
      "\n",
      "Model with rank: 4\n",
      "Mean validation score: -2922.172279 (std: 61.801119)\n",
      "Parameters: {'regressor__random_state': 55, 'regressor__n_estimators': 200, 'regressor__min_samples_split': 2, 'regressor__min_samples_leaf': 15, 'regressor__max_features': 20, 'regressor__max_depth': 10, 'regressor__ccp_alpha': 0.2378989898989899, 'regressor__bootstrap': True, 'classifier__random_state': 55, 'classifier__n_estimators': 200, 'classifier__min_samples_split': 5, 'classifier__min_samples_leaf': 15, 'classifier__max_features': 50, 'classifier__max_depth': 70, 'classifier__criterion': 'entropy', 'classifier__class_weight': 'balanced', 'classifier__bootstrap': False}\n",
      "\n",
      "Model with rank: 5\n",
      "Mean validation score: -2938.458194 (std: 78.247438)\n",
      "Parameters: {'regressor__random_state': 55, 'regressor__n_estimators': 100, 'regressor__min_samples_split': 15, 'regressor__min_samples_leaf': 15, 'regressor__max_features': 45, 'regressor__max_depth': 30, 'regressor__ccp_alpha': 0.016121212121212123, 'regressor__bootstrap': True, 'classifier__random_state': 55, 'classifier__n_estimators': 100, 'classifier__min_samples_split': 20, 'classifier__min_samples_leaf': 5, 'classifier__max_features': 5, 'classifier__max_depth': 70, 'classifier__criterion': 'entropy', 'classifier__class_weight': 'balanced', 'classifier__bootstrap': True}\n",
      "\n"
     ]
    }
   ],
   "source": [
    "report(grid_search.cv_results_,5)"
   ]
  },
  {
   "cell_type": "code",
   "execution_count": 21,
   "id": "407f6626",
   "metadata": {},
   "outputs": [
    {
     "data": {
      "text/plain": [
       "ZeroInflatedRegressor(classifier=RandomForestClassifier(class_weight='balanced',\n",
       "                                                        max_depth=20,\n",
       "                                                        max_features=40,\n",
       "                                                        min_samples_leaf=2,\n",
       "                                                        random_state=55),\n",
       "                      regressor=RandomForestRegressor(bootstrap=False,\n",
       "                                                      ccp_alpha=0.2631010101010101,\n",
       "                                                      max_depth=70,\n",
       "                                                      max_features=25,\n",
       "                                                      n_estimators=50,\n",
       "                                                      random_state=55))"
      ]
     },
     "execution_count": 21,
     "metadata": {},
     "output_type": "execute_result"
    }
   ],
   "source": [
    "model.fit(x_train, y_train)"
   ]
  },
  {
   "cell_type": "code",
   "execution_count": 22,
   "id": "c382be1b",
   "metadata": {},
   "outputs": [],
   "source": [
    "y_predict = model.predict(x_test)"
   ]
  },
  {
   "cell_type": "code",
   "execution_count": 23,
   "id": "770ad99b",
   "metadata": {},
   "outputs": [],
   "source": [
    "pd.DataFrame(y_predict).to_csv(\"sub3.csv\",index=False) # 3500"
   ]
  },
  {
   "cell_type": "code",
   "execution_count": 24,
   "id": "88a30a8b",
   "metadata": {},
   "outputs": [
    {
     "data": {
      "text/plain": [
       "3"
      ]
     },
     "execution_count": 24,
     "metadata": {},
     "output_type": "execute_result"
    }
   ],
   "source": [
    "1+2"
   ]
  },
  {
   "cell_type": "code",
   "execution_count": 70,
   "id": "fe50f30e",
   "metadata": {},
   "outputs": [],
   "source": [
    "lambdas=np.linspace(.01,.6,100)\n",
    "params={ \n",
    "        'max_depth':[None,5,10,15,20,30,50,70],\n",
    "            'min_samples_leaf':[1,2,5,10,15,20], \n",
    "            'min_samples_split':[2,5,10,15,20],\n",
    "            'ccp_alpha': lambdas,\n",
    "            'max_features':[5,10,20,25,30,35,40,45,50,55,60,65,70]\n",
    "       }"
   ]
  },
  {
   "cell_type": "code",
   "execution_count": 71,
   "id": "5146957c",
   "metadata": {},
   "outputs": [],
   "source": [
    "reg=DecisionTreeRegressor()"
   ]
  },
  {
   "cell_type": "code",
   "execution_count": 72,
   "id": "5f7a7a8d",
   "metadata": {},
   "outputs": [],
   "source": [
    "random_search=RandomizedSearchCV(reg,\n",
    "                                 cv=10,\n",
    "                                 param_distributions=params,\n",
    "                                 scoring='neg_mean_absolute_error',\n",
    "                                 n_iter=10,n_jobs=-1,verbose=20\n",
    "                                    )"
   ]
  },
  {
   "cell_type": "code",
   "execution_count": 73,
   "id": "668d5935",
   "metadata": {},
   "outputs": [
    {
     "name": "stdout",
     "output_type": "stream",
     "text": [
      "Fitting 10 folds for each of 10 candidates, totalling 100 fits\n"
     ]
    },
    {
     "data": {
      "text/plain": [
       "RandomizedSearchCV(cv=10, estimator=DecisionTreeRegressor(), n_jobs=-1,\n",
       "                   param_distributions={'ccp_alpha': array([0.01      , 0.0159596 , 0.02191919, 0.02787879, 0.03383838,\n",
       "       0.03979798, 0.04575758, 0.05171717, 0.05767677, 0.06363636,\n",
       "       0.06959596, 0.07555556, 0.08151515, 0.08747475, 0.09343434,\n",
       "       0.09939394, 0.10535354, 0.11131313, 0.11727273, 0.12323232,\n",
       "       0.12919192, 0.13515152, 0.1411...\n",
       "       0.51656566, 0.52252525, 0.52848485, 0.53444444, 0.54040404,\n",
       "       0.54636364, 0.55232323, 0.55828283, 0.56424242, 0.57020202,\n",
       "       0.57616162, 0.58212121, 0.58808081, 0.5940404 , 0.6       ]),\n",
       "                                        'max_depth': [None, 5, 10, 15, 20, 30,\n",
       "                                                      50, 70],\n",
       "                                        'max_features': [5, 10, 20, 25, 30, 35,\n",
       "                                                         40, 45, 50, 55, 60, 65,\n",
       "                                                         70],\n",
       "                                        'min_samples_leaf': [1, 2, 5, 10, 15,\n",
       "                                                             20],\n",
       "                                        'min_samples_split': [2, 5, 10, 15,\n",
       "                                                              20]},\n",
       "                   scoring='neg_mean_absolute_error', verbose=20)"
      ]
     },
     "execution_count": 73,
     "metadata": {},
     "output_type": "execute_result"
    }
   ],
   "source": [
    "random_search.fit(x_train,y_train)"
   ]
  },
  {
   "cell_type": "code",
   "execution_count": 74,
   "id": "73ce3a30",
   "metadata": {},
   "outputs": [
    {
     "name": "stdout",
     "output_type": "stream",
     "text": [
      "Model with rank: 1\n",
      "Mean validation score: -3141.879225 (std: 72.972032)\n",
      "Parameters: {'min_samples_split': 2, 'min_samples_leaf': 1, 'max_features': 30, 'max_depth': 70, 'ccp_alpha': 0.3139393939393939}\n",
      "\n",
      "Model with rank: 2\n",
      "Mean validation score: -3321.068425 (std: 69.853041)\n",
      "Parameters: {'min_samples_split': 5, 'min_samples_leaf': 1, 'max_features': 25, 'max_depth': 30, 'ccp_alpha': 0.06363636363636363}\n",
      "\n",
      "Model with rank: 3\n",
      "Mean validation score: -3602.989185 (std: 72.283570)\n",
      "Parameters: {'min_samples_split': 15, 'min_samples_leaf': 1, 'max_features': 55, 'max_depth': None, 'ccp_alpha': 0.24838383838383837}\n",
      "\n",
      "Model with rank: 4\n",
      "Mean validation score: -3655.662170 (std: 106.749423)\n",
      "Parameters: {'min_samples_split': 5, 'min_samples_leaf': 5, 'max_features': 65, 'max_depth': 50, 'ccp_alpha': 0.045757575757575754}\n",
      "\n",
      "Model with rank: 5\n",
      "Mean validation score: -3702.827217 (std: 70.290691)\n",
      "Parameters: {'min_samples_split': 5, 'min_samples_leaf': 5, 'max_features': 40, 'max_depth': 30, 'ccp_alpha': 0.2722222222222222}\n",
      "\n"
     ]
    }
   ],
   "source": [
    "report(random_search.cv_results_,5)"
   ]
  },
  {
   "cell_type": "code",
   "execution_count": 25,
   "id": "d23f6795",
   "metadata": {},
   "outputs": [],
   "source": [
    "param_dist = {\"n_estimators\":[50,100,200],\n",
    "              \"max_features\": [2,4,5,6,8],\n",
    "              \"bootstrap\": [True, False],\n",
    "                'max_depth':[None,5,10,15,20,30,50,70],\n",
    "                'min_samples_leaf':[1,2,5,10,15,20], \n",
    "                'min_samples_split':[2,5,10,15,20]\n",
    "                  }"
   ]
  },
  {
   "cell_type": "code",
   "execution_count": 26,
   "id": "8147068d",
   "metadata": {},
   "outputs": [],
   "source": [
    "reg=RandomForestRegressor()"
   ]
  },
  {
   "cell_type": "code",
   "execution_count": 28,
   "id": "3db12649",
   "metadata": {},
   "outputs": [
    {
     "name": "stdout",
     "output_type": "stream",
     "text": [
      "Fitting 10 folds for each of 10 candidates, totalling 100 fits\n"
     ]
    },
    {
     "data": {
      "text/plain": [
       "RandomizedSearchCV(cv=10, estimator=RandomForestRegressor(), n_jobs=-1,\n",
       "                   param_distributions={'bootstrap': [True, False],\n",
       "                                        'max_depth': [None, 5, 10, 15, 20, 30,\n",
       "                                                      50, 70],\n",
       "                                        'max_features': [2, 4, 5, 6, 8],\n",
       "                                        'min_samples_leaf': [1, 2, 5, 10, 15,\n",
       "                                                             20],\n",
       "                                        'min_samples_split': [2, 5, 10, 15, 20],\n",
       "                                        'n_estimators': [50, 100, 200]},\n",
       "                   scoring='neg_mean_absolute_error', verbose=20)"
      ]
     },
     "execution_count": 28,
     "metadata": {},
     "output_type": "execute_result"
    }
   ],
   "source": [
    "n_iter_search = 10\n",
    "random_search=RandomizedSearchCV(reg,\n",
    "                                 cv=10,\n",
    "                                 param_distributions=param_dist,\n",
    "                                 scoring='neg_mean_absolute_error',\n",
    "                                 n_iter=10,n_jobs=-1,verbose=20\n",
    "                                    )\n",
    "\n",
    "random_search.fit(x_train,y_train.values.ravel())"
   ]
  },
  {
   "cell_type": "code",
   "execution_count": 29,
   "id": "551ce046",
   "metadata": {},
   "outputs": [
    {
     "name": "stdout",
     "output_type": "stream",
     "text": [
      "Model with rank: 1\n",
      "Mean validation score: -3874.085814 (std: 45.797627)\n",
      "Parameters: {'n_estimators': 100, 'min_samples_split': 10, 'min_samples_leaf': 1, 'max_features': 2, 'max_depth': None, 'bootstrap': False}\n",
      "\n",
      "Model with rank: 2\n",
      "Mean validation score: -4077.637534 (std: 43.884617)\n",
      "Parameters: {'n_estimators': 50, 'min_samples_split': 5, 'min_samples_leaf': 5, 'max_features': 8, 'max_depth': 50, 'bootstrap': True}\n",
      "\n",
      "Model with rank: 3\n",
      "Mean validation score: -4215.736203 (std: 44.851347)\n",
      "Parameters: {'n_estimators': 50, 'min_samples_split': 20, 'min_samples_leaf': 10, 'max_features': 5, 'max_depth': 70, 'bootstrap': False}\n",
      "\n",
      "Model with rank: 4\n",
      "Mean validation score: -4258.845119 (std: 36.862216)\n",
      "Parameters: {'n_estimators': 50, 'min_samples_split': 2, 'min_samples_leaf': 15, 'max_features': 8, 'max_depth': 20, 'bootstrap': False}\n",
      "\n",
      "Model with rank: 5\n",
      "Mean validation score: -4261.047378 (std: 46.238961)\n",
      "Parameters: {'n_estimators': 100, 'min_samples_split': 2, 'min_samples_leaf': 5, 'max_features': 2, 'max_depth': 50, 'bootstrap': False}\n",
      "\n"
     ]
    }
   ],
   "source": [
    "report(random_search.cv_results_,5)"
   ]
  },
  {
   "cell_type": "code",
   "execution_count": 30,
   "id": "2e9a583f",
   "metadata": {},
   "outputs": [],
   "source": [
    "param_dist = {\"n_estimators\":[50,100,200],\n",
    "              \"max_features\": [2,4,5,6,8],\n",
    "              \"bootstrap\": [True, False],\n",
    "                'max_depth':[None,5,10,15,20,30,50,70],\n",
    "                'min_samples_leaf':[1,2,5,10,15,20], \n",
    "                'min_samples_split':[2,5,10,15,20]\n",
    "                  }"
   ]
  },
  {
   "cell_type": "code",
   "execution_count": 32,
   "id": "f37279b8",
   "metadata": {},
   "outputs": [],
   "source": [
    "from sklearn.ensemble import ExtraTreesRegressor\n"
   ]
  },
  {
   "cell_type": "code",
   "execution_count": 33,
   "id": "4b21e8a8",
   "metadata": {},
   "outputs": [],
   "source": [
    "reg=ExtraTreesRegressor()"
   ]
  },
  {
   "cell_type": "code",
   "execution_count": 35,
   "id": "2623297d",
   "metadata": {},
   "outputs": [
    {
     "name": "stdout",
     "output_type": "stream",
     "text": [
      "Fitting 10 folds for each of 10 candidates, totalling 100 fits\n"
     ]
    },
    {
     "data": {
      "text/plain": [
       "RandomizedSearchCV(cv=10, estimator=ExtraTreesRegressor(), n_jobs=-1,\n",
       "                   param_distributions={'bootstrap': [True, False],\n",
       "                                        'max_depth': [None, 5, 10, 15, 20, 30,\n",
       "                                                      50, 70],\n",
       "                                        'max_features': [2, 4, 5, 6, 8],\n",
       "                                        'min_samples_leaf': [1, 2, 5, 10, 15,\n",
       "                                                             20],\n",
       "                                        'min_samples_split': [2, 5, 10, 15, 20],\n",
       "                                        'n_estimators': [50, 100, 200]},\n",
       "                   scoring='neg_mean_absolute_error', verbose=20)"
      ]
     },
     "execution_count": 35,
     "metadata": {},
     "output_type": "execute_result"
    }
   ],
   "source": [
    "n_iter_search = 10\n",
    "random_search=RandomizedSearchCV(reg,\n",
    "                                 cv=10,\n",
    "                                 param_distributions=param_dist,\n",
    "                                 scoring='neg_mean_absolute_error',\n",
    "                                 n_iter=10,n_jobs=-1,verbose=20\n",
    "                                    )\n",
    "\n",
    "random_search.fit(x_train,y_train.values.ravel())"
   ]
  },
  {
   "cell_type": "code",
   "execution_count": 36,
   "id": "4e326089",
   "metadata": {},
   "outputs": [
    {
     "name": "stdout",
     "output_type": "stream",
     "text": [
      "Model with rank: 1\n",
      "Mean validation score: -3872.166664 (std: 43.171777)\n",
      "Parameters: {'n_estimators': 50, 'min_samples_split': 5, 'min_samples_leaf': 1, 'max_features': 5, 'max_depth': 70, 'bootstrap': True}\n",
      "\n",
      "Model with rank: 2\n",
      "Mean validation score: -4281.680046 (std: 49.426493)\n",
      "Parameters: {'n_estimators': 50, 'min_samples_split': 15, 'min_samples_leaf': 1, 'max_features': 4, 'max_depth': 50, 'bootstrap': True}\n",
      "\n",
      "Model with rank: 3\n",
      "Mean validation score: -4309.906460 (std: 46.137406)\n",
      "Parameters: {'n_estimators': 50, 'min_samples_split': 5, 'min_samples_leaf': 2, 'max_features': 6, 'max_depth': 15, 'bootstrap': True}\n",
      "\n",
      "Model with rank: 4\n",
      "Mean validation score: -4324.990153 (std: 43.550543)\n",
      "Parameters: {'n_estimators': 200, 'min_samples_split': 5, 'min_samples_leaf': 10, 'max_features': 8, 'max_depth': 50, 'bootstrap': False}\n",
      "\n",
      "Model with rank: 5\n",
      "Mean validation score: -4470.988847 (std: 43.348193)\n",
      "Parameters: {'n_estimators': 50, 'min_samples_split': 10, 'min_samples_leaf': 15, 'max_features': 5, 'max_depth': 70, 'bootstrap': False}\n",
      "\n"
     ]
    }
   ],
   "source": [
    "report(random_search.cv_results_,5)"
   ]
  },
  {
   "cell_type": "code",
   "execution_count": 80,
   "id": "72354d69",
   "metadata": {},
   "outputs": [],
   "source": [
    "model=Lasso()\n",
    "lambdas=np.linspace(.01,.6,100)\n",
    "params={'alpha':lambdas}"
   ]
  },
  {
   "cell_type": "code",
   "execution_count": 82,
   "id": "8ed74ac2",
   "metadata": {},
   "outputs": [],
   "source": [
    "grid_search=RandomizedSearchCV(model,\n",
    "                         param_distributions=params,\n",
    "                         cv=10,\n",
    "                         scoring='neg_mean_absolute_error',\n",
    "                        verbose=20,n_jobs=-1)"
   ]
  },
  {
   "cell_type": "code",
   "execution_count": 83,
   "id": "0a91d894",
   "metadata": {},
   "outputs": [
    {
     "name": "stdout",
     "output_type": "stream",
     "text": [
      "Fitting 10 folds for each of 10 candidates, totalling 100 fits\n"
     ]
    },
    {
     "data": {
      "text/plain": [
       "RandomizedSearchCV(cv=10, estimator=Lasso(), n_jobs=-1,\n",
       "                   param_distributions={'alpha': array([0.01      , 0.0159596 , 0.02191919, 0.02787879, 0.03383838,\n",
       "       0.03979798, 0.04575758, 0.05171717, 0.05767677, 0.06363636,\n",
       "       0.06959596, 0.07555556, 0.08151515, 0.08747475, 0.09343434,\n",
       "       0.09939394, 0.10535354, 0.11131313, 0.11727273, 0.12323232,\n",
       "       0.12919192, 0.13515152, 0.14111111, 0.14707071, 0.15...\n",
       "       0.42717172, 0.43313131, 0.43909091, 0.44505051, 0.4510101 ,\n",
       "       0.4569697 , 0.46292929, 0.46888889, 0.47484848, 0.48080808,\n",
       "       0.48676768, 0.49272727, 0.49868687, 0.50464646, 0.51060606,\n",
       "       0.51656566, 0.52252525, 0.52848485, 0.53444444, 0.54040404,\n",
       "       0.54636364, 0.55232323, 0.55828283, 0.56424242, 0.57020202,\n",
       "       0.57616162, 0.58212121, 0.58808081, 0.5940404 , 0.6       ])},\n",
       "                   scoring='neg_mean_absolute_error', verbose=20)"
      ]
     },
     "execution_count": 83,
     "metadata": {},
     "output_type": "execute_result"
    }
   ],
   "source": [
    "grid_search.fit(x_train,y_train)"
   ]
  },
  {
   "cell_type": "code",
   "execution_count": 84,
   "id": "9bacf2ed",
   "metadata": {},
   "outputs": [
    {
     "name": "stdout",
     "output_type": "stream",
     "text": [
      "Model with rank: 1\n",
      "Mean validation score: -4546.058172 (std: 44.841060)\n",
      "Parameters: {'alpha': 0.01}\n",
      "\n",
      "Model with rank: 2\n",
      "Mean validation score: -4546.184320 (std: 44.743071)\n",
      "Parameters: {'alpha': 0.14707070707070707}\n",
      "\n",
      "Model with rank: 3\n",
      "Mean validation score: -4546.245101 (std: 44.705289)\n",
      "Parameters: {'alpha': 0.2007070707070707}\n",
      "\n",
      "Model with rank: 4\n",
      "Mean validation score: -4546.286686 (std: 44.679755)\n",
      "Parameters: {'alpha': 0.23646464646464646}\n",
      "\n",
      "Model with rank: 5\n",
      "Mean validation score: -4546.340042 (std: 44.653003)\n",
      "Parameters: {'alpha': 0.27818181818181814}\n",
      "\n"
     ]
    }
   ],
   "source": [
    "report(grid_search.cv_results_,5)"
   ]
  },
  {
   "cell_type": "code",
   "execution_count": 86,
   "id": "ca1cdc43",
   "metadata": {},
   "outputs": [],
   "source": [
    "lasso_model=grid_search.best_estimator_"
   ]
  },
  {
   "cell_type": "code",
   "execution_count": 87,
   "id": "e7af2bb6",
   "metadata": {},
   "outputs": [
    {
     "data": {
      "text/plain": [
       "[('int_to_dum__ind_02_cat_1.0', -348.2931190414011),\n",
       " ('int_to_dum__ind_02_cat_2.0', 2218.250016222545),\n",
       " ('int_to_dum__ind_02_cat_3.0', -642.6066409969),\n",
       " ('int_to_dum__ind_04_cat_0.0', -58.679891108380765),\n",
       " ('int_to_dum__ind_05_cat_0.0', -1283.9287604218075),\n",
       " ('int_to_dum__car_01_cat_11.0', -568.1759263096793),\n",
       " ('int_to_dum__car_01_cat_7.0', -1003.2970463013481),\n",
       " ('int_to_dum__car_01_cat_6.0', -445.8835447943203),\n",
       " ('int_to_dum__car_01_cat_10.0', -543.9890056325767),\n",
       " ('int_to_dum__car_02_cat_1', -17.2836505757965),\n",
       " ('int_to_dum__car_03_cat_1.0', 126.9040073805058),\n",
       " ('int_to_dum__car_04_cat_0', 23.677012491449098),\n",
       " ('int_to_dum__car_04_cat_1', -31.57037082976129),\n",
       " ('int_to_dum__car_04_cat_2', 439.7297550742588),\n",
       " ('int_to_dum__car_05_cat_1.0', 1.3389497636154823),\n",
       " ('int_to_dum__car_06_cat_11', -435.78250579183685),\n",
       " ('int_to_dum__car_06_cat_1', -117.38393049261973),\n",
       " ('int_to_dum__car_06_cat_0', -255.22061043015268),\n",
       " ('int_to_dum__car_06_cat_14', -296.04391857786527),\n",
       " ('int_to_dum__car_06_cat_10', 91.26212465162017),\n",
       " ('int_to_dum__car_06_cat_4', -297.682576680341),\n",
       " ('int_to_dum__car_07_cat_1.0', -459.88889707612867),\n",
       " ('int_to_dum__car_08_cat_1', -150.03862149006292),\n",
       " ('int_to_dum__car_09_cat_2.0', -330.3309206623069),\n",
       " ('int_to_dum__car_09_cat_0.0', -528.6808220251403),\n",
       " ('int_to_dum__car_09_cat_1.0', 165.82355794150465),\n",
       " ('int_to_dum__car_10_cat_1', -486.6977646380904),\n",
       " ('int_to_dum__car_11_cat_104', -162.93576193837944),\n",
       " ('impute_miss__ind_01', 49.203948249679186),\n",
       " ('impute_miss__ind_03', 24.97295977073007),\n",
       " ('impute_miss__ind_06_bin', -281.48319046369284),\n",
       " ('impute_miss__ind_07_bin', 168.48502430340366),\n",
       " ('impute_miss__ind_08_bin', 56.33899747720533),\n",
       " ('impute_miss__ind_09_bin', -164.7053526191656),\n",
       " ('impute_miss__ind_10_bin', 365.19462342982087),\n",
       " ('impute_miss__ind_11_bin', -613.0718265350691),\n",
       " ('impute_miss__ind_12_bin', -0.0),\n",
       " ('impute_miss__ind_13_bin', -1259.3000786413977),\n",
       " ('impute_miss__ind_14', -114.74980104777843),\n",
       " ('impute_miss__ind_15', 7.641351240140291),\n",
       " ('impute_miss__ind_16_bin', -119.51429258698033),\n",
       " ('impute_miss__ind_17_bin', 758.917303508878),\n",
       " ('impute_miss__ind_18_bin', 51.916713605700664),\n",
       " ('impute_miss__reg_01', 1167.5923392512916),\n",
       " ('impute_miss__reg_02', 287.0802842549877),\n",
       " ('impute_miss__reg_03', 283.55583708685276),\n",
       " ('impute_miss__car_11', -43.50542341190783),\n",
       " ('impute_miss__car_12', 2316.2759430001843),\n",
       " ('impute_miss__car_13', 962.3929219474891),\n",
       " ('impute_miss__car_14', -2527.964386131692),\n",
       " ('impute_miss__car_15', 229.88677992012157),\n",
       " ('impute_miss__calc_01', 81.21742127593164),\n",
       " ('impute_miss__calc_02', 87.19883890838443),\n",
       " ('impute_miss__calc_03', 67.49093346799982),\n",
       " ('impute_miss__calc_04', -36.016313749209054),\n",
       " ('impute_miss__calc_05', -74.73308634385504),\n",
       " ('impute_miss__calc_06', 3.3777501999055306),\n",
       " ('impute_miss__calc_07', 25.210198191248),\n",
       " ('impute_miss__calc_08', 113.59422125427302),\n",
       " ('impute_miss__calc_09', 7.399832049608209),\n",
       " ('impute_miss__calc_10', 429.34821123814567),\n",
       " ('impute_miss__calc_11', -21.854168221139272),\n",
       " ('impute_miss__calc_12', 12.495170740405845),\n",
       " ('impute_miss__calc_13', -38.97266227100327),\n",
       " ('impute_miss__calc_14', 13.057297318584485),\n",
       " ('impute_miss__calc_15_bin', 121.2529527713656),\n",
       " ('impute_miss__calc_16_bin', -24.895870755382653),\n",
       " ('impute_miss__calc_17_bin', -131.04178208320332),\n",
       " ('impute_miss__calc_18_bin', 4412.082213125339),\n",
       " ('impute_miss__calc_19_bin', -158.94997484898195),\n",
       " ('impute_miss__calc_20_bin', -97.45774846832548)]"
      ]
     },
     "execution_count": 87,
     "metadata": {},
     "output_type": "execute_result"
    }
   ],
   "source": [
    "list(zip(data_pipe.get_feature_names(),lasso_model.coef_))"
   ]
  },
  {
   "cell_type": "code",
   "execution_count": null,
   "id": "46b4dfc2",
   "metadata": {},
   "outputs": [],
   "source": []
  }
 ],
 "metadata": {
  "kernelspec": {
   "display_name": "Python 3",
   "language": "python",
   "name": "python3"
  },
  "language_info": {
   "codemirror_mode": {
    "name": "ipython",
    "version": 3
   },
   "file_extension": ".py",
   "mimetype": "text/x-python",
   "name": "python",
   "nbconvert_exporter": "python",
   "pygments_lexer": "ipython3",
   "version": "3.8.8"
  }
 },
 "nbformat": 4,
 "nbformat_minor": 5
}
