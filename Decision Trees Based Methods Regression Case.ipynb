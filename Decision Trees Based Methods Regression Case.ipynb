{
 "cells": [
  {
   "cell_type": "code",
   "execution_count": 1,
   "metadata": {},
   "outputs": [],
   "source": [
    "file=r'/home/siddarth.jha@npci.org.in/Documents/Training/Data/insurance.csv'"
   ]
  },
  {
   "cell_type": "code",
   "execution_count": 2,
   "metadata": {},
   "outputs": [],
   "source": [
    "import pandas as pd"
   ]
  },
  {
   "cell_type": "code",
   "execution_count": 3,
   "metadata": {},
   "outputs": [],
   "source": [
    "import numpy as np"
   ]
  },
  {
   "cell_type": "code",
   "execution_count": 4,
   "metadata": {},
   "outputs": [],
   "source": [
    "from mypipes import *"
   ]
  },
  {
   "cell_type": "code",
   "execution_count": 5,
   "metadata": {},
   "outputs": [],
   "source": [
    "in_train=pd.read_csv(file)"
   ]
  },
  {
   "cell_type": "code",
   "execution_count": 6,
   "metadata": {},
   "outputs": [
    {
     "data": {
      "text/html": [
       "<div>\n",
       "<style scoped>\n",
       "    .dataframe tbody tr th:only-of-type {\n",
       "        vertical-align: middle;\n",
       "    }\n",
       "\n",
       "    .dataframe tbody tr th {\n",
       "        vertical-align: top;\n",
       "    }\n",
       "\n",
       "    .dataframe thead th {\n",
       "        text-align: right;\n",
       "    }\n",
       "</style>\n",
       "<table border=\"1\" class=\"dataframe\">\n",
       "  <thead>\n",
       "    <tr style=\"text-align: right;\">\n",
       "      <th></th>\n",
       "      <th>age</th>\n",
       "      <th>sex</th>\n",
       "      <th>bmi</th>\n",
       "      <th>children</th>\n",
       "      <th>smoker</th>\n",
       "      <th>region</th>\n",
       "      <th>charges</th>\n",
       "    </tr>\n",
       "  </thead>\n",
       "  <tbody>\n",
       "    <tr>\n",
       "      <th>0</th>\n",
       "      <td>19</td>\n",
       "      <td>female</td>\n",
       "      <td>27.900</td>\n",
       "      <td>0</td>\n",
       "      <td>yes</td>\n",
       "      <td>southwest</td>\n",
       "      <td>16884.92400</td>\n",
       "    </tr>\n",
       "    <tr>\n",
       "      <th>1</th>\n",
       "      <td>18</td>\n",
       "      <td>male</td>\n",
       "      <td>33.770</td>\n",
       "      <td>1</td>\n",
       "      <td>no</td>\n",
       "      <td>southeast</td>\n",
       "      <td>1725.55230</td>\n",
       "    </tr>\n",
       "    <tr>\n",
       "      <th>2</th>\n",
       "      <td>28</td>\n",
       "      <td>male</td>\n",
       "      <td>33.000</td>\n",
       "      <td>3</td>\n",
       "      <td>no</td>\n",
       "      <td>southeast</td>\n",
       "      <td>4449.46200</td>\n",
       "    </tr>\n",
       "    <tr>\n",
       "      <th>3</th>\n",
       "      <td>33</td>\n",
       "      <td>male</td>\n",
       "      <td>22.705</td>\n",
       "      <td>0</td>\n",
       "      <td>no</td>\n",
       "      <td>northwest</td>\n",
       "      <td>21984.47061</td>\n",
       "    </tr>\n",
       "    <tr>\n",
       "      <th>4</th>\n",
       "      <td>32</td>\n",
       "      <td>male</td>\n",
       "      <td>28.880</td>\n",
       "      <td>0</td>\n",
       "      <td>no</td>\n",
       "      <td>northwest</td>\n",
       "      <td>3866.85520</td>\n",
       "    </tr>\n",
       "  </tbody>\n",
       "</table>\n",
       "</div>"
      ],
      "text/plain": [
       "   age     sex     bmi  children smoker     region      charges\n",
       "0   19  female  27.900         0    yes  southwest  16884.92400\n",
       "1   18    male  33.770         1     no  southeast   1725.55230\n",
       "2   28    male  33.000         3     no  southeast   4449.46200\n",
       "3   33    male  22.705         0     no  northwest  21984.47061\n",
       "4   32    male  28.880         0     no  northwest   3866.85520"
      ]
     },
     "execution_count": 6,
     "metadata": {},
     "output_type": "execute_result"
    }
   ],
   "source": [
    "in_train.head()"
   ]
  },
  {
   "cell_type": "code",
   "execution_count": 7,
   "metadata": {},
   "outputs": [],
   "source": [
    "cat_vars=['sex','region','smoker']\n",
    "num_vars=['age','bmi','children']"
   ]
  },
  {
   "cell_type": "code",
   "execution_count": 8,
   "metadata": {},
   "outputs": [],
   "source": [
    "p1=pdPipeline([\n",
    "    ('cat_select',VarSelector(cat_vars)),\n",
    "    ('missing_trt',DataFrameImputer()),\n",
    "    ('create_dummies',get_dummies_Pipe(15))\n",
    "])\n",
    "\n",
    "p2=pdPipeline([\n",
    "    ('num_select',VarSelector(num_vars)),\n",
    "    ('missing_trt',DataFrameImputer())\n",
    "])\n",
    "\n",
    "data_pipe=FeatureUnion([\n",
    "    ('cat_pipe',p1),\n",
    "    ('num_pipe',p2)\n",
    "])"
   ]
  },
  {
   "cell_type": "code",
   "execution_count": 9,
   "metadata": {},
   "outputs": [],
   "source": [
    "x_train=pd.DataFrame(data=data_pipe.fit_transform(in_train),\n",
    "                     columns=data_pipe.get_feature_names())"
   ]
  },
  {
   "cell_type": "code",
   "execution_count": 10,
   "metadata": {},
   "outputs": [],
   "source": [
    "y_train=in_train['charges']"
   ]
  },
  {
   "cell_type": "code",
   "execution_count": 1,
   "metadata": {},
   "outputs": [],
   "source": [
    "from sklearn.tree import DecisionTreeRegressor\n",
    "from sklearn.ensemble import RandomForestRegressor\n",
    "from sklearn.ensemble import ExtraTreesRegressor\n",
    "from sklearn.model_selection import RandomizedSearchCV"
   ]
  },
  {
   "cell_type": "code",
   "execution_count": 12,
   "metadata": {},
   "outputs": [],
   "source": [
    "def report(results, n_top=3):\n",
    "    for i in range(1, n_top + 1):\n",
    "        candidates = np.flatnonzero(results['rank_test_score'] == i)\n",
    "        for candidate in candidates:\n",
    "            print(\"Model with rank: {0}\".format(i))\n",
    "            print(\"Mean validation score: {0:.5f} (std: {1:.5f})\".format(\n",
    "                  results['mean_test_score'][candidate],\n",
    "                  results['std_test_score'][candidate]))\n",
    "            print(\"Parameters: {0}\".format(results['params'][candidate]))\n",
    "            print(\"\")"
   ]
  },
  {
   "cell_type": "code",
   "execution_count": 3,
   "metadata": {},
   "outputs": [],
   "source": [
    "RandomForestRegressor?"
   ]
  },
  {
   "cell_type": "markdown",
   "metadata": {},
   "source": [
    "## Decision Trees"
   ]
  },
  {
   "cell_type": "code",
   "execution_count": 13,
   "metadata": {},
   "outputs": [],
   "source": [
    "params={ \n",
    "        'max_depth':[None,5,10,15,20,30,50,70],\n",
    "            'min_samples_leaf':[1,2,5,10,15,20], \n",
    "            'min_samples_split':[2,5,10,15,20]\n",
    "       }"
   ]
  },
  {
   "cell_type": "code",
   "execution_count": 14,
   "metadata": {},
   "outputs": [],
   "source": [
    "reg=DecisionTreeRegressor()"
   ]
  },
  {
   "cell_type": "code",
   "execution_count": 15,
   "metadata": {},
   "outputs": [],
   "source": [
    "random_search=RandomizedSearchCV(reg,\n",
    "                                 cv=10,\n",
    "                                 param_distributions=params,\n",
    "                                 scoring='neg_mean_absolute_error',\n",
    "                                 n_iter=10,n_jobs=-1,verbose=20\n",
    "                                    )"
   ]
  },
  {
   "cell_type": "code",
   "execution_count": 16,
   "metadata": {},
   "outputs": [
    {
     "name": "stdout",
     "output_type": "stream",
     "text": [
      "Fitting 10 folds for each of 10 candidates, totalling 100 fits\n"
     ]
    },
    {
     "name": "stderr",
     "output_type": "stream",
     "text": [
      "[Parallel(n_jobs=-1)]: Using backend LokyBackend with 12 concurrent workers.\n",
      "[Parallel(n_jobs=-1)]: Done   1 tasks      | elapsed:    2.2s\n",
      "[Parallel(n_jobs=-1)]: Done   2 tasks      | elapsed:    2.3s\n",
      "[Parallel(n_jobs=-1)]: Done   3 tasks      | elapsed:    2.3s\n",
      "[Parallel(n_jobs=-1)]: Done   4 tasks      | elapsed:    2.3s\n",
      "[Parallel(n_jobs=-1)]: Done   5 tasks      | elapsed:    2.3s\n",
      "[Parallel(n_jobs=-1)]: Done   6 tasks      | elapsed:    2.3s\n",
      "[Parallel(n_jobs=-1)]: Done   7 tasks      | elapsed:    2.3s\n",
      "[Parallel(n_jobs=-1)]: Done   8 tasks      | elapsed:    2.3s\n",
      "[Parallel(n_jobs=-1)]: Done   9 tasks      | elapsed:    2.3s\n",
      "[Parallel(n_jobs=-1)]: Done  10 tasks      | elapsed:    2.4s\n",
      "[Parallel(n_jobs=-1)]: Done  11 tasks      | elapsed:    2.4s\n",
      "[Parallel(n_jobs=-1)]: Done  12 tasks      | elapsed:    2.4s\n",
      "[Parallel(n_jobs=-1)]: Done  13 tasks      | elapsed:    2.4s\n",
      "[Parallel(n_jobs=-1)]: Done  14 tasks      | elapsed:    2.4s\n",
      "[Parallel(n_jobs=-1)]: Done  15 tasks      | elapsed:    2.4s\n",
      "[Parallel(n_jobs=-1)]: Done  16 tasks      | elapsed:    2.4s\n",
      "[Parallel(n_jobs=-1)]: Done  17 tasks      | elapsed:    2.4s\n",
      "[Parallel(n_jobs=-1)]: Done  18 tasks      | elapsed:    2.4s\n",
      "[Parallel(n_jobs=-1)]: Done  19 tasks      | elapsed:    2.4s\n",
      "[Parallel(n_jobs=-1)]: Done  20 tasks      | elapsed:    2.4s\n",
      "[Parallel(n_jobs=-1)]: Done  21 tasks      | elapsed:    2.4s\n",
      "[Parallel(n_jobs=-1)]: Done  22 tasks      | elapsed:    2.4s\n",
      "[Parallel(n_jobs=-1)]: Done  23 tasks      | elapsed:    2.4s\n",
      "[Parallel(n_jobs=-1)]: Done  24 tasks      | elapsed:    2.4s\n",
      "[Parallel(n_jobs=-1)]: Done  25 tasks      | elapsed:    2.4s\n",
      "[Parallel(n_jobs=-1)]: Done  26 tasks      | elapsed:    2.4s\n",
      "[Parallel(n_jobs=-1)]: Done  27 tasks      | elapsed:    2.4s\n",
      "[Parallel(n_jobs=-1)]: Done  28 tasks      | elapsed:    2.4s\n",
      "[Parallel(n_jobs=-1)]: Done  29 tasks      | elapsed:    2.4s\n",
      "[Parallel(n_jobs=-1)]: Done  30 tasks      | elapsed:    2.4s\n",
      "[Parallel(n_jobs=-1)]: Done  31 tasks      | elapsed:    2.5s\n",
      "[Parallel(n_jobs=-1)]: Done  32 tasks      | elapsed:    2.5s\n",
      "[Parallel(n_jobs=-1)]: Done  33 tasks      | elapsed:    2.5s\n",
      "[Parallel(n_jobs=-1)]: Done  34 tasks      | elapsed:    2.5s\n",
      "[Parallel(n_jobs=-1)]: Done  35 tasks      | elapsed:    2.5s\n",
      "[Parallel(n_jobs=-1)]: Done  36 tasks      | elapsed:    2.5s\n",
      "[Parallel(n_jobs=-1)]: Done  37 tasks      | elapsed:    2.5s\n",
      "[Parallel(n_jobs=-1)]: Done  38 tasks      | elapsed:    2.5s\n",
      "[Parallel(n_jobs=-1)]: Done  39 tasks      | elapsed:    2.5s\n",
      "[Parallel(n_jobs=-1)]: Batch computation too fast (0.1977s.) Setting batch_size=2.\n",
      "[Parallel(n_jobs=-1)]: Done  40 tasks      | elapsed:    2.5s\n",
      "[Parallel(n_jobs=-1)]: Done  41 tasks      | elapsed:    2.5s\n",
      "[Parallel(n_jobs=-1)]: Done  42 tasks      | elapsed:    2.5s\n",
      "[Parallel(n_jobs=-1)]: Done  43 tasks      | elapsed:    2.5s\n",
      "[Parallel(n_jobs=-1)]: Done  44 tasks      | elapsed:    2.5s\n",
      "[Parallel(n_jobs=-1)]: Done  45 tasks      | elapsed:    2.5s\n",
      "[Parallel(n_jobs=-1)]: Done  46 tasks      | elapsed:    2.5s\n",
      "[Parallel(n_jobs=-1)]: Done  47 tasks      | elapsed:    2.5s\n",
      "[Parallel(n_jobs=-1)]: Done  48 tasks      | elapsed:    2.5s\n",
      "[Parallel(n_jobs=-1)]: Done  49 tasks      | elapsed:    2.5s\n",
      "[Parallel(n_jobs=-1)]: Done  50 tasks      | elapsed:    2.5s\n",
      "[Parallel(n_jobs=-1)]: Done  51 tasks      | elapsed:    2.5s\n",
      "[Parallel(n_jobs=-1)]: Done  52 tasks      | elapsed:    2.5s\n",
      "[Parallel(n_jobs=-1)]: Done  53 tasks      | elapsed:    2.5s\n",
      "[Parallel(n_jobs=-1)]: Done  54 tasks      | elapsed:    2.5s\n",
      "[Parallel(n_jobs=-1)]: Done  55 tasks      | elapsed:    2.5s\n",
      "[Parallel(n_jobs=-1)]: Done  56 tasks      | elapsed:    2.5s\n",
      "[Parallel(n_jobs=-1)]: Done  57 tasks      | elapsed:    2.5s\n",
      "[Parallel(n_jobs=-1)]: Done  58 tasks      | elapsed:    2.5s\n",
      "[Parallel(n_jobs=-1)]: Done  59 out of 100 | elapsed:    2.5s remaining:    1.8s\n",
      "[Parallel(n_jobs=-1)]: Done 100 out of 100 | elapsed:    2.6s finished\n",
      "/Users/lalitsachan/anaconda3/lib/python3.7/site-packages/sklearn/model_selection/_search.py:842: DeprecationWarning: The default of the `iid` parameter will change from True to False in version 0.22 and will be removed in 0.24. This will change numeric results when test-set sizes are unequal.\n",
      "  DeprecationWarning)\n"
     ]
    },
    {
     "data": {
      "text/plain": [
       "RandomizedSearchCV(cv=10, error_score='raise-deprecating',\n",
       "          estimator=DecisionTreeRegressor(criterion='mse', max_depth=None, max_features=None,\n",
       "           max_leaf_nodes=None, min_impurity_decrease=0.0,\n",
       "           min_impurity_split=None, min_samples_leaf=1,\n",
       "           min_samples_split=2, min_weight_fraction_leaf=0.0,\n",
       "           presort=False, random_state=None, splitter='best'),\n",
       "          fit_params=None, iid='warn', n_iter=10, n_jobs=-1,\n",
       "          param_distributions={'max_depth': [None, 5, 10, 15, 20, 30, 50, 70], 'min_samples_leaf': [1, 2, 5, 10, 15, 20], 'min_samples_split': [2, 5, 10, 15, 20]},\n",
       "          pre_dispatch='2*n_jobs', random_state=None, refit=True,\n",
       "          return_train_score='warn', scoring='neg_mean_absolute_error',\n",
       "          verbose=20)"
      ]
     },
     "execution_count": 16,
     "metadata": {},
     "output_type": "execute_result"
    }
   ],
   "source": [
    "random_search.fit(x_train,y_train)"
   ]
  },
  {
   "cell_type": "code",
   "execution_count": 17,
   "metadata": {},
   "outputs": [
    {
     "name": "stdout",
     "output_type": "stream",
     "text": [
      "Model with rank: 1\n",
      "Mean validation score: -2673.81782 (std: 310.91265)\n",
      "Parameters: {'min_samples_split': 20, 'min_samples_leaf': 15, 'max_depth': 70}\n",
      "\n",
      "Model with rank: 2\n",
      "Mean validation score: -2673.81782 (std: 310.91265)\n",
      "Parameters: {'min_samples_split': 10, 'min_samples_leaf': 15, 'max_depth': None}\n",
      "\n",
      "Model with rank: 3\n",
      "Mean validation score: -2680.07083 (std: 295.50348)\n",
      "Parameters: {'min_samples_split': 2, 'min_samples_leaf': 20, 'max_depth': 15}\n",
      "\n",
      "Model with rank: 4\n",
      "Mean validation score: -2756.89728 (std: 337.86321)\n",
      "Parameters: {'min_samples_split': 10, 'min_samples_leaf': 2, 'max_depth': 70}\n",
      "\n",
      "Model with rank: 5\n",
      "Mean validation score: -2764.89098 (std: 342.53671)\n",
      "Parameters: {'min_samples_split': 15, 'min_samples_leaf': 1, 'max_depth': 50}\n",
      "\n"
     ]
    }
   ],
   "source": [
    "report(random_search.cv_results_,5)"
   ]
  },
  {
   "cell_type": "markdown",
   "metadata": {},
   "source": [
    "## Random Forest\n"
   ]
  },
  {
   "cell_type": "code",
   "execution_count": 18,
   "metadata": {},
   "outputs": [],
   "source": [
    "param_dist = {\"n_estimators\":[50,100,200],\n",
    "              \"max_features\": [2,4,5,6,8],\n",
    "              \"bootstrap\": [True, False],\n",
    "                'max_depth':[None,5,10,15,20,30,50,70],\n",
    "                'min_samples_leaf':[1,2,5,10,15,20], \n",
    "                'min_samples_split':[2,5,10,15,20]\n",
    "                  }"
   ]
  },
  {
   "cell_type": "code",
   "execution_count": 19,
   "metadata": {},
   "outputs": [],
   "source": [
    "reg=RandomForestRegressor()"
   ]
  },
  {
   "cell_type": "code",
   "execution_count": 20,
   "metadata": {},
   "outputs": [
    {
     "name": "stderr",
     "output_type": "stream",
     "text": [
      "[Parallel(n_jobs=-1)]: Using backend LokyBackend with 12 concurrent workers.\n"
     ]
    },
    {
     "name": "stdout",
     "output_type": "stream",
     "text": [
      "Fitting 10 folds for each of 10 candidates, totalling 100 fits\n"
     ]
    },
    {
     "name": "stderr",
     "output_type": "stream",
     "text": [
      "[Parallel(n_jobs=-1)]: Done   1 tasks      | elapsed:    0.3s\n",
      "[Parallel(n_jobs=-1)]: Done   2 tasks      | elapsed:    0.3s\n",
      "[Parallel(n_jobs=-1)]: Done   3 tasks      | elapsed:    0.4s\n",
      "[Parallel(n_jobs=-1)]: Done   4 tasks      | elapsed:    0.4s\n",
      "[Parallel(n_jobs=-1)]: Done   5 tasks      | elapsed:    0.5s\n",
      "[Parallel(n_jobs=-1)]: Done   6 tasks      | elapsed:    0.5s\n",
      "[Parallel(n_jobs=-1)]: Done   7 tasks      | elapsed:    0.5s\n",
      "[Parallel(n_jobs=-1)]: Done   8 tasks      | elapsed:    0.5s\n",
      "[Parallel(n_jobs=-1)]: Done   9 tasks      | elapsed:    0.5s\n",
      "[Parallel(n_jobs=-1)]: Done  10 tasks      | elapsed:    0.5s\n",
      "[Parallel(n_jobs=-1)]: Done  11 tasks      | elapsed:    0.5s\n",
      "[Parallel(n_jobs=-1)]: Done  12 tasks      | elapsed:    0.6s\n",
      "[Parallel(n_jobs=-1)]: Done  13 tasks      | elapsed:    0.6s\n",
      "[Parallel(n_jobs=-1)]: Done  14 tasks      | elapsed:    0.6s\n",
      "[Parallel(n_jobs=-1)]: Done  15 tasks      | elapsed:    0.6s\n",
      "[Parallel(n_jobs=-1)]: Done  16 tasks      | elapsed:    0.6s\n",
      "[Parallel(n_jobs=-1)]: Done  17 tasks      | elapsed:    0.7s\n",
      "[Parallel(n_jobs=-1)]: Done  18 tasks      | elapsed:    0.7s\n",
      "[Parallel(n_jobs=-1)]: Done  19 tasks      | elapsed:    0.7s\n",
      "[Parallel(n_jobs=-1)]: Done  20 tasks      | elapsed:    0.7s\n",
      "[Parallel(n_jobs=-1)]: Done  21 tasks      | elapsed:    0.7s\n",
      "[Parallel(n_jobs=-1)]: Done  22 tasks      | elapsed:    0.7s\n",
      "[Parallel(n_jobs=-1)]: Done  23 tasks      | elapsed:    0.7s\n",
      "[Parallel(n_jobs=-1)]: Done  24 tasks      | elapsed:    0.7s\n",
      "[Parallel(n_jobs=-1)]: Done  25 tasks      | elapsed:    0.7s\n",
      "[Parallel(n_jobs=-1)]: Done  26 tasks      | elapsed:    0.7s\n",
      "[Parallel(n_jobs=-1)]: Done  27 tasks      | elapsed:    0.7s\n",
      "[Parallel(n_jobs=-1)]: Done  28 tasks      | elapsed:    0.8s\n",
      "[Parallel(n_jobs=-1)]: Done  29 tasks      | elapsed:    0.8s\n",
      "[Parallel(n_jobs=-1)]: Done  30 tasks      | elapsed:    0.8s\n",
      "[Parallel(n_jobs=-1)]: Done  31 tasks      | elapsed:    0.8s\n",
      "[Parallel(n_jobs=-1)]: Done  32 tasks      | elapsed:    0.8s\n",
      "[Parallel(n_jobs=-1)]: Done  33 tasks      | elapsed:    0.8s\n",
      "[Parallel(n_jobs=-1)]: Done  34 tasks      | elapsed:    0.8s\n",
      "[Parallel(n_jobs=-1)]: Done  35 tasks      | elapsed:    0.8s\n",
      "[Parallel(n_jobs=-1)]: Done  36 tasks      | elapsed:    0.9s\n",
      "[Parallel(n_jobs=-1)]: Done  37 tasks      | elapsed:    0.9s\n",
      "[Parallel(n_jobs=-1)]: Done  38 tasks      | elapsed:    0.9s\n",
      "[Parallel(n_jobs=-1)]: Done  39 tasks      | elapsed:    0.9s\n",
      "[Parallel(n_jobs=-1)]: Done  40 tasks      | elapsed:    0.9s\n",
      "[Parallel(n_jobs=-1)]: Done  41 tasks      | elapsed:    1.0s\n",
      "[Parallel(n_jobs=-1)]: Done  42 tasks      | elapsed:    1.0s\n",
      "[Parallel(n_jobs=-1)]: Done  43 tasks      | elapsed:    1.0s\n",
      "[Parallel(n_jobs=-1)]: Done  44 tasks      | elapsed:    1.0s\n",
      "[Parallel(n_jobs=-1)]: Done  45 tasks      | elapsed:    1.1s\n",
      "[Parallel(n_jobs=-1)]: Done  46 tasks      | elapsed:    1.1s\n",
      "[Parallel(n_jobs=-1)]: Done  47 tasks      | elapsed:    1.2s\n",
      "[Parallel(n_jobs=-1)]: Done  48 tasks      | elapsed:    1.2s\n",
      "[Parallel(n_jobs=-1)]: Done  49 tasks      | elapsed:    1.3s\n",
      "[Parallel(n_jobs=-1)]: Done  50 tasks      | elapsed:    1.3s\n",
      "[Parallel(n_jobs=-1)]: Done  51 tasks      | elapsed:    1.3s\n",
      "[Parallel(n_jobs=-1)]: Done  52 tasks      | elapsed:    1.3s\n",
      "[Parallel(n_jobs=-1)]: Done  53 tasks      | elapsed:    1.3s\n",
      "[Parallel(n_jobs=-1)]: Done  54 tasks      | elapsed:    1.3s\n",
      "[Parallel(n_jobs=-1)]: Done  55 tasks      | elapsed:    1.3s\n",
      "[Parallel(n_jobs=-1)]: Done  56 tasks      | elapsed:    1.3s\n",
      "[Parallel(n_jobs=-1)]: Done  57 tasks      | elapsed:    1.3s\n",
      "[Parallel(n_jobs=-1)]: Done  58 tasks      | elapsed:    1.3s\n",
      "[Parallel(n_jobs=-1)]: Done  59 tasks      | elapsed:    1.3s\n",
      "[Parallel(n_jobs=-1)]: Done  60 tasks      | elapsed:    1.3s\n",
      "[Parallel(n_jobs=-1)]: Done  61 tasks      | elapsed:    1.4s\n",
      "[Parallel(n_jobs=-1)]: Done  62 tasks      | elapsed:    1.4s\n",
      "[Parallel(n_jobs=-1)]: Done  63 tasks      | elapsed:    1.4s\n",
      "[Parallel(n_jobs=-1)]: Done  64 tasks      | elapsed:    1.4s\n",
      "[Parallel(n_jobs=-1)]: Done  65 tasks      | elapsed:    1.4s\n",
      "[Parallel(n_jobs=-1)]: Done  66 tasks      | elapsed:    1.4s\n",
      "[Parallel(n_jobs=-1)]: Done  67 tasks      | elapsed:    1.4s\n",
      "[Parallel(n_jobs=-1)]: Done  68 tasks      | elapsed:    1.4s\n",
      "[Parallel(n_jobs=-1)]: Done  69 tasks      | elapsed:    1.4s\n",
      "[Parallel(n_jobs=-1)]: Done  70 tasks      | elapsed:    1.4s\n",
      "[Parallel(n_jobs=-1)]: Done  71 tasks      | elapsed:    1.5s\n",
      "[Parallel(n_jobs=-1)]: Done  72 tasks      | elapsed:    1.5s\n",
      "[Parallel(n_jobs=-1)]: Done  73 tasks      | elapsed:    1.6s\n",
      "[Parallel(n_jobs=-1)]: Done  74 tasks      | elapsed:    1.6s\n",
      "[Parallel(n_jobs=-1)]: Done  75 tasks      | elapsed:    1.6s\n",
      "[Parallel(n_jobs=-1)]: Done  76 tasks      | elapsed:    1.6s\n",
      "[Parallel(n_jobs=-1)]: Done  77 tasks      | elapsed:    1.6s\n",
      "[Parallel(n_jobs=-1)]: Done  83 out of 100 | elapsed:    1.7s remaining:    0.3s\n",
      "[Parallel(n_jobs=-1)]: Done  89 out of 100 | elapsed:    1.7s remaining:    0.2s\n",
      "[Parallel(n_jobs=-1)]: Done  95 out of 100 | elapsed:    1.8s remaining:    0.1s\n",
      "[Parallel(n_jobs=-1)]: Done 100 out of 100 | elapsed:    1.8s finished\n"
     ]
    },
    {
     "data": {
      "text/plain": [
       "RandomizedSearchCV(cv=10, error_score='raise-deprecating',\n",
       "          estimator=RandomForestRegressor(bootstrap=True, criterion='mse', max_depth=None,\n",
       "           max_features='auto', max_leaf_nodes=None,\n",
       "           min_impurity_decrease=0.0, min_impurity_split=None,\n",
       "           min_samples_leaf=1, min_samples_split=2,\n",
       "           min_weight_fraction_leaf=0.0, n_estimators='warn', n_jobs=None,\n",
       "           oob_score=False, random_state=None, verbose=0, warm_start=False),\n",
       "          fit_params=None, iid='warn', n_iter=10, n_jobs=-1,\n",
       "          param_distributions={'n_estimators': [50, 100, 200], 'max_features': [2, 4, 5, 6, 8], 'bootstrap': [True, False], 'max_depth': [None, 5, 10, 15, 20, 30, 50, 70], 'min_samples_leaf': [1, 2, 5, 10, 15, 20], 'min_samples_split': [2, 5, 10, 15, 20]},\n",
       "          pre_dispatch='2*n_jobs', random_state=None, refit=True,\n",
       "          return_train_score='warn', scoring='neg_mean_absolute_error',\n",
       "          verbose=20)"
      ]
     },
     "execution_count": 20,
     "metadata": {},
     "output_type": "execute_result"
    }
   ],
   "source": [
    "n_iter_search = 10\n",
    "random_search=RandomizedSearchCV(reg,\n",
    "                                 cv=10,\n",
    "                                 param_distributions=param_dist,\n",
    "                                 scoring='neg_mean_absolute_error',\n",
    "                                 n_iter=10,n_jobs=-1,verbose=20\n",
    "                                    )\n",
    "\n",
    "random_search.fit(x_train,y_train)"
   ]
  },
  {
   "cell_type": "code",
   "execution_count": 21,
   "metadata": {},
   "outputs": [
    {
     "name": "stdout",
     "output_type": "stream",
     "text": [
      "Model with rank: 1\n",
      "Mean validation score: -2510.34889 (std: 273.05349)\n",
      "Parameters: {'n_estimators': 100, 'min_samples_split': 15, 'min_samples_leaf': 10, 'max_features': 6, 'max_depth': 70, 'bootstrap': False}\n",
      "\n",
      "Model with rank: 2\n",
      "Mean validation score: -2530.34725 (std: 254.28321)\n",
      "Parameters: {'n_estimators': 200, 'min_samples_split': 5, 'min_samples_leaf': 15, 'max_features': 5, 'max_depth': None, 'bootstrap': False}\n",
      "\n",
      "Model with rank: 3\n",
      "Mean validation score: -2531.68952 (std: 262.42165)\n",
      "Parameters: {'n_estimators': 50, 'min_samples_split': 10, 'min_samples_leaf': 15, 'max_features': 6, 'max_depth': 50, 'bootstrap': True}\n",
      "\n",
      "Model with rank: 4\n",
      "Mean validation score: -2553.40941 (std: 224.65589)\n",
      "Parameters: {'n_estimators': 50, 'min_samples_split': 2, 'min_samples_leaf': 2, 'max_features': 4, 'max_depth': None, 'bootstrap': False}\n",
      "\n",
      "Model with rank: 5\n",
      "Mean validation score: -2646.17670 (std: 246.96772)\n",
      "Parameters: {'n_estimators': 50, 'min_samples_split': 2, 'min_samples_leaf': 15, 'max_features': 5, 'max_depth': 70, 'bootstrap': True}\n",
      "\n"
     ]
    }
   ],
   "source": [
    "report(random_search.cv_results_,5)"
   ]
  },
  {
   "cell_type": "markdown",
   "metadata": {},
   "source": [
    "## Extra Trees"
   ]
  },
  {
   "cell_type": "code",
   "execution_count": 22,
   "metadata": {},
   "outputs": [],
   "source": [
    "param_dist = {\"n_estimators\":[50,100,200],\n",
    "              \"max_features\": [2,4,5,6,8],\n",
    "              \"bootstrap\": [True, False],\n",
    "                'max_depth':[None,5,10,15,20,30,50,70],\n",
    "                'min_samples_leaf':[1,2,5,10,15,20], \n",
    "                'min_samples_split':[2,5,10,15,20]\n",
    "                  }"
   ]
  },
  {
   "cell_type": "code",
   "execution_count": 23,
   "metadata": {},
   "outputs": [],
   "source": [
    "reg=ExtraTreesRegressor()"
   ]
  },
  {
   "cell_type": "code",
   "execution_count": 24,
   "metadata": {},
   "outputs": [
    {
     "name": "stderr",
     "output_type": "stream",
     "text": [
      "[Parallel(n_jobs=-1)]: Using backend LokyBackend with 12 concurrent workers.\n"
     ]
    },
    {
     "name": "stdout",
     "output_type": "stream",
     "text": [
      "Fitting 10 folds for each of 10 candidates, totalling 100 fits\n"
     ]
    },
    {
     "name": "stderr",
     "output_type": "stream",
     "text": [
      "[Parallel(n_jobs=-1)]: Done   1 tasks      | elapsed:    0.1s\n",
      "[Parallel(n_jobs=-1)]: Batch computation too fast (0.1175s.) Setting batch_size=2.\n",
      "[Parallel(n_jobs=-1)]: Done   2 tasks      | elapsed:    0.2s\n",
      "[Parallel(n_jobs=-1)]: Done   3 tasks      | elapsed:    0.2s\n",
      "[Parallel(n_jobs=-1)]: Done   4 tasks      | elapsed:    0.2s\n",
      "[Parallel(n_jobs=-1)]: Done   5 tasks      | elapsed:    0.2s\n",
      "[Parallel(n_jobs=-1)]: Done   6 tasks      | elapsed:    0.2s\n",
      "[Parallel(n_jobs=-1)]: Done   7 tasks      | elapsed:    0.2s\n",
      "[Parallel(n_jobs=-1)]: Done   8 tasks      | elapsed:    0.2s\n",
      "[Parallel(n_jobs=-1)]: Done   9 tasks      | elapsed:    0.2s\n",
      "[Parallel(n_jobs=-1)]: Done  10 tasks      | elapsed:    0.2s\n",
      "[Parallel(n_jobs=-1)]: Done  11 tasks      | elapsed:    0.4s\n",
      "[Parallel(n_jobs=-1)]: Done  12 tasks      | elapsed:    0.4s\n",
      "[Parallel(n_jobs=-1)]: Done  13 tasks      | elapsed:    0.5s\n",
      "[Parallel(n_jobs=-1)]: Done  14 tasks      | elapsed:    0.5s\n",
      "[Parallel(n_jobs=-1)]: Done  15 tasks      | elapsed:    0.5s\n",
      "[Parallel(n_jobs=-1)]: Done  16 tasks      | elapsed:    0.6s\n",
      "[Parallel(n_jobs=-1)]: Done  17 tasks      | elapsed:    0.6s\n",
      "[Parallel(n_jobs=-1)]: Done  18 tasks      | elapsed:    0.6s\n",
      "[Parallel(n_jobs=-1)]: Done  19 tasks      | elapsed:    0.6s\n",
      "[Parallel(n_jobs=-1)]: Done  20 tasks      | elapsed:    0.6s\n",
      "[Parallel(n_jobs=-1)]: Done  21 tasks      | elapsed:    0.6s\n",
      "[Parallel(n_jobs=-1)]: Done  22 tasks      | elapsed:    0.6s\n",
      "[Parallel(n_jobs=-1)]: Done  23 tasks      | elapsed:    0.7s\n",
      "[Parallel(n_jobs=-1)]: Done  24 tasks      | elapsed:    0.8s\n",
      "[Parallel(n_jobs=-1)]: Done  26 tasks      | elapsed:    1.0s\n",
      "[Parallel(n_jobs=-1)]: Done  28 tasks      | elapsed:    1.0s\n",
      "[Parallel(n_jobs=-1)]: Done  30 tasks      | elapsed:    1.0s\n",
      "[Parallel(n_jobs=-1)]: Done  32 tasks      | elapsed:    1.1s\n",
      "[Parallel(n_jobs=-1)]: Done  34 tasks      | elapsed:    1.1s\n",
      "[Parallel(n_jobs=-1)]: Done  36 tasks      | elapsed:    1.1s\n",
      "[Parallel(n_jobs=-1)]: Done  38 tasks      | elapsed:    1.1s\n",
      "[Parallel(n_jobs=-1)]: Done  40 tasks      | elapsed:    1.1s\n",
      "[Parallel(n_jobs=-1)]: Done  42 tasks      | elapsed:    1.4s\n",
      "[Parallel(n_jobs=-1)]: Done  44 tasks      | elapsed:    1.4s\n",
      "[Parallel(n_jobs=-1)]: Done  46 tasks      | elapsed:    1.4s\n",
      "[Parallel(n_jobs=-1)]: Done  48 tasks      | elapsed:    1.4s\n",
      "[Parallel(n_jobs=-1)]: Done  50 tasks      | elapsed:    1.4s\n",
      "[Parallel(n_jobs=-1)]: Done  52 tasks      | elapsed:    1.5s\n",
      "[Parallel(n_jobs=-1)]: Done  54 tasks      | elapsed:    1.5s\n",
      "[Parallel(n_jobs=-1)]: Done 100 out of 100 | elapsed:    2.6s finished\n"
     ]
    },
    {
     "data": {
      "text/plain": [
       "RandomizedSearchCV(cv=10, error_score='raise-deprecating',\n",
       "          estimator=ExtraTreesRegressor(bootstrap=False, criterion='mse', max_depth=None,\n",
       "          max_features='auto', max_leaf_nodes=None,\n",
       "          min_impurity_decrease=0.0, min_impurity_split=None,\n",
       "          min_samples_leaf=1, min_samples_split=2,\n",
       "          min_weight_fraction_leaf=0.0, n_estimators='warn', n_jobs=None,\n",
       "          oob_score=False, random_state=None, verbose=0, warm_start=False),\n",
       "          fit_params=None, iid='warn', n_iter=10, n_jobs=-1,\n",
       "          param_distributions={'n_estimators': [50, 100, 200], 'max_features': [2, 4, 5, 6, 8], 'bootstrap': [True, False], 'max_depth': [None, 5, 10, 15, 20, 30, 50, 70], 'min_samples_leaf': [1, 2, 5, 10, 15, 20], 'min_samples_split': [2, 5, 10, 15, 20]},\n",
       "          pre_dispatch='2*n_jobs', random_state=None, refit=True,\n",
       "          return_train_score='warn', scoring='neg_mean_absolute_error',\n",
       "          verbose=20)"
      ]
     },
     "execution_count": 24,
     "metadata": {},
     "output_type": "execute_result"
    }
   ],
   "source": [
    "n_iter_search = 10\n",
    "random_search=RandomizedSearchCV(reg,\n",
    "                                 cv=10,\n",
    "                                 param_distributions=param_dist,\n",
    "                                 scoring='neg_mean_absolute_error',\n",
    "                                 n_iter=10,n_jobs=-1,verbose=20\n",
    "                                    )\n",
    "\n",
    "random_search.fit(x_train,y_train)"
   ]
  },
  {
   "cell_type": "code",
   "execution_count": 25,
   "metadata": {},
   "outputs": [
    {
     "name": "stdout",
     "output_type": "stream",
     "text": [
      "Model with rank: 1\n",
      "Mean validation score: -2769.36734 (std: 227.73905)\n",
      "Parameters: {'n_estimators': 200, 'min_samples_split': 5, 'min_samples_leaf': 1, 'max_features': 4, 'max_depth': 10, 'bootstrap': False}\n",
      "\n",
      "Model with rank: 2\n",
      "Mean validation score: -3106.47434 (std: 251.55017)\n",
      "Parameters: {'n_estimators': 100, 'min_samples_split': 20, 'min_samples_leaf': 10, 'max_features': 5, 'max_depth': 50, 'bootstrap': False}\n",
      "\n",
      "Model with rank: 3\n",
      "Mean validation score: -3111.03385 (std: 263.45324)\n",
      "Parameters: {'n_estimators': 200, 'min_samples_split': 20, 'min_samples_leaf': 10, 'max_features': 6, 'max_depth': 15, 'bootstrap': True}\n",
      "\n",
      "Model with rank: 4\n",
      "Mean validation score: -3121.18522 (std: 248.63720)\n",
      "Parameters: {'n_estimators': 100, 'min_samples_split': 15, 'min_samples_leaf': 10, 'max_features': 6, 'max_depth': 20, 'bootstrap': True}\n",
      "\n",
      "Model with rank: 5\n",
      "Mean validation score: -3286.66548 (std: 277.53722)\n",
      "Parameters: {'n_estimators': 100, 'min_samples_split': 2, 'min_samples_leaf': 10, 'max_features': 5, 'max_depth': 10, 'bootstrap': True}\n",
      "\n"
     ]
    }
   ],
   "source": [
    "report(random_search.cv_results_,5)"
   ]
  },
  {
   "cell_type": "markdown",
   "metadata": {},
   "source": [
    "## Feature Importance for extratrees \n",
    "#### can be doen for other algos the same as well"
   ]
  },
  {
   "cell_type": "code",
   "execution_count": 26,
   "metadata": {},
   "outputs": [
    {
     "data": {
      "text/plain": [
       "ExtraTreesRegressor(bootstrap=False, criterion='mse', max_depth=10,\n",
       "          max_features=4, max_leaf_nodes=None, min_impurity_decrease=0.0,\n",
       "          min_impurity_split=None, min_samples_leaf=1, min_samples_split=5,\n",
       "          min_weight_fraction_leaf=0.0, n_estimators=200, n_jobs=None,\n",
       "          oob_score=False, random_state=None, verbose=0, warm_start=False)"
      ]
     },
     "execution_count": 26,
     "metadata": {},
     "output_type": "execute_result"
    }
   ],
   "source": [
    "et=random_search.best_estimator_\n",
    "et.fit(x_train,y_train)"
   ]
  },
  {
   "cell_type": "code",
   "execution_count": 27,
   "metadata": {},
   "outputs": [
    {
     "data": {
      "text/html": [
       "<div>\n",
       "<style scoped>\n",
       "    .dataframe tbody tr th:only-of-type {\n",
       "        vertical-align: middle;\n",
       "    }\n",
       "\n",
       "    .dataframe tbody tr th {\n",
       "        vertical-align: top;\n",
       "    }\n",
       "\n",
       "    .dataframe thead th {\n",
       "        text-align: right;\n",
       "    }\n",
       "</style>\n",
       "<table border=\"1\" class=\"dataframe\">\n",
       "  <thead>\n",
       "    <tr style=\"text-align: right;\">\n",
       "      <th></th>\n",
       "      <th>features</th>\n",
       "      <th>importance</th>\n",
       "    </tr>\n",
       "  </thead>\n",
       "  <tbody>\n",
       "    <tr>\n",
       "      <th>4</th>\n",
       "      <td>cat_pipe__smoker_no</td>\n",
       "      <td>0.720057</td>\n",
       "    </tr>\n",
       "    <tr>\n",
       "      <th>6</th>\n",
       "      <td>num_pipe__bmi</td>\n",
       "      <td>0.123873</td>\n",
       "    </tr>\n",
       "    <tr>\n",
       "      <th>5</th>\n",
       "      <td>num_pipe__age</td>\n",
       "      <td>0.117416</td>\n",
       "    </tr>\n",
       "    <tr>\n",
       "      <th>7</th>\n",
       "      <td>num_pipe__children</td>\n",
       "      <td>0.016696</td>\n",
       "    </tr>\n",
       "    <tr>\n",
       "      <th>1</th>\n",
       "      <td>cat_pipe__region_southeast</td>\n",
       "      <td>0.006386</td>\n",
       "    </tr>\n",
       "    <tr>\n",
       "      <th>0</th>\n",
       "      <td>cat_pipe__sex_male</td>\n",
       "      <td>0.006051</td>\n",
       "    </tr>\n",
       "    <tr>\n",
       "      <th>2</th>\n",
       "      <td>cat_pipe__region_northwest</td>\n",
       "      <td>0.004809</td>\n",
       "    </tr>\n",
       "    <tr>\n",
       "      <th>3</th>\n",
       "      <td>cat_pipe__region_southwest</td>\n",
       "      <td>0.004712</td>\n",
       "    </tr>\n",
       "  </tbody>\n",
       "</table>\n",
       "</div>"
      ],
      "text/plain": [
       "                     features  importance\n",
       "4         cat_pipe__smoker_no    0.720057\n",
       "6               num_pipe__bmi    0.123873\n",
       "5               num_pipe__age    0.117416\n",
       "7          num_pipe__children    0.016696\n",
       "1  cat_pipe__region_southeast    0.006386\n",
       "0          cat_pipe__sex_male    0.006051\n",
       "2  cat_pipe__region_northwest    0.004809\n",
       "3  cat_pipe__region_southwest    0.004712"
      ]
     },
     "execution_count": 27,
     "metadata": {},
     "output_type": "execute_result"
    }
   ],
   "source": [
    "feat_imp_df=pd.DataFrame({'features':x_train.columns,'importance':et.feature_importances_})\n",
    "\n",
    "feat_imp_df.sort_values('importance',ascending=False)"
   ]
  },
  {
   "cell_type": "markdown",
   "metadata": {},
   "source": [
    "## Partial Dependence Plot for Extratrees\n",
    "\n"
   ]
  },
  {
   "cell_type": "code",
   "execution_count": 28,
   "metadata": {},
   "outputs": [],
   "source": [
    "%matplotlib inline"
   ]
  },
  {
   "cell_type": "code",
   "execution_count": 29,
   "metadata": {},
   "outputs": [],
   "source": [
    "var_name='num_pipe__bmi'\n",
    "\n",
    "preds=et.predict(x_train)\n"
   ]
  },
  {
   "cell_type": "code",
   "execution_count": 30,
   "metadata": {},
   "outputs": [],
   "source": [
    "var_data=pd.DataFrame({'var':x_train[var_name],'response':preds})"
   ]
  },
  {
   "cell_type": "code",
   "execution_count": 31,
   "metadata": {},
   "outputs": [
    {
     "data": {
      "text/plain": [
       "<seaborn.axisgrid.FacetGrid at 0x7ff785eff748>"
      ]
     },
     "execution_count": 31,
     "metadata": {},
     "output_type": "execute_result"
    },
    {
     "data": {
      "image/png": "[encoded data removed]",
      "text/plain": [
       "<Figure size 360x360 with 1 Axes>"
      ]
     },
     "metadata": {
      "needs_background": "light"
     },
     "output_type": "display_data"
    }
   ],
   "source": [
    "import seaborn as sns\n",
    "\n",
    "sns.lmplot(x='var',y='response',data=var_data,fit_reg=False)"
   ]
  },
  {
   "cell_type": "code",
   "execution_count": 32,
   "metadata": {},
   "outputs": [],
   "source": [
    "import statsmodels.api as sm\n",
    "smooth_data=sm.nonparametric.lowess(var_data['response'],var_data['var'])\n",
    "\n",
    "# smooth_data"
   ]
  },
  {
   "cell_type": "code",
   "execution_count": 33,
   "metadata": {},
   "outputs": [
    {
     "data": {
      "text/plain": [
       "<seaborn.axisgrid.FacetGrid at 0x7ff7877c8e48>"
      ]
     },
     "execution_count": 33,
     "metadata": {},
     "output_type": "execute_result"
    },
    {
     "data": {
      "image/png": "[encoded data removed]",
      "text/plain": [
       "<Figure size 360x360 with 1 Axes>"
      ]
     },
     "metadata": {
      "needs_background": "light"
     },
     "output_type": "display_data"
    }
   ],
   "source": [
    "df=pd.DataFrame({'response':smooth_data[:,1],var_name:smooth_data[:,0]})\n",
    "\n",
    "sns.lmplot(x=var_name,y='response',data=df,fit_reg=False)"
   ]
  },
  {
   "cell_type": "code",
   "execution_count": 1,
   "metadata": {},
   "outputs": [],
   "source": [
    "from sklego.meta import ZeroInflatedRegressor\n"
   ]
  },
  {
   "cell_type": "code",
   "execution_count": 2,
   "metadata": {},
   "outputs": [],
   "source": [
    "ZeroInflatedRegressor?"
   ]
  },
  {
   "cell_type": "code",
   "execution_count": null,
   "metadata": {},
   "outputs": [],
   "source": []
  }
 ],
 "metadata": {
  "kernelspec": {
   "display_name": "Python 3",
   "language": "python",
   "name": "python3"
  },
  "language_info": {
   "codemirror_mode": {
    "name": "ipython",
    "version": 3
   },
   "file_extension": ".py",
   "mimetype": "text/x-python",
   "name": "python",
   "nbconvert_exporter": "python",
   "pygments_lexer": "ipython3",
   "version": "3.8.8"
  }
 },
 "nbformat": 4,
 "nbformat_minor": 2
}
