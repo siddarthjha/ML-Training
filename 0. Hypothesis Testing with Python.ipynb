{
 "cells": [
  {
   "cell_type": "code",
   "execution_count": 1,
   "metadata": {},
   "outputs": [],
   "source": [
    "import seaborn as sns\n",
    "import numpy as np\n",
    "import pandas as pd"
   ]
  },
  {
   "cell_type": "code",
   "execution_count": 2,
   "metadata": {},
   "outputs": [],
   "source": [
    "%matplotlib inline"
   ]
  },
  {
   "cell_type": "markdown",
   "metadata": {},
   "source": [
    "## Central Limit Theorem"
   ]
  },
  {
   "cell_type": "code",
   "execution_count": null,
   "metadata": {},
   "outputs": [],
   "source": [
    "x=np.random.beta(1,5,size=(200000,))"
   ]
  },
  {
   "cell_type": "code",
   "execution_count": null,
   "metadata": {},
   "outputs": [],
   "source": [
    "sns.distplot(x)"
   ]
  },
  {
   "cell_type": "code",
   "execution_count": null,
   "metadata": {},
   "outputs": [],
   "source": [
    "k=[]\n",
    "\n",
    "for i in range(10000):\n",
    "    j=np.random.choice(x,1000,replace=False)\n",
    "    k.append(np.mean(j))\n",
    "    if i%1000==0:\n",
    "        print(i)\n"
   ]
  },
  {
   "cell_type": "code",
   "execution_count": null,
   "metadata": {},
   "outputs": [],
   "source": [
    "sns.distplot(k)"
   ]
  },
  {
   "cell_type": "code",
   "execution_count": null,
   "metadata": {},
   "outputs": [],
   "source": [
    "m=np.random.uniform(size=20000)\n",
    "t=np.random.uniform(size=20000)"
   ]
  },
  {
   "cell_type": "code",
   "execution_count": null,
   "metadata": {},
   "outputs": [],
   "source": [
    "b=np.ones_like(t)-1.332*t"
   ]
  },
  {
   "cell_type": "code",
   "execution_count": null,
   "metadata": {},
   "outputs": [],
   "source": [
    "b"
   ]
  },
  {
   "cell_type": "code",
   "execution_count": null,
   "metadata": {},
   "outputs": [],
   "source": [
    "x=np.where(m>0.5,4+np.sqrt(b),4-np.sqrt(b))"
   ]
  },
  {
   "cell_type": "code",
   "execution_count": null,
   "metadata": {},
   "outputs": [],
   "source": [
    "x=np.where(np.isnan(x),0,x)"
   ]
  },
  {
   "cell_type": "code",
   "execution_count": null,
   "metadata": {},
   "outputs": [],
   "source": [
    "sns.distplot(x)"
   ]
  },
  {
   "cell_type": "code",
   "execution_count": null,
   "metadata": {},
   "outputs": [],
   "source": [
    "k=[]\n",
    "\n",
    "for i in range(10000):\n",
    "    j=np.random.choice(x,1000,replace=False)\n",
    "    k.append(np.mean(j))\n",
    "    if i%1000==0:\n",
    "        print(i)"
   ]
  },
  {
   "cell_type": "code",
   "execution_count": null,
   "metadata": {},
   "outputs": [],
   "source": [
    "sns.distplot(k)"
   ]
  },
  {
   "cell_type": "code",
   "execution_count": null,
   "metadata": {},
   "outputs": [],
   "source": [
    "x.mean(),np.array(k).mean()"
   ]
  },
  {
   "cell_type": "code",
   "execution_count": null,
   "metadata": {},
   "outputs": [],
   "source": [
    "x.var()/1000,np.array(k).var()"
   ]
  },
  {
   "cell_type": "markdown",
   "metadata": {
    "collapsed": true
   },
   "source": [
    "## Single Sample T-Test"
   ]
  },
  {
   "cell_type": "code",
   "execution_count": 6,
   "metadata": {},
   "outputs": [],
   "source": [
    "file=r'/home/siddarth.jha@npci.org.in/Documents/Training/Data/winequality-white.csv'\n",
    "wine_data=pd.read_csv(file,delimiter=';')"
   ]
  },
  {
   "cell_type": "code",
   "execution_count": null,
   "metadata": {},
   "outputs": [],
   "source": [
    "wine_data"
   ]
  },
  {
   "cell_type": "code",
   "execution_count": null,
   "metadata": {},
   "outputs": [],
   "source": [
    "from scipy.stats import ttest_1samp"
   ]
  },
  {
   "cell_type": "code",
   "execution_count": null,
   "metadata": {},
   "outputs": [],
   "source": [
    "ttest_1samp(wine_data['fixed acidity'],popmean=6.82)\n",
    "\n",
    "# how to do single tailed test or single sided tests"
   ]
  },
  {
   "cell_type": "markdown",
   "metadata": {},
   "source": [
    "## Paired T-test"
   ]
  },
  {
   "cell_type": "code",
   "execution_count": 10,
   "metadata": {},
   "outputs": [],
   "source": [
    "file=r'/home/siddarth.jha@npci.org.in/Documents/Training/Data/hsb2.sas7bdat'\n",
    "data=pd.read_sas(file)"
   ]
  },
  {
   "cell_type": "code",
   "execution_count": 11,
   "metadata": {},
   "outputs": [
    {
     "data": {
      "text/html": [
       "<div>\n",
       "<style scoped>\n",
       "    .dataframe tbody tr th:only-of-type {\n",
       "        vertical-align: middle;\n",
       "    }\n",
       "\n",
       "    .dataframe tbody tr th {\n",
       "        vertical-align: top;\n",
       "    }\n",
       "\n",
       "    .dataframe thead th {\n",
       "        text-align: right;\n",
       "    }\n",
       "</style>\n",
       "<table border=\"1\" class=\"dataframe\">\n",
       "  <thead>\n",
       "    <tr style=\"text-align: right;\">\n",
       "      <th></th>\n",
       "      <th>id</th>\n",
       "      <th>female</th>\n",
       "      <th>race</th>\n",
       "      <th>ses</th>\n",
       "      <th>schtyp</th>\n",
       "      <th>prog</th>\n",
       "      <th>read</th>\n",
       "      <th>write</th>\n",
       "      <th>math</th>\n",
       "      <th>science</th>\n",
       "      <th>socst</th>\n",
       "    </tr>\n",
       "  </thead>\n",
       "  <tbody>\n",
       "    <tr>\n",
       "      <th>0</th>\n",
       "      <td>70.0</td>\n",
       "      <td>0.0</td>\n",
       "      <td>4.0</td>\n",
       "      <td>1.0</td>\n",
       "      <td>1.0</td>\n",
       "      <td>1.0</td>\n",
       "      <td>57.0</td>\n",
       "      <td>52.0</td>\n",
       "      <td>41.0</td>\n",
       "      <td>47.0</td>\n",
       "      <td>57.0</td>\n",
       "    </tr>\n",
       "    <tr>\n",
       "      <th>1</th>\n",
       "      <td>121.0</td>\n",
       "      <td>1.0</td>\n",
       "      <td>4.0</td>\n",
       "      <td>2.0</td>\n",
       "      <td>1.0</td>\n",
       "      <td>3.0</td>\n",
       "      <td>68.0</td>\n",
       "      <td>59.0</td>\n",
       "      <td>53.0</td>\n",
       "      <td>63.0</td>\n",
       "      <td>61.0</td>\n",
       "    </tr>\n",
       "    <tr>\n",
       "      <th>2</th>\n",
       "      <td>86.0</td>\n",
       "      <td>0.0</td>\n",
       "      <td>4.0</td>\n",
       "      <td>3.0</td>\n",
       "      <td>1.0</td>\n",
       "      <td>1.0</td>\n",
       "      <td>44.0</td>\n",
       "      <td>33.0</td>\n",
       "      <td>54.0</td>\n",
       "      <td>58.0</td>\n",
       "      <td>31.0</td>\n",
       "    </tr>\n",
       "    <tr>\n",
       "      <th>3</th>\n",
       "      <td>141.0</td>\n",
       "      <td>0.0</td>\n",
       "      <td>4.0</td>\n",
       "      <td>3.0</td>\n",
       "      <td>1.0</td>\n",
       "      <td>3.0</td>\n",
       "      <td>63.0</td>\n",
       "      <td>44.0</td>\n",
       "      <td>47.0</td>\n",
       "      <td>53.0</td>\n",
       "      <td>56.0</td>\n",
       "    </tr>\n",
       "    <tr>\n",
       "      <th>4</th>\n",
       "      <td>172.0</td>\n",
       "      <td>0.0</td>\n",
       "      <td>4.0</td>\n",
       "      <td>2.0</td>\n",
       "      <td>1.0</td>\n",
       "      <td>2.0</td>\n",
       "      <td>47.0</td>\n",
       "      <td>52.0</td>\n",
       "      <td>57.0</td>\n",
       "      <td>53.0</td>\n",
       "      <td>61.0</td>\n",
       "    </tr>\n",
       "    <tr>\n",
       "      <th>...</th>\n",
       "      <td>...</td>\n",
       "      <td>...</td>\n",
       "      <td>...</td>\n",
       "      <td>...</td>\n",
       "      <td>...</td>\n",
       "      <td>...</td>\n",
       "      <td>...</td>\n",
       "      <td>...</td>\n",
       "      <td>...</td>\n",
       "      <td>...</td>\n",
       "      <td>...</td>\n",
       "    </tr>\n",
       "    <tr>\n",
       "      <th>195</th>\n",
       "      <td>31.0</td>\n",
       "      <td>1.0</td>\n",
       "      <td>2.0</td>\n",
       "      <td>2.0</td>\n",
       "      <td>2.0</td>\n",
       "      <td>1.0</td>\n",
       "      <td>55.0</td>\n",
       "      <td>59.0</td>\n",
       "      <td>52.0</td>\n",
       "      <td>42.0</td>\n",
       "      <td>56.0</td>\n",
       "    </tr>\n",
       "    <tr>\n",
       "      <th>196</th>\n",
       "      <td>145.0</td>\n",
       "      <td>1.0</td>\n",
       "      <td>4.0</td>\n",
       "      <td>2.0</td>\n",
       "      <td>1.0</td>\n",
       "      <td>3.0</td>\n",
       "      <td>42.0</td>\n",
       "      <td>46.0</td>\n",
       "      <td>38.0</td>\n",
       "      <td>36.0</td>\n",
       "      <td>46.0</td>\n",
       "    </tr>\n",
       "    <tr>\n",
       "      <th>197</th>\n",
       "      <td>187.0</td>\n",
       "      <td>1.0</td>\n",
       "      <td>4.0</td>\n",
       "      <td>2.0</td>\n",
       "      <td>2.0</td>\n",
       "      <td>1.0</td>\n",
       "      <td>57.0</td>\n",
       "      <td>41.0</td>\n",
       "      <td>57.0</td>\n",
       "      <td>55.0</td>\n",
       "      <td>52.0</td>\n",
       "    </tr>\n",
       "    <tr>\n",
       "      <th>198</th>\n",
       "      <td>118.0</td>\n",
       "      <td>1.0</td>\n",
       "      <td>4.0</td>\n",
       "      <td>2.0</td>\n",
       "      <td>1.0</td>\n",
       "      <td>1.0</td>\n",
       "      <td>55.0</td>\n",
       "      <td>62.0</td>\n",
       "      <td>58.0</td>\n",
       "      <td>58.0</td>\n",
       "      <td>61.0</td>\n",
       "    </tr>\n",
       "    <tr>\n",
       "      <th>199</th>\n",
       "      <td>137.0</td>\n",
       "      <td>1.0</td>\n",
       "      <td>4.0</td>\n",
       "      <td>3.0</td>\n",
       "      <td>1.0</td>\n",
       "      <td>2.0</td>\n",
       "      <td>63.0</td>\n",
       "      <td>65.0</td>\n",
       "      <td>65.0</td>\n",
       "      <td>53.0</td>\n",
       "      <td>61.0</td>\n",
       "    </tr>\n",
       "  </tbody>\n",
       "</table>\n",
       "<p>200 rows × 11 columns</p>\n",
       "</div>"
      ],
      "text/plain": [
       "        id  female  race  ses  schtyp  prog  read  write  math  science  socst\n",
       "0     70.0     0.0   4.0  1.0     1.0   1.0  57.0   52.0  41.0     47.0   57.0\n",
       "1    121.0     1.0   4.0  2.0     1.0   3.0  68.0   59.0  53.0     63.0   61.0\n",
       "2     86.0     0.0   4.0  3.0     1.0   1.0  44.0   33.0  54.0     58.0   31.0\n",
       "3    141.0     0.0   4.0  3.0     1.0   3.0  63.0   44.0  47.0     53.0   56.0\n",
       "4    172.0     0.0   4.0  2.0     1.0   2.0  47.0   52.0  57.0     53.0   61.0\n",
       "..     ...     ...   ...  ...     ...   ...   ...    ...   ...      ...    ...\n",
       "195   31.0     1.0   2.0  2.0     2.0   1.0  55.0   59.0  52.0     42.0   56.0\n",
       "196  145.0     1.0   4.0  2.0     1.0   3.0  42.0   46.0  38.0     36.0   46.0\n",
       "197  187.0     1.0   4.0  2.0     2.0   1.0  57.0   41.0  57.0     55.0   52.0\n",
       "198  118.0     1.0   4.0  2.0     1.0   1.0  55.0   62.0  58.0     58.0   61.0\n",
       "199  137.0     1.0   4.0  3.0     1.0   2.0  63.0   65.0  65.0     53.0   61.0\n",
       "\n",
       "[200 rows x 11 columns]"
      ]
     },
     "execution_count": 11,
     "metadata": {},
     "output_type": "execute_result"
    }
   ],
   "source": [
    "data"
   ]
  },
  {
   "cell_type": "code",
   "execution_count": null,
   "metadata": {},
   "outputs": [],
   "source": [
    "from scipy.stats import ttest_rel"
   ]
  },
  {
   "cell_type": "code",
   "execution_count": null,
   "metadata": {},
   "outputs": [],
   "source": [
    "ttest_rel(data['read'],data['write'])"
   ]
  },
  {
   "cell_type": "markdown",
   "metadata": {},
   "source": [
    "# Unpaired T-test"
   ]
  },
  {
   "cell_type": "markdown",
   "metadata": {},
   "source": [
    "### Variance Test"
   ]
  },
  {
   "cell_type": "code",
   "execution_count": null,
   "metadata": {},
   "outputs": [],
   "source": [
    "from scipy.stats import levene"
   ]
  },
  {
   "cell_type": "code",
   "execution_count": null,
   "metadata": {},
   "outputs": [],
   "source": [
    "levene(data.loc[data['female']==1,'read'],data.loc[data['female']==0,'read'])"
   ]
  },
  {
   "cell_type": "code",
   "execution_count": null,
   "metadata": {},
   "outputs": [],
   "source": [
    "# this means variances are equal"
   ]
  },
  {
   "cell_type": "markdown",
   "metadata": {},
   "source": [
    "### now we go ahead with the test"
   ]
  },
  {
   "cell_type": "code",
   "execution_count": null,
   "metadata": {},
   "outputs": [],
   "source": [
    "from scipy.stats import ttest_ind"
   ]
  },
  {
   "cell_type": "code",
   "execution_count": null,
   "metadata": {},
   "outputs": [],
   "source": [
    "ttest_ind(data.loc[data['female']==1,'read'],\n",
    "          data.loc[data['female']==0,'read'],\n",
    "          equal_var=True)"
   ]
  },
  {
   "cell_type": "markdown",
   "metadata": {
    "collapsed": true
   },
   "source": [
    "# Anova : for more than two groups"
   ]
  },
  {
   "cell_type": "code",
   "execution_count": null,
   "metadata": {},
   "outputs": [],
   "source": [
    "wine_data['quality'].unique()"
   ]
  },
  {
   "cell_type": "code",
   "execution_count": null,
   "metadata": {},
   "outputs": [],
   "source": [
    "alcohol_grps=[wine_data.loc[wine_data['quality']==q,'alcohol'].values \n",
    "              \n",
    "              for q in wine_data['quality'].unique() ]"
   ]
  },
  {
   "cell_type": "code",
   "execution_count": null,
   "metadata": {},
   "outputs": [],
   "source": [
    "wine_data['quality'].value_counts()"
   ]
  },
  {
   "cell_type": "code",
   "execution_count": null,
   "metadata": {},
   "outputs": [],
   "source": [
    "from scipy.stats import f_oneway"
   ]
  },
  {
   "cell_type": "code",
   "execution_count": null,
   "metadata": {},
   "outputs": [],
   "source": [
    "f_oneway(*alcohol_grps)\n"
   ]
  },
  {
   "cell_type": "markdown",
   "metadata": {},
   "source": [
    "### Pairwise comparison between groups"
   ]
  },
  {
   "cell_type": "code",
   "execution_count": null,
   "metadata": {},
   "outputs": [],
   "source": []
  },
  {
   "cell_type": "code",
   "execution_count": 7,
   "metadata": {},
   "outputs": [],
   "source": [
    "from statsmodels.stats.multicomp import pairwise_tukeyhsd"
   ]
  },
  {
   "cell_type": "code",
   "execution_count": 8,
   "metadata": {},
   "outputs": [],
   "source": [
    "tukey = pairwise_tukeyhsd(endog=wine_data['alcohol'],     # Data\n",
    "                          groups=wine_data['quality'],   # Groups\n",
    "                          alpha=0.05)          # Significance level"
   ]
  },
  {
   "cell_type": "code",
   "execution_count": 9,
   "metadata": {},
   "outputs": [
    {
     "data": {
      "text/html": [
       "<table class=\"simpletable\">\n",
       "<caption>Multiple Comparison of Means - Tukey HSD, FWER=0.05</caption>\n",
       "<tr>\n",
       "  <th>group1</th> <th>group2</th> <th>meandiff</th>  <th>p-adj</th>  <th>lower</th>   <th>upper</th>  <th>reject</th>\n",
       "</tr>\n",
       "<tr>\n",
       "     <td>3</td>      <td>4</td>    <td>-0.1925</td>   <td>0.9</td>  <td>-0.9526</td> <td>0.5675</td>   <td>False</td>\n",
       "</tr>\n",
       "<tr>\n",
       "     <td>3</td>      <td>5</td>    <td>-0.5362</td> <td>0.3013</td> <td>-1.2584</td> <td>0.1861</td>   <td>False</td>\n",
       "</tr>\n",
       "<tr>\n",
       "     <td>3</td>      <td>6</td>    <td>0.2304</td>    <td>0.9</td>  <td>-0.4902</td> <td>0.9509</td>   <td>False</td>\n",
       "</tr>\n",
       "<tr>\n",
       "     <td>3</td>      <td>7</td>    <td>1.0229</td>   <td>0.001</td> <td>0.2975</td>  <td>1.7484</td>   <td>True</td> \n",
       "</tr>\n",
       "<tr>\n",
       "     <td>3</td>      <td>8</td>     <td>1.291</td>   <td>0.001</td> <td>0.5338</td>  <td>2.0482</td>   <td>True</td> \n",
       "</tr>\n",
       "<tr>\n",
       "     <td>3</td>      <td>9</td>     <td>1.835</td>  <td>0.0132</td>  <td>0.231</td>   <td>3.439</td>   <td>True</td> \n",
       "</tr>\n",
       "<tr>\n",
       "     <td>4</td>      <td>5</td>    <td>-0.3436</td> <td>0.0025</td> <td>-0.6086</td> <td>-0.0787</td>  <td>True</td> \n",
       "</tr>\n",
       "<tr>\n",
       "     <td>4</td>      <td>6</td>    <td>0.4229</td>   <td>0.001</td> <td>0.1625</td>  <td>0.6833</td>   <td>True</td> \n",
       "</tr>\n",
       "<tr>\n",
       "     <td>4</td>      <td>7</td>    <td>1.2155</td>   <td>0.001</td> <td>0.9419</td>   <td>1.489</td>   <td>True</td> \n",
       "</tr>\n",
       "<tr>\n",
       "     <td>4</td>      <td>8</td>    <td>1.4835</td>   <td>0.001</td> <td>1.1343</td>  <td>1.8327</td>   <td>True</td> \n",
       "</tr>\n",
       "<tr>\n",
       "     <td>4</td>      <td>9</td>    <td>2.0275</td>   <td>0.001</td> <td>0.5711</td>   <td>3.484</td>   <td>True</td> \n",
       "</tr>\n",
       "<tr>\n",
       "     <td>5</td>      <td>6</td>    <td>0.7665</td>   <td>0.001</td> <td>0.6582</td>  <td>0.8749</td>   <td>True</td> \n",
       "</tr>\n",
       "<tr>\n",
       "     <td>5</td>      <td>7</td>    <td>1.5591</td>   <td>0.001</td> <td>1.4221</td>  <td>1.6961</td>   <td>True</td> \n",
       "</tr>\n",
       "<tr>\n",
       "     <td>5</td>      <td>8</td>    <td>1.8272</td>   <td>0.001</td> <td>1.5705</td>  <td>2.0838</td>   <td>True</td> \n",
       "</tr>\n",
       "<tr>\n",
       "     <td>5</td>      <td>9</td>    <td>2.3712</td>   <td>0.001</td> <td>0.9341</td>  <td>3.8083</td>   <td>True</td> \n",
       "</tr>\n",
       "<tr>\n",
       "     <td>6</td>      <td>7</td>    <td>0.7926</td>   <td>0.001</td> <td>0.6646</td>  <td>0.9205</td>   <td>True</td> \n",
       "</tr>\n",
       "<tr>\n",
       "     <td>6</td>      <td>8</td>    <td>1.0606</td>   <td>0.001</td> <td>0.8087</td>  <td>1.3126</td>   <td>True</td> \n",
       "</tr>\n",
       "<tr>\n",
       "     <td>6</td>      <td>9</td>    <td>1.6046</td>  <td>0.0172</td> <td>0.1684</td>  <td>3.0409</td>   <td>True</td> \n",
       "</tr>\n",
       "<tr>\n",
       "     <td>7</td>      <td>8</td>    <td>0.2681</td>  <td>0.0461</td> <td>0.0025</td>  <td>0.5336</td>   <td>True</td> \n",
       "</tr>\n",
       "<tr>\n",
       "     <td>7</td>      <td>9</td>    <td>0.8121</td>  <td>0.6206</td> <td>-0.6266</td> <td>2.2508</td>   <td>False</td>\n",
       "</tr>\n",
       "<tr>\n",
       "     <td>8</td>      <td>9</td>     <td>0.544</td>    <td>0.9</td>  <td>-0.911</td>   <td>1.999</td>   <td>False</td>\n",
       "</tr>\n",
       "</table>"
      ],
      "text/plain": [
       "<class 'statsmodels.iolib.table.SimpleTable'>"
      ]
     },
     "execution_count": 9,
     "metadata": {},
     "output_type": "execute_result"
    }
   ],
   "source": [
    "tukey.summary()"
   ]
  },
  {
   "cell_type": "markdown",
   "metadata": {},
   "source": [
    "# Chisq Test for categorical data"
   ]
  },
  {
   "cell_type": "markdown",
   "metadata": {},
   "source": [
    "### for a single column: test for expected proportions"
   ]
  },
  {
   "cell_type": "code",
   "execution_count": 12,
   "metadata": {},
   "outputs": [],
   "source": [
    "from scipy.stats import chisquare"
   ]
  },
  {
   "cell_type": "code",
   "execution_count": 22,
   "metadata": {},
   "outputs": [],
   "source": [
    "k=data['race'].value_counts()"
   ]
  },
  {
   "cell_type": "code",
   "execution_count": 23,
   "metadata": {},
   "outputs": [
    {
     "data": {
      "text/plain": [
       "4.0    145\n",
       "1.0     24\n",
       "3.0     20\n",
       "2.0     11\n",
       "Name: race, dtype: int64"
      ]
     },
     "execution_count": 23,
     "metadata": {},
     "output_type": "execute_result"
    }
   ],
   "source": [
    "k"
   ]
  },
  {
   "cell_type": "code",
   "execution_count": 24,
   "metadata": {},
   "outputs": [
    {
     "data": {
      "text/plain": [
       "Power_divergenceResult(statistic=100.0, pvalue=1.5541594313896026e-21)"
      ]
     },
     "execution_count": 24,
     "metadata": {},
     "output_type": "execute_result"
    }
   ],
   "source": [
    "chisquare(k.values,[72.5,12,10,5.5])\n",
    "# let me come back to you on this"
   ]
  },
  {
   "cell_type": "markdown",
   "metadata": {},
   "source": [
    "### For two columns"
   ]
  },
  {
   "cell_type": "code",
   "execution_count": 25,
   "metadata": {},
   "outputs": [],
   "source": [
    "from scipy.stats import chi2_contingency"
   ]
  },
  {
   "cell_type": "code",
   "execution_count": 26,
   "metadata": {},
   "outputs": [],
   "source": [
    "k=pd.crosstab(data['female'],data['ses']).values"
   ]
  },
  {
   "cell_type": "code",
   "execution_count": 27,
   "metadata": {},
   "outputs": [
    {
     "data": {
      "text/plain": [
       "array([[15, 47, 29],\n",
       "       [32, 48, 29]])"
      ]
     },
     "execution_count": 27,
     "metadata": {},
     "output_type": "execute_result"
    }
   ],
   "source": [
    "k"
   ]
  },
  {
   "cell_type": "code",
   "execution_count": 28,
   "metadata": {},
   "outputs": [],
   "source": [
    "res=chi2_contingency(k)"
   ]
  },
  {
   "cell_type": "code",
   "execution_count": 30,
   "metadata": {},
   "outputs": [],
   "source": [
    "k=pd.crosstab(data['race'],data['ses']).values"
   ]
  },
  {
   "cell_type": "code",
   "execution_count": 33,
   "metadata": {},
   "outputs": [
    {
     "data": {
      "text/plain": [
       "0.0050642308532138445"
      ]
     },
     "execution_count": 33,
     "metadata": {},
     "output_type": "execute_result"
    }
   ],
   "source": [
    "chi2_contingency(k)[1]"
   ]
  },
  {
   "cell_type": "markdown",
   "metadata": {},
   "source": [
    "# Linear Regression with p-values : using stats model"
   ]
  },
  {
   "cell_type": "code",
   "execution_count": 3,
   "metadata": {},
   "outputs": [],
   "source": [
    "file=r'/home/siddarth.jha@npci.org.in/Documents/Training/Data/loans data.csv'\n",
    "\n",
    "ld=pd.read_csv(file)"
   ]
  },
  {
   "cell_type": "code",
   "execution_count": 4,
   "metadata": {},
   "outputs": [
    {
     "name": "stdout",
     "output_type": "stream",
     "text": [
      "Loan.Length\n",
      "Loan.Purpose\n",
      "State\n",
      "Home.Ownership\n",
      "Employment.Length\n"
     ]
    }
   ],
   "source": [
    "ld.drop(['ID','Amount.Funded.By.Investors'],axis=1,\n",
    "        inplace=True)\n",
    "\n",
    "for col in ['Interest.Rate','Debt.To.Income.Ratio']:\n",
    "    ld[col]=ld[col].str.replace(\"%\",\"\")\n",
    "\n",
    "for col in ['Amount.Requested', 'Interest.Rate','Debt.To.Income.Ratio',\n",
    "            'Open.CREDIT.Lines','Revolving.CREDIT.Balance']:\n",
    "    ld[col]=pd.to_numeric(ld[col],errors='coerce')\n",
    "    \n",
    "\n",
    "k=ld['FICO.Range'].str.split(\"-\",expand=True)\n",
    "\n",
    "\n",
    "k=k.astype(float)\n",
    "\n",
    "ld['fico']=0.5*(k[0]+k[1])\n",
    "\n",
    "del ld['FICO.Range']\n",
    "\n",
    "# Notice that to apply string function on pandas data frame columns you need to str attribute\n",
    "cat_cols=ld.select_dtypes(['object']).columns\n",
    "\n",
    "cat_cols\n",
    "\n",
    "for col in cat_cols:\n",
    "    freqs=ld[col].value_counts()\n",
    "    k=freqs.index[freqs>20][:-1]\n",
    "    for cat in k:\n",
    "        name=col+'_'+cat\n",
    "        ld[name]=(ld[col]==cat).astype(int)\n",
    "    del ld[col]\n",
    "    print(col)\n",
    "    "
   ]
  },
  {
   "cell_type": "code",
   "execution_count": 5,
   "metadata": {},
   "outputs": [],
   "source": [
    "from sklearn.model_selection import train_test_split"
   ]
  },
  {
   "cell_type": "code",
   "execution_count": 6,
   "metadata": {},
   "outputs": [],
   "source": [
    "ld_train,ld_test=train_test_split(ld,\n",
    "                                  test_size=0.2,\n",
    "                                  random_state=2)"
   ]
  },
  {
   "cell_type": "code",
   "execution_count": 7,
   "metadata": {},
   "outputs": [
    {
     "name": "stderr",
     "output_type": "stream",
     "text": [
      "/home/siddarth.jha@npci.org.in/anaconda3/lib/python3.8/site-packages/pandas/core/indexing.py:1817: SettingWithCopyWarning: \n",
      "A value is trying to be set on a copy of a slice from a DataFrame.\n",
      "Try using .loc[row_indexer,col_indexer] = value instead\n",
      "\n",
      "See the caveats in the documentation: https://pandas.pydata.org/pandas-docs/stable/user_guide/indexing.html#returning-a-view-versus-a-copy\n",
      "  self._setitem_single_column(loc, value, pi)\n"
     ]
    }
   ],
   "source": [
    "for col in ld_train.columns:\n",
    "    if ld_train[col].isnull().sum()>0:\n",
    "        ld_train.loc[ld_train[col].isnull(),\n",
    "                     col]=ld_train[col].mean()\n",
    "\n",
    "\n",
    "\n",
    "for col in ld_test.columns:\n",
    "    if ld_test[col].isnull().sum()>0:\n",
    "        ld_test.loc[ld_test[col].isnull(),\n",
    "                    col]=ld_train[col].mean()"
   ]
  },
  {
   "cell_type": "code",
   "execution_count": 9,
   "metadata": {},
   "outputs": [],
   "source": [
    "ld_train.reset_index(drop=True,inplace=True)\n",
    "x_train=ld_train.drop('Interest.Rate',axis=1)\n",
    "y_train=ld_train['Interest.Rate']"
   ]
  },
  {
   "cell_type": "code",
   "execution_count": 10,
   "metadata": {},
   "outputs": [],
   "source": [
    "import statsmodels.api as sm"
   ]
  },
  {
   "cell_type": "code",
   "execution_count": 12,
   "metadata": {},
   "outputs": [
    {
     "name": "stderr",
     "output_type": "stream",
     "text": [
      "/home/siddarth.jha@npci.org.in/anaconda3/lib/python3.8/site-packages/statsmodels/tsa/tsatools.py:142: FutureWarning: In a future version of pandas all arguments of concat except for the argument 'objs' will be keyword-only\n",
      "  x = pd.concat(x[::order], 1)\n"
     ]
    }
   ],
   "source": [
    "x_train_new = sm.add_constant(x_train)"
   ]
  },
  {
   "cell_type": "code",
   "execution_count": 13,
   "metadata": {},
   "outputs": [
    {
     "data": {
      "text/html": [
       "<div>\n",
       "<style scoped>\n",
       "    .dataframe tbody tr th:only-of-type {\n",
       "        vertical-align: middle;\n",
       "    }\n",
       "\n",
       "    .dataframe tbody tr th {\n",
       "        vertical-align: top;\n",
       "    }\n",
       "\n",
       "    .dataframe thead th {\n",
       "        text-align: right;\n",
       "    }\n",
       "</style>\n",
       "<table border=\"1\" class=\"dataframe\">\n",
       "  <thead>\n",
       "    <tr style=\"text-align: right;\">\n",
       "      <th></th>\n",
       "      <th>const</th>\n",
       "      <th>Amount.Requested</th>\n",
       "      <th>Debt.To.Income.Ratio</th>\n",
       "      <th>Monthly.Income</th>\n",
       "      <th>Open.CREDIT.Lines</th>\n",
       "      <th>Revolving.CREDIT.Balance</th>\n",
       "      <th>Inquiries.in.the.Last.6.Months</th>\n",
       "      <th>fico</th>\n",
       "      <th>Loan.Length_36 months</th>\n",
       "      <th>Loan.Purpose_debt_consolidation</th>\n",
       "      <th>...</th>\n",
       "      <th>Employment.Length_10+ years</th>\n",
       "      <th>Employment.Length_&lt; 1 year</th>\n",
       "      <th>Employment.Length_2 years</th>\n",
       "      <th>Employment.Length_3 years</th>\n",
       "      <th>Employment.Length_5 years</th>\n",
       "      <th>Employment.Length_4 years</th>\n",
       "      <th>Employment.Length_1 year</th>\n",
       "      <th>Employment.Length_6 years</th>\n",
       "      <th>Employment.Length_7 years</th>\n",
       "      <th>Employment.Length_8 years</th>\n",
       "    </tr>\n",
       "  </thead>\n",
       "  <tbody>\n",
       "    <tr>\n",
       "      <th>0</th>\n",
       "      <td>1.0</td>\n",
       "      <td>3250.0</td>\n",
       "      <td>21.44</td>\n",
       "      <td>5000.00</td>\n",
       "      <td>12.0</td>\n",
       "      <td>20564.0</td>\n",
       "      <td>0.0</td>\n",
       "      <td>677.0</td>\n",
       "      <td>1</td>\n",
       "      <td>1</td>\n",
       "      <td>...</td>\n",
       "      <td>0</td>\n",
       "      <td>0</td>\n",
       "      <td>0</td>\n",
       "      <td>1</td>\n",
       "      <td>0</td>\n",
       "      <td>0</td>\n",
       "      <td>0</td>\n",
       "      <td>0</td>\n",
       "      <td>0</td>\n",
       "      <td>0</td>\n",
       "    </tr>\n",
       "    <tr>\n",
       "      <th>1</th>\n",
       "      <td>1.0</td>\n",
       "      <td>16000.0</td>\n",
       "      <td>7.78</td>\n",
       "      <td>4166.67</td>\n",
       "      <td>6.0</td>\n",
       "      <td>4240.0</td>\n",
       "      <td>3.0</td>\n",
       "      <td>737.0</td>\n",
       "      <td>0</td>\n",
       "      <td>0</td>\n",
       "      <td>...</td>\n",
       "      <td>0</td>\n",
       "      <td>0</td>\n",
       "      <td>1</td>\n",
       "      <td>0</td>\n",
       "      <td>0</td>\n",
       "      <td>0</td>\n",
       "      <td>0</td>\n",
       "      <td>0</td>\n",
       "      <td>0</td>\n",
       "      <td>0</td>\n",
       "    </tr>\n",
       "    <tr>\n",
       "      <th>2</th>\n",
       "      <td>1.0</td>\n",
       "      <td>10000.0</td>\n",
       "      <td>1.69</td>\n",
       "      <td>8000.00</td>\n",
       "      <td>6.0</td>\n",
       "      <td>8974.0</td>\n",
       "      <td>0.0</td>\n",
       "      <td>797.0</td>\n",
       "      <td>1</td>\n",
       "      <td>0</td>\n",
       "      <td>...</td>\n",
       "      <td>0</td>\n",
       "      <td>0</td>\n",
       "      <td>0</td>\n",
       "      <td>1</td>\n",
       "      <td>0</td>\n",
       "      <td>0</td>\n",
       "      <td>0</td>\n",
       "      <td>0</td>\n",
       "      <td>0</td>\n",
       "      <td>0</td>\n",
       "    </tr>\n",
       "    <tr>\n",
       "      <th>3</th>\n",
       "      <td>1.0</td>\n",
       "      <td>3600.0</td>\n",
       "      <td>10.00</td>\n",
       "      <td>5750.00</td>\n",
       "      <td>8.0</td>\n",
       "      <td>10766.0</td>\n",
       "      <td>2.0</td>\n",
       "      <td>672.0</td>\n",
       "      <td>1</td>\n",
       "      <td>0</td>\n",
       "      <td>...</td>\n",
       "      <td>0</td>\n",
       "      <td>0</td>\n",
       "      <td>0</td>\n",
       "      <td>0</td>\n",
       "      <td>0</td>\n",
       "      <td>1</td>\n",
       "      <td>0</td>\n",
       "      <td>0</td>\n",
       "      <td>0</td>\n",
       "      <td>0</td>\n",
       "    </tr>\n",
       "    <tr>\n",
       "      <th>4</th>\n",
       "      <td>1.0</td>\n",
       "      <td>14000.0</td>\n",
       "      <td>3.47</td>\n",
       "      <td>8750.00</td>\n",
       "      <td>6.0</td>\n",
       "      <td>9035.0</td>\n",
       "      <td>1.0</td>\n",
       "      <td>682.0</td>\n",
       "      <td>1</td>\n",
       "      <td>1</td>\n",
       "      <td>...</td>\n",
       "      <td>1</td>\n",
       "      <td>0</td>\n",
       "      <td>0</td>\n",
       "      <td>0</td>\n",
       "      <td>0</td>\n",
       "      <td>0</td>\n",
       "      <td>0</td>\n",
       "      <td>0</td>\n",
       "      <td>0</td>\n",
       "      <td>0</td>\n",
       "    </tr>\n",
       "  </tbody>\n",
       "</table>\n",
       "<p>5 rows × 59 columns</p>\n",
       "</div>"
      ],
      "text/plain": [
       "   const  Amount.Requested  Debt.To.Income.Ratio  Monthly.Income  \\\n",
       "0    1.0            3250.0                 21.44         5000.00   \n",
       "1    1.0           16000.0                  7.78         4166.67   \n",
       "2    1.0           10000.0                  1.69         8000.00   \n",
       "3    1.0            3600.0                 10.00         5750.00   \n",
       "4    1.0           14000.0                  3.47         8750.00   \n",
       "\n",
       "   Open.CREDIT.Lines  Revolving.CREDIT.Balance  \\\n",
       "0               12.0                   20564.0   \n",
       "1                6.0                    4240.0   \n",
       "2                6.0                    8974.0   \n",
       "3                8.0                   10766.0   \n",
       "4                6.0                    9035.0   \n",
       "\n",
       "   Inquiries.in.the.Last.6.Months   fico  Loan.Length_36 months  \\\n",
       "0                             0.0  677.0                      1   \n",
       "1                             3.0  737.0                      0   \n",
       "2                             0.0  797.0                      1   \n",
       "3                             2.0  672.0                      1   \n",
       "4                             1.0  682.0                      1   \n",
       "\n",
       "   Loan.Purpose_debt_consolidation  ...  Employment.Length_10+ years  \\\n",
       "0                                1  ...                            0   \n",
       "1                                0  ...                            0   \n",
       "2                                0  ...                            0   \n",
       "3                                0  ...                            0   \n",
       "4                                1  ...                            1   \n",
       "\n",
       "   Employment.Length_< 1 year  Employment.Length_2 years  \\\n",
       "0                           0                          0   \n",
       "1                           0                          1   \n",
       "2                           0                          0   \n",
       "3                           0                          0   \n",
       "4                           0                          0   \n",
       "\n",
       "   Employment.Length_3 years  Employment.Length_5 years  \\\n",
       "0                          1                          0   \n",
       "1                          0                          0   \n",
       "2                          1                          0   \n",
       "3                          0                          0   \n",
       "4                          0                          0   \n",
       "\n",
       "   Employment.Length_4 years  Employment.Length_1 year  \\\n",
       "0                          0                         0   \n",
       "1                          0                         0   \n",
       "2                          0                         0   \n",
       "3                          1                         0   \n",
       "4                          0                         0   \n",
       "\n",
       "   Employment.Length_6 years  Employment.Length_7 years  \\\n",
       "0                          0                          0   \n",
       "1                          0                          0   \n",
       "2                          0                          0   \n",
       "3                          0                          0   \n",
       "4                          0                          0   \n",
       "\n",
       "   Employment.Length_8 years  \n",
       "0                          0  \n",
       "1                          0  \n",
       "2                          0  \n",
       "3                          0  \n",
       "4                          0  \n",
       "\n",
       "[5 rows x 59 columns]"
      ]
     },
     "execution_count": 13,
     "metadata": {},
     "output_type": "execute_result"
    }
   ],
   "source": [
    "x_train_new.head()"
   ]
  },
  {
   "cell_type": "code",
   "execution_count": 14,
   "metadata": {},
   "outputs": [],
   "source": [
    "mod = sm.OLS( y_train,x_train_new)"
   ]
  },
  {
   "cell_type": "code",
   "execution_count": 15,
   "metadata": {},
   "outputs": [],
   "source": [
    "res = mod.fit()"
   ]
  },
  {
   "cell_type": "code",
   "execution_count": 16,
   "metadata": {},
   "outputs": [
    {
     "name": "stdout",
     "output_type": "stream",
     "text": [
      "                            OLS Regression Results                            \n",
      "==============================================================================\n",
      "Dep. Variable:          Interest.Rate   R-squared:                       0.765\n",
      "Model:                            OLS   Adj. R-squared:                  0.758\n",
      "Method:                 Least Squares   F-statistic:                     108.8\n",
      "Date:                Fri, 06 Aug 2021   Prob (F-statistic):               0.00\n",
      "Time:                        20:14:37   Log-Likelihood:                -4270.2\n",
      "No. Observations:                2000   AIC:                             8658.\n",
      "Df Residuals:                    1941   BIC:                             8989.\n",
      "Df Model:                          58                                         \n",
      "Covariance Type:            nonrobust                                         \n",
      "===================================================================================================\n",
      "                                      coef    std err          t      P>|t|      [0.025      0.975]\n",
      "---------------------------------------------------------------------------------------------------\n",
      "const                              77.1575      1.138     67.774      0.000      74.925      79.390\n",
      "Amount.Requested                    0.0002   7.66e-06     20.746      0.000       0.000       0.000\n",
      "Debt.To.Income.Ratio               -0.0013      0.007     -0.181      0.856      -0.016       0.013\n",
      "Monthly.Income                  -1.729e-05   1.39e-05     -1.240      0.215   -4.46e-05       1e-05\n",
      "Open.CREDIT.Lines                  -0.0281      0.012     -2.366      0.018      -0.051      -0.005\n",
      "Revolving.CREDIT.Balance        -6.116e-06   2.97e-06     -2.060      0.040   -1.19e-05   -2.94e-07\n",
      "Inquiries.in.the.Last.6.Months      0.3112      0.039      7.908      0.000       0.234       0.388\n",
      "fico                               -0.0878      0.001    -61.037      0.000      -0.091      -0.085\n",
      "Loan.Length_36 months              -3.1859      0.128    -24.867      0.000      -3.437      -2.935\n",
      "Loan.Purpose_debt_consolidation    -0.7423      0.313     -2.371      0.018      -1.356      -0.128\n",
      "Loan.Purpose_credit_card           -0.8398      0.326     -2.574      0.010      -1.480      -0.200\n",
      "Loan.Purpose_other                 -0.0323      0.342     -0.094      0.925      -0.704       0.639\n",
      "Loan.Purpose_home_improvement      -0.9091      0.363     -2.505      0.012      -1.621      -0.197\n",
      "Loan.Purpose_major_purchase        -0.4995      0.377     -1.324      0.186      -1.239       0.240\n",
      "Loan.Purpose_small_business        -0.0923      0.385     -0.240      0.811      -0.848       0.664\n",
      "Loan.Purpose_car                   -0.5658      0.442     -1.279      0.201      -1.433       0.302\n",
      "Loan.Purpose_wedding               -0.9847      0.479     -2.055      0.040      -1.924      -0.045\n",
      "Loan.Purpose_medical               -0.6008      0.516     -1.164      0.245      -1.613       0.412\n",
      "Loan.Purpose_moving                 0.8411      0.531      1.584      0.113      -0.200       1.883\n",
      "State_CA                           -0.4695      0.215     -2.181      0.029      -0.892      -0.047\n",
      "State_NY                           -0.4039      0.236     -1.710      0.087      -0.867       0.059\n",
      "State_TX                            0.2214      0.256      0.864      0.388      -0.281       0.724\n",
      "State_FL                           -0.3604      0.253     -1.426      0.154      -0.856       0.135\n",
      "State_IL                           -0.8124      0.293     -2.768      0.006      -1.388      -0.237\n",
      "State_GA                           -0.1952      0.301     -0.648      0.517      -0.786       0.395\n",
      "State_PA                           -0.5860      0.300     -1.954      0.051      -1.174       0.002\n",
      "State_NJ                           -0.5774      0.300     -1.924      0.054      -1.166       0.011\n",
      "State_VA                           -0.2407      0.331     -0.728      0.467      -0.889       0.408\n",
      "State_MA                           -0.3800      0.331     -1.147      0.251      -1.029       0.269\n",
      "State_OH                           -0.0647      0.337     -0.192      0.848      -0.726       0.596\n",
      "State_MD                           -0.0337      0.331     -0.102      0.919      -0.683       0.616\n",
      "State_NC                           -0.3828      0.355     -1.077      0.282      -1.080       0.314\n",
      "State_CO                           -0.5280      0.358     -1.475      0.140      -1.230       0.174\n",
      "State_WA                           -0.3015      0.359     -0.841      0.401      -1.005       0.402\n",
      "State_CT                            0.0928      0.381      0.244      0.808      -0.654       0.840\n",
      "State_AZ                            0.0485      0.394      0.123      0.902      -0.725       0.822\n",
      "State_MI                           -0.2825      0.381     -0.741      0.459      -1.030       0.465\n",
      "State_MN                            0.0166      0.448      0.037      0.971      -0.863       0.896\n",
      "State_AL                           -0.1237      0.424     -0.292      0.770      -0.955       0.707\n",
      "State_MO                           -0.4767      0.442     -1.079      0.281      -1.343       0.389\n",
      "State_NV                           -0.4073      0.429     -0.950      0.342      -1.248       0.433\n",
      "State_OR                            0.1694      0.475      0.357      0.721      -0.762       1.100\n",
      "State_SC                           -0.2237      0.491     -0.455      0.649      -1.187       0.740\n",
      "State_WI                           -0.0436      0.481     -0.091      0.928      -0.986       0.899\n",
      "State_KY                           -0.1197      0.588     -0.204      0.839      -1.273       1.034\n",
      "State_LA                            0.0175      0.513      0.034      0.973      -0.989       1.024\n",
      "State_OK                           -0.9112      0.569     -1.601      0.109      -2.027       0.205\n",
      "Home.Ownership_MORTGAGE            -0.3877      0.180     -2.153      0.031      -0.741      -0.034\n",
      "Home.Ownership_RENT                -0.2288      0.178     -1.284      0.199      -0.578       0.121\n",
      "Employment.Length_10+ years         0.2245      0.205      1.095      0.274      -0.178       0.626\n",
      "Employment.Length_< 1 year         -0.0134      0.240     -0.056      0.955      -0.484       0.457\n",
      "Employment.Length_2 years           0.1433      0.237      0.605      0.545      -0.321       0.608\n",
      "Employment.Length_3 years          -0.1031      0.238     -0.432      0.666      -0.571       0.364\n",
      "Employment.Length_5 years           0.0817      0.247      0.331      0.741      -0.403       0.566\n",
      "Employment.Length_4 years           0.0687      0.250      0.275      0.784      -0.422       0.559\n",
      "Employment.Length_1 year           -0.0008      0.256     -0.003      0.997      -0.503       0.501\n",
      "Employment.Length_6 years           0.0565      0.258      0.219      0.827      -0.450       0.563\n",
      "Employment.Length_7 years           0.0301      0.277      0.109      0.913      -0.513       0.573\n",
      "Employment.Length_8 years          -0.0522      0.293     -0.178      0.859      -0.627       0.522\n",
      "==============================================================================\n",
      "Omnibus:                       99.061   Durbin-Watson:                   1.992\n",
      "Prob(Omnibus):                  0.000   Jarque-Bera (JB):              156.369\n",
      "Skew:                           0.416   Prob(JB):                     1.11e-34\n",
      "Kurtosis:                       4.087   Cond. No.                     7.20e+05\n",
      "==============================================================================\n",
      "\n",
      "Notes:\n",
      "[1] Standard Errors assume that the covariance matrix of the errors is correctly specified.\n",
      "[2] The condition number is large, 7.2e+05. This might indicate that there are\n",
      "strong multicollinearity or other numerical problems.\n"
     ]
    }
   ],
   "source": [
    "print(res.summary())"
   ]
  },
  {
   "cell_type": "code",
   "execution_count": 17,
   "metadata": {},
   "outputs": [],
   "source": [
    "from statsmodels.stats.outliers_influence import variance_inflation_factor"
   ]
  },
  {
   "cell_type": "code",
   "execution_count": 18,
   "metadata": {},
   "outputs": [],
   "source": [
    "vif = [variance_inflation_factor(x_train_new.values, i) for i in range(x_train_new.shape[1])]"
   ]
  },
  {
   "cell_type": "code",
   "execution_count": 19,
   "metadata": {},
   "outputs": [
    {
     "data": {
      "text/plain": [
       "[('const', 600.5977763595605),\n",
       " ('Amount.Requested', 1.6884941511241596),\n",
       " ('Debt.To.Income.Ratio', 1.3877036785078507),\n",
       " ('Monthly.Income', 1.477176690677716),\n",
       " ('Open.CREDIT.Lines', 1.3451066609912332),\n",
       " ('Revolving.CREDIT.Balance', 1.3842482919486563),\n",
       " ('Inquiries.in.the.Last.6.Months', 1.0779462802284037),\n",
       " ('fico', 1.181577159924854),\n",
       " ('Loan.Length_36 months', 1.301060458665705),\n",
       " ('Loan.Purpose_debt_consolidation', 11.343872438350404),\n",
       " ('Loan.Purpose_credit_card', 7.136744836363933),\n",
       " ('Loan.Purpose_other', 4.181198230947039),\n",
       " ('Loan.Purpose_home_improvement', 3.252537612634494),\n",
       " ('Loan.Purpose_major_purchase', 2.6530725310223215),\n",
       " ('Loan.Purpose_small_business', 2.5477592387144954),\n",
       " ('Loan.Purpose_car', 1.8631739796836584),\n",
       " ('Loan.Purpose_wedding', 1.6748579542072817),\n",
       " ('Loan.Purpose_medical', 1.5248921182158963),\n",
       " ('Loan.Purpose_moving', 1.485682132641911),\n",
       " ('State_CA', 3.1612260504341707),\n",
       " ('State_NY', 2.3879641914050618),\n",
       " ('State_TX', 1.943326310292955),\n",
       " ('State_FL', 1.9523217403830595),\n",
       " ('State_IL', 1.587788317906975),\n",
       " ('State_GA', 1.5552472888268933),\n",
       " ('State_PA', 1.5620104843042089),\n",
       " ('State_NJ', 1.5633358906567474),\n",
       " ('State_VA', 1.4278418552239118),\n",
       " ('State_MA', 1.4307753680234339),\n",
       " ('State_OH', 1.408583100956944),\n",
       " ('State_MD', 1.4299473984213082),\n",
       " ('State_NC', 1.3431334372515138),\n",
       " ('State_CO', 1.3339164436208122),\n",
       " ('State_WA', 1.3387353709586063),\n",
       " ('State_CT', 1.2849608873821263),\n",
       " ('State_AZ', 1.2734483828879726),\n",
       " ('State_MI', 1.2860007473514312),\n",
       " ('State_MN', 1.1953061434923324),\n",
       " ('State_AL', 1.2288661301043389),\n",
       " ('State_MO', 1.203376983609019),\n",
       " ('State_NV', 1.2160474182951388),\n",
       " ('State_OR', 1.1870012056464836),\n",
       " ('State_SC', 1.1614958455389401),\n",
       " ('State_WI', 1.1650240331232469),\n",
       " ('State_KY', 1.1144113593508644),\n",
       " ('State_LA', 1.149083506106254),\n",
       " ('State_OK', 1.1169083741303465),\n",
       " ('Home.Ownership_MORTGAGE', 3.7212583932521044),\n",
       " ('Home.Ownership_RENT', 3.657450827371382),\n",
       " ('Employment.Length_10+ years', 3.7178480496371695),\n",
       " ('Employment.Length_< 1 year', 2.271138577257874),\n",
       " ('Employment.Length_2 years', 2.342178109013597),\n",
       " ('Employment.Length_3 years', 2.264283470640226),\n",
       " ('Employment.Length_5 years', 2.079731179114282),\n",
       " ('Employment.Length_4 years', 2.0468456090589666),\n",
       " ('Employment.Length_1 year', 1.9882829750489024),\n",
       " ('Employment.Length_6 years', 1.9202162489386256),\n",
       " ('Employment.Length_7 years', 1.73342063047125),\n",
       " ('Employment.Length_8 years', 1.6010585517731297)]"
      ]
     },
     "execution_count": 19,
     "metadata": {},
     "output_type": "execute_result"
    }
   ],
   "source": [
    "list(zip(x_train_new.columns,vif))"
   ]
  },
  {
   "cell_type": "code",
   "execution_count": null,
   "metadata": {},
   "outputs": [],
   "source": []
  }
 ],
 "metadata": {
  "kernelspec": {
   "display_name": "Python 3",
   "language": "python",
   "name": "python3"
  },
  "language_info": {
   "codemirror_mode": {
    "name": "ipython",
    "version": 3
   },
   "file_extension": ".py",
   "mimetype": "text/x-python",
   "name": "python",
   "nbconvert_exporter": "python",
   "pygments_lexer": "ipython3",
   "version": "3.8.8"
  }
 },
 "nbformat": 4,
 "nbformat_minor": 2
}
